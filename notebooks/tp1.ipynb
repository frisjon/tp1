{
 "cells": [
  {
   "cell_type": "markdown",
   "metadata": {
    "deletable": true,
    "editable": true
   },
   "source": [
    "# 1) Relación Entre Viajes En Bicicleta y el Clima"
   ]
  },
  {
   "cell_type": "code",
   "execution_count": 1,
   "metadata": {
    "collapsed": false,
    "deletable": true,
    "editable": true
   },
   "outputs": [],
   "source": [
    "import numpy as np\n",
    "import pandas as pd\n",
    "\n",
    "import seaborn as sbn\n",
    "import matplotlib.pyplot as plt\n",
    "%matplotlib inline\n",
    "\n",
    "import datetime\n",
    "import calendar"
   ]
  },
  {
   "cell_type": "code",
   "execution_count": 4,
   "metadata": {
    "collapsed": false,
    "deletable": true,
    "editable": true
   },
   "outputs": [],
   "source": [
    "trips = pd.read_csv('data/trip.csv', low_memory=False)\n",
    "weather = pd.read_csv('data/weather.csv', low_memory=False)\n",
    "#Se convierte los dates a datetime64[ns].\n",
    "trips['start_date'] = pd.to_datetime(trips['start_date'])\n",
    "weather['date'] = pd.to_datetime(weather['date'])"
   ]
  },
  {
   "cell_type": "code",
   "execution_count": null,
   "metadata": {
    "collapsed": false,
    "deletable": true,
    "editable": true,
    "scrolled": true
   },
   "outputs": [],
   "source": [
    "#Se agrega una nueva columna date que coincide con weather.\n",
    "trips['date'] = trips['start_date'].apply(lambda x: x.date())\n",
    "#Se convierte date a datetime64[ns].\n",
    "trips['date'] = pd.to_datetime(trips['date'])"
   ]
  },
  {
   "cell_type": "code",
   "execution_count": null,
   "metadata": {
    "collapsed": false,
    "deletable": true,
    "editable": true
   },
   "outputs": [],
   "source": [
    "#Se convierte zip_code a string en weather para coincidir con trips.\n",
    "#NOTA: No se convierte zip_code de trips a int64 por un extraño error en to_numeric.\n",
    "weather['zip_code'] = weather['zip_code'].astype(str)"
   ]
  },
  {
   "cell_type": "code",
   "execution_count": null,
   "metadata": {
    "collapsed": false,
    "deletable": true,
    "editable": true
   },
   "outputs": [],
   "source": [
    "#Formula para convertir F a C.\n",
    "def f_to_c(f_temp):\n",
    "    return round((f_temp - 32) / 1.8, 2)"
   ]
  },
  {
   "cell_type": "code",
   "execution_count": null,
   "metadata": {
    "collapsed": false,
    "deletable": true,
    "editable": true
   },
   "outputs": [],
   "source": [
    "#Se crean columnas con las temperaturas en C.\n",
    "weather['max_temperature_c'] = weather['max_temperature_f'].map(f_to_c)\n",
    "weather['mean_temperature_c'] = weather['mean_temperature_f'].map(f_to_c)\n",
    "weather['min_temperature_c'] = weather['min_temperature_f'].map(f_to_c)"
   ]
  },
  {
   "cell_type": "code",
   "execution_count": null,
   "metadata": {
    "collapsed": true,
    "deletable": true,
    "editable": true
   },
   "outputs": [],
   "source": [
    "#Se crean columnas con visibilidad en Km.\n",
    "weather['max_visibility_km'] = weather['max_visibility_miles'].map(lambda x: x * 1.6)\n",
    "weather['mean_visibility_km'] = weather['mean_visibility_miles'].map(lambda x: x * 1.6)\n",
    "weather['min_visibility_km'] = weather['min_visibility_miles'].map(lambda x: x * 1.6)"
   ]
  },
  {
   "cell_type": "code",
   "execution_count": null,
   "metadata": {
    "collapsed": false,
    "deletable": true,
    "editable": true,
    "scrolled": true
   },
   "outputs": [],
   "source": [
    "#Se combinan los Dataframes.\n",
    "joined = trips.merge(weather, left_on=['date', 'zip_code'], right_on=['date', 'zip_code'])"
   ]
  },
  {
   "cell_type": "code",
   "execution_count": null,
   "metadata": {
    "collapsed": true,
    "deletable": true,
    "editable": true
   },
   "outputs": [],
   "source": [
    "#Funcion para convertir la duracion de segundos a minutos.\n",
    "def s_to_m(time):\n",
    "    return (time / 60)\n",
    "#Funcion para convertir la duracion de segundos a horas redondeo a 3 decimales.\n",
    "def s_to_h(time):\n",
    "    return round((time / 3600),3)"
   ]
  },
  {
   "cell_type": "code",
   "execution_count": null,
   "metadata": {
    "collapsed": true,
    "deletable": true,
    "editable": true
   },
   "outputs": [],
   "source": [
    "#Se crea una columna con la duracion en minutos y la duracion en horas.\n",
    "joined['duration_m'] = joined['duration'].map(s_to_m)\n",
    "joined['duration_h'] = joined['duration'].map(s_to_h)"
   ]
  },
  {
   "cell_type": "markdown",
   "metadata": {
    "deletable": true,
    "editable": true
   },
   "source": [
    "## 1.1) Viajes y Temperatura"
   ]
  },
  {
   "cell_type": "markdown",
   "metadata": {
    "deletable": true,
    "editable": true
   },
   "source": [
    "En esta serie de plots se analizará si hay una correlación entre los viajes en bicicleta y la temperatura.\n",
    "\n",
    "Como los registros del clima están en forma diurna, es necesario tomar las fechas del viaje sin horarios. Para todos los plots se toma como fecha del viaje a la fecha de inicio del mismo, esto se debe a que es el momento en el cual la persona toma en cuenta las condiciones climáticas para decidir si realizar un viaje o no. "
   ]
  },
  {
   "cell_type": "markdown",
   "metadata": {
    "deletable": true,
    "editable": true
   },
   "source": [
    "### 1.1.A) Histograma del Promedio de Temperatura"
   ]
  },
  {
   "cell_type": "code",
   "execution_count": null,
   "metadata": {
    "collapsed": false,
    "deletable": true,
    "editable": true,
    "scrolled": false
   },
   "outputs": [],
   "source": [
    "joined.hist(column='mean_temperature_c', grid=True, figsize=(10,10), xrot=90);\n",
    "plt.xticks(range(10,24,1));"
   ]
  },
  {
   "cell_type": "markdown",
   "metadata": {
    "deletable": true,
    "editable": true
   },
   "source": [
    "En este histograma se puede apreciar que la mayor cantidad de los viajes se realizan cuando la temperatura promedio esta entre 12°C y 21°C.  \n",
    "Si bien puede parecer que la temperatura es algo baja, hay que tener en cuenta que esto es un promedio de la temperatura de todo el día y como San Francisco es una ciudad costera la temperatura suele bajar bastante sobre la noche."
   ]
  },
  {
   "cell_type": "markdown",
   "metadata": {
    "deletable": true,
    "editable": true
   },
   "source": [
    "### 1.1.B) Histograma de la Temperatura Máxima"
   ]
  },
  {
   "cell_type": "code",
   "execution_count": null,
   "metadata": {
    "collapsed": false,
    "deletable": true,
    "editable": true,
    "scrolled": false
   },
   "outputs": [],
   "source": [
    "joined.hist(column='max_temperature_c', grid=True, figsize=(10,10));\n",
    "plt.xticks(range(15,25,1));"
   ]
  },
  {
   "cell_type": "markdown",
   "metadata": {
    "deletable": true,
    "editable": true
   },
   "source": [
    "De este histograma se puede obtener que la mayoria de los viajes se realizan cuando la temperatura maxima esta entre 18°C y 23°C."
   ]
  },
  {
   "cell_type": "markdown",
   "metadata": {
    "deletable": true,
    "editable": true
   },
   "source": [
    "Si se toman en cuenta los dos histogramas en conjunto, se puede apreciar que la mayoría de las personas buscan temperaturas templadas a la hora de realizar los viajes.  \n",
    "No es necesario analizar la temperatura mínima, ya que como se dijo antes, la temperatura suele bajar mucho sobre la noche y daría resultados engañosos."
   ]
  },
  {
   "cell_type": "markdown",
   "metadata": {
    "deletable": true,
    "editable": true
   },
   "source": [
    "### 1.1.C) Dias con mayor uso simultaneo de Bicicletas y la Temperatura"
   ]
  },
  {
   "cell_type": "code",
   "execution_count": null,
   "metadata": {
    "collapsed": true,
    "deletable": true,
    "editable": true
   },
   "outputs": [],
   "source": [
    "#Funciones para clasificar.\n",
    "def f_st(row):\n",
    "    if row['event'] == 'start_date':\n",
    "        val = 1\n",
    "    else:\n",
    "        val = 0\n",
    "    return val\n",
    "\n",
    "def f_en(row):\n",
    "    if row['event'] == 'end_date':\n",
    "        val = 1\n",
    "    else:\n",
    "        val = 0\n",
    "    return val"
   ]
  },
  {
   "cell_type": "code",
   "execution_count": null,
   "metadata": {
    "collapsed": false,
    "deletable": true,
    "editable": true
   },
   "outputs": [],
   "source": [
    "trips_aux = trips[['id', 'start_date', 'end_date', 'zip_code']]\n",
    "trips_melt = pd.melt(trips_aux, id_vars=['id','zip_code'], value_vars=['start_date', 'end_date'], var_name='event', value_name='time')\n",
    "trips_melt['time'] = pd.to_datetime(trips_melt['time'])"
   ]
  },
  {
   "cell_type": "code",
   "execution_count": null,
   "metadata": {
    "collapsed": false,
    "deletable": true,
    "editable": true
   },
   "outputs": [],
   "source": [
    "#Se obtiene la cantidad de bicicletas en uso al mismo tiempo.\n",
    "trips_ord = trips_melt.sort_values('time', ascending=True) \n",
    "trips_ord['start_counter'] = trips_ord.apply(f_st, axis=1)\n",
    "trips_ord['end_counter'] = trips_ord.apply(f_en, axis=1)\n",
    "trips_ord['start'] = trips_ord['start_counter'].cumsum()\n",
    "trips_ord['end'] = trips_ord['end_counter'].cumsum()\n",
    "trips_ord = trips_ord[['id', 'zip_code', 'time', 'start', 'end']]\n",
    "trips_ord['in_use'] = trips_ord['start'] - trips_ord['end']\n",
    "trips_ord = trips_ord.sort_values('in_use', ascending=False)"
   ]
  },
  {
   "cell_type": "code",
   "execution_count": null,
   "metadata": {
    "collapsed": true,
    "deletable": true,
    "editable": true
   },
   "outputs": [],
   "source": [
    "#Se eliminan los horarios para coincidir con weather.csv.\n",
    "trips_ord['time'] = trips_ord['time'].apply(lambda x: x.date())\n",
    "#Se convierte time a datetime64[ns].\n",
    "trips_ord['time'] = pd.to_datetime(trips_ord['time'])"
   ]
  },
  {
   "cell_type": "code",
   "execution_count": null,
   "metadata": {
    "collapsed": false,
    "deletable": true,
    "editable": true
   },
   "outputs": [],
   "source": [
    "#Se combinan los Dataframes.\n",
    "joined_simul = trips_ord.merge(weather, left_on=['time', 'zip_code'], right_on=['date', 'zip_code'])"
   ]
  },
  {
   "cell_type": "code",
   "execution_count": null,
   "metadata": {
    "collapsed": true,
    "deletable": true,
    "editable": true
   },
   "outputs": [],
   "source": [
    "#Solo hay que quedarse con el maximo de bicicletas simultaneas para ese dia.\n",
    "joined_max_simul = joined_simul.drop_duplicates(subset=['time'], keep='first')"
   ]
  },
  {
   "cell_type": "code",
   "execution_count": null,
   "metadata": {
    "collapsed": false,
    "deletable": true,
    "editable": true
   },
   "outputs": [],
   "source": [
    "#Nos quedamos con los 10 valores maximos y las columnas que interesan.\n",
    "joined_max_simul_bar = joined_max_simul[:10]\n",
    "joined_max_simul_bar = joined_max_simul_bar[['time', 'mean_temperature_c', 'max_temperature_c']]\n",
    "joined_max_simul_bar.set_index('time', inplace=True)"
   ]
  },
  {
   "cell_type": "markdown",
   "metadata": {
    "deletable": true,
    "editable": true
   },
   "source": [
    "En el siguiente gráfico de barras se pueden aprecian los 10 días (de los cuales hay datos de temperatura) con mayor uso simultaneo de bicicletas(ordenados de forma descendente), junto con su temperatura promedio y temperatura máxima. La locación tomada para el clima de cada día, es donde se produce su respectivo pico máximo de bicicletas en uso."
   ]
  },
  {
   "cell_type": "code",
   "execution_count": null,
   "metadata": {
    "collapsed": false,
    "deletable": true,
    "editable": true
   },
   "outputs": [],
   "source": [
    "bar = joined_max_simul_bar.plot.bar(figsize=(10,10), fontsize=20);\n",
    "#Elimina el 00:00:00 del plot.\n",
    "bar.set_xticklabels(joined_max_simul_bar.index.format());\n",
    "plt.yticks(range(0,33,2));"
   ]
  },
  {
   "cell_type": "markdown",
   "metadata": {
    "deletable": true,
    "editable": true
   },
   "source": [
    "Primero es interesante notar que si bien el día con mayor uso simultaneo es también el día con mayor temperatura máxima, unos 31°C, los días restantes no tienen temperaturas máximas tan elevadas.  \n",
    "El segundo punto importante a notar es que la mayoría de estos días tienen temperaturas templadas, es decir, sus temperaturas promedio varían entre 14°C y 23°C mientras que sus temperaturas máximas están entre 19 y 25°C.  \n",
    "Por ultimo, es evidente que si bien la cantidad de bicicletas en uso simultáneamente decrece a lo largo del gráfico de barras, las temperaturas se mantienen siempre dentro de un mismo rango."
   ]
  },
  {
   "cell_type": "markdown",
   "metadata": {
    "deletable": true,
    "editable": true
   },
   "source": [
    "### 1.1.D) Conclusión de Viajes y Temperatura"
   ]
  },
  {
   "cell_type": "markdown",
   "metadata": {
    "deletable": true,
    "editable": true
   },
   "source": [
    "Usando los plots anteriores se puede concluir que **la mayor cantidad de viajes se realizan cuando la temperatura es templada**, es decir, cuando esta **alrededor de los 25°C**.\n",
    "Para describir este fenómeno hay que tener en cuenta los motivos por los cuales se podría realizar un viaje, para simplificar se tomaran dos casos:\n",
    "1. En el caso de que se quiera realizar un viaje por la necesidad de trasladarse, la temperatura no afecta mucho, excepto en casos de muy bajas o muy altas temperaturas.\n",
    "2. El caso en el cual se quiere realizar un viaje por placer es el que interesa, ya que es aquí cuando la temperatura juega un rol importante. Con temperaturas templadas las personas estarán mas predispuestas a realizar viajes en bicicleta, como muestran los plots obtenidos. \n",
    "\n",
    "Por ultimo, es importante notar que las mejores temperaturas se suelen presentar sobre la tarde, ya que es cuando comienza a bajar el sol, por eso no seria extraño que la mayor cantidad de los viajes se realicen en horarios de la tarde."
   ]
  },
  {
   "cell_type": "markdown",
   "metadata": {
    "deletable": true,
    "editable": true
   },
   "source": [
    "## 1.2) Viajes y Visibilidad"
   ]
  },
  {
   "cell_type": "markdown",
   "metadata": {
    "deletable": true,
    "editable": true
   },
   "source": [
    "En la siguiente serie de plots se tratara de analizar si hay una correlación entre los viajes en bicicletas y la visibilidad.  \n",
    "\n",
    "Como los registros del clima están en forma diurna, es necesario tomar las fechas del viaje sin horarios. Para todos los plots se toma como fecha del viaje a la fecha de inicio del mismo, esto se debe a que es el momento en el cual la persona toma en cuenta las condiciones climáticas para decidir si realizar un viaje o no. "
   ]
  },
  {
   "cell_type": "markdown",
   "metadata": {
    "deletable": true,
    "editable": true
   },
   "source": [
    "### 1.2.A)  Grafico de Barras de Visibilidad Promedio y Histograma de Visibilidad Promedio"
   ]
  },
  {
   "cell_type": "code",
   "execution_count": null,
   "metadata": {
    "collapsed": false,
    "deletable": true,
    "editable": true,
    "scrolled": false
   },
   "outputs": [],
   "source": [
    "joined.hist(column='mean_visibility_km', grid=True, figsize=(10,10), xrot=90);\n",
    "plt.xticks(range(10,20,1));"
   ]
  },
  {
   "cell_type": "code",
   "execution_count": null,
   "metadata": {
    "collapsed": false,
    "deletable": true,
    "editable": true,
    "scrolled": false
   },
   "outputs": [],
   "source": [
    "joined['mean_visibility_km'].value_counts(sort=True).plot.bar(figsize=(10,10));"
   ]
  },
  {
   "cell_type": "markdown",
   "metadata": {
    "deletable": true,
    "editable": true
   },
   "source": [
    "De este plot se pueden extraer tres puntos importantes:  \n",
    "* La mayoría de los viajes en bicicleta se realizan cuando la visibilidad promedio esta entre 14.4km y 16km, mas precisamente cuando esta en 16km.\n",
    "* Por encima de los 16km de visibilidad promedio hay escasez de datos, por lo tanto, se puede intuir que no es normal que en San Francisco se presenten visibilidades promedio tan elevadas.  \n",
    "* Sino se toman en cuenta las visibilidades promedio mayores a 16km(porque no hay datos suficientes), la diferencia entre las visibilidades promedio mayores o iguales a 14.4km y las menores a esta es abismal. Esto no es un dato menor, ya que hay que tener una buena visibilidad al realizar un viaje para que este sea seguro y queda claro, por esta diferencia, que el usuario prioriza mucho la seguridad.\n",
    "\n",
    "Ahora seria importante analizar que sucede con la visibilidad mínima, ya que por cuestiones de seguridad es importante que haya una buena visibilidad mínima para evitar accidentes."
   ]
  },
  {
   "cell_type": "markdown",
   "metadata": {
    "deletable": true,
    "editable": true
   },
   "source": [
    "### 1.2.B) Grafico de Barras de Visibilidad Mínima y Histograma de Visibilidad Mínima"
   ]
  },
  {
   "cell_type": "code",
   "execution_count": null,
   "metadata": {
    "collapsed": false,
    "deletable": true,
    "editable": true,
    "scrolled": false
   },
   "outputs": [],
   "source": [
    "joined.hist(column='min_visibility_km', grid=True, figsize=(10,10), xrot=90, bins=20);\n",
    "plt.xticks(range(0,21,1));"
   ]
  },
  {
   "cell_type": "code",
   "execution_count": null,
   "metadata": {
    "collapsed": false,
    "deletable": true,
    "editable": true
   },
   "outputs": [],
   "source": [
    "joined['min_visibility_km'].value_counts(sort=True).plot.bar(figsize=(10,10));"
   ]
  },
  {
   "cell_type": "markdown",
   "metadata": {
    "deletable": true,
    "editable": true
   },
   "source": [
    "En estos dos plots se apreciar de nuevo que la mayor cantidad de viajes se realiza cuando la visibilidad mínima es de 16km. Ademas es importante notar que de nuevo se manifiesta la gran separación entre la visibilidad de 16km y las que son menores a esta. Por ejemplo, si tomamos la visibilidad mínima de 11.2km podemos ver que hay una diferencia aproximada de 40000 viajes con la visibilidad de 16km"
   ]
  },
  {
   "cell_type": "markdown",
   "metadata": {
    "deletable": true,
    "editable": true
   },
   "source": [
    "### 1.2.C) Grafico de Barras de Visibilidad Máxima y Histograma de Visibilidad Máxima"
   ]
  },
  {
   "cell_type": "code",
   "execution_count": null,
   "metadata": {
    "collapsed": false,
    "deletable": true,
    "editable": true
   },
   "outputs": [],
   "source": [
    "joined['max_visibility_km'].value_counts(sort=True).plot.bar(figsize=(10,10));"
   ]
  },
  {
   "cell_type": "markdown",
   "metadata": {
    "deletable": true,
    "editable": true
   },
   "source": [
    "De este plot es muy difícil sacar conclusiones ya que la diferencia de la visibilidad máxima de 16km con las demás es demasiado grande. Lo único importante a destacar, es que no hay ningún valor de visibilidad máxima menor a 9.6km, lo cual indicaría que nunca hay visibilidades máximas menores a 9.6km, lo cual es poco probable, o bien que no se realizan viajes cuando la visibilidad máximas son tan bajas."
   ]
  },
  {
   "cell_type": "markdown",
   "metadata": {
    "deletable": true,
    "editable": true
   },
   "source": [
    "### 1.2.D) Dias con mayor uso simultaneo de Bicicletas y la Visibilidad"
   ]
  },
  {
   "cell_type": "code",
   "execution_count": null,
   "metadata": {
    "collapsed": false,
    "deletable": true,
    "editable": true
   },
   "outputs": [],
   "source": [
    "#Nos quedamos con los 10 valores maximos y las columnas que interesan.\n",
    "joined_max_simul_vis_bar = joined_max_simul[:10]\n",
    "joined_max_simul_vis_bar = joined_max_simul_vis_bar[['time', 'mean_visibility_km', 'min_visibility_km', 'max_visibility_km']]\n",
    "joined_max_simul_vis_bar.set_index('time', inplace=True)"
   ]
  },
  {
   "cell_type": "markdown",
   "metadata": {
    "deletable": true,
    "editable": true
   },
   "source": [
    "En el siguiente gráfico de barras se pueden aprecian los 10 días (de los cuales hay datos de temperatura) con mayor uso simultaneo de bicicletas(ordenados de forma descendente), junto con su visibilidad promedio, visibilidad mínima y visibilidad máxima. La locación tomada para el clima de cada día, es donde se produce su respectivo pico máximo de bicicletas en uso."
   ]
  },
  {
   "cell_type": "code",
   "execution_count": null,
   "metadata": {
    "collapsed": false,
    "deletable": true,
    "editable": true
   },
   "outputs": [],
   "source": [
    "bar = joined_max_simul_vis_bar.plot.bar(figsize=(10,10), fontsize=20);\n",
    "#Elimina el 00:00:00 del plot.\n",
    "bar.set_xticklabels(joined_max_simul_vis_bar.index.format());\n",
    "plt.yticks(range(0,17,4));"
   ]
  },
  {
   "cell_type": "markdown",
   "metadata": {
    "deletable": true,
    "editable": true
   },
   "source": [
    "Este plot confirma la tendencia que se había marcado previamente, los 10 dias con mayor uso simultaneo de bicicletas presentan una visibilidad promedio de 16km. Ademas la mayoría presentan visibilidades mínimas y máximas también de 16km.  \n",
    "El único caso llamativo es del dia 2014-10-20 en el cual la visibilidad mínima es de 3km, pero si bien su visibilidad mínima es baja su visibilidad máxima y visibilidad promedia se mantienen dentro de lo esperado. Esto nos indicaría que la mayor cantidad de viajes de ese día se habría producido en horarios donde la visibilidad era más cercana a la máxima que a la mínima."
   ]
  },
  {
   "cell_type": "markdown",
   "metadata": {
    "deletable": true,
    "editable": true
   },
   "source": [
    "### 1.2.E) Conclusión de Viajes y Visibilidad"
   ]
  },
  {
   "cell_type": "markdown",
   "metadata": {
    "deletable": true,
    "editable": true
   },
   "source": [
    "Dados los plots vistos se puede concluir claramente que la visibilidad máxima, mínima y mediana deben ser de, o al menos cercano a, 16km para que se produzca un mayor uso del servicio de bicicletas. Esto claramente esta relacionado, como ya se menciono antes, con la seguridad, los usuarios ponen a la seguridad como uno de los puntos más importantes a la hora de decidir si realizar un viaje en bicicleta o no. Por ejemplo, nadie realizaría un viaje bicicleta cuando hay niebla(evento en el cual hay una visibilidad muy baja) porque eso conllevaría un riesgo importante. "
   ]
  },
  {
   "cell_type": "markdown",
   "metadata": {
    "deletable": true,
    "editable": true
   },
   "source": [
    "## 1.3) Viajes y Estaciones Climáticas"
   ]
  },
  {
   "cell_type": "markdown",
   "metadata": {
    "deletable": true,
    "editable": true
   },
   "source": [
    "### 1.3.A) Cantidad de Viajes y Estaciones Climáticas"
   ]
  },
  {
   "cell_type": "markdown",
   "metadata": {
    "deletable": true,
    "editable": true
   },
   "source": [
    "En la siguiente serie de plots se analizará en que estación climática se realizan más viajes."
   ]
  },
  {
   "cell_type": "code",
   "execution_count": null,
   "metadata": {
    "collapsed": true,
    "deletable": true,
    "editable": true
   },
   "outputs": [],
   "source": [
    "#Funcion para clasificar estaciones climaticas.\n",
    "def estacion(date):\n",
    "    if date.month >= 3 and date.month <= 5:\n",
    "        return 'Primavera'\n",
    "    elif date.month >= 6 and date.month <= 8:\n",
    "        return 'Verano'\n",
    "    elif date.month >= 9 and date.month <= 11:\n",
    "        return 'Otoño'\n",
    "    else:\n",
    "        return 'Invierno'"
   ]
  },
  {
   "cell_type": "code",
   "execution_count": null,
   "metadata": {
    "collapsed": false,
    "deletable": true,
    "editable": true
   },
   "outputs": [],
   "source": [
    "#Se crea la columna con la estacion climatica.\n",
    "joined['estacion_clima'] = joined['date'].map(estacion)"
   ]
  },
  {
   "cell_type": "code",
   "execution_count": null,
   "metadata": {
    "collapsed": false,
    "deletable": true,
    "editable": true
   },
   "outputs": [],
   "source": [
    "joined['estacion_clima'].value_counts(sort=True).plot.bar(figsize=(10,10), rot=0);\n",
    "plt.yticks(range(0,26000,1000));"
   ]
  },
  {
   "cell_type": "markdown",
   "metadata": {
    "deletable": true,
    "editable": true
   },
   "source": [
    "De este plot podemos observar:  \n",
    "* La mayoría de los viajes se realizan en Primavera, esto concuerda con lo visto en la sección de temperatura ya que en Primavera se presentan temperaturas cercanas a los 25°C.\n",
    "* La segunda estación climática es el Otoño, esto vuelve a concordar con lo visto en la sección de temperatura ya que, si bien las temperaturas suelen ser mas frías que en Primavera, presenta temperaturas cercanas a los 15°C.\n",
    "* Por ultimo, es importante notar que todas las estaciones mantienen un piso de 20000 viajes. Esto va de la mano con lo dicho en la sección 1.D y 2.E, si alguien quiere utilizar el servicio de bicicletas por un motivo no recreativo, no suele darle demasiada importancia a factores climáticos excepto que conlleven un riesgo para su seguridad."
   ]
  },
  {
   "cell_type": "markdown",
   "metadata": {
    "deletable": true,
    "editable": true
   },
   "source": [
    "### 1.3.B) Duración promedio de Viajes y Estaciones Climáticas"
   ]
  },
  {
   "cell_type": "markdown",
   "metadata": {
    "deletable": true,
    "editable": true
   },
   "source": [
    "En este plot se analizará las duraciones promedio de los viajes en cada estación."
   ]
  },
  {
   "cell_type": "code",
   "execution_count": null,
   "metadata": {
    "collapsed": false,
    "deletable": true,
    "editable": true
   },
   "outputs": [],
   "source": [
    "grouped_season = joined[['estacion_clima', 'duration_m']].groupby('estacion_clima')\\\n",
    ".aggregate('mean')"
   ]
  },
  {
   "cell_type": "code",
   "execution_count": null,
   "metadata": {
    "collapsed": false,
    "deletable": true,
    "editable": true
   },
   "outputs": [],
   "source": [
    "grouped_season.plot.bar(figsize=(10,10), rot=0);\n",
    "plt.yticks(range(0,15,1));"
   ]
  },
  {
   "cell_type": "markdown",
   "metadata": {
    "deletable": true,
    "editable": true
   },
   "source": [
    "De este plot podemos hacer dos observaciones importantes:  \n",
    "* Primero, la Primavera, que tiene la mayor cantidad de viajes, es la que posee la menor duración promedio de viajes.  \n",
    "* Segundo, todas las estaciones tienen una duración promedio de viajes similares."
   ]
  },
  {
   "cell_type": "markdown",
   "metadata": {
    "deletable": true,
    "editable": true
   },
   "source": [
    "### 1.3.C) Conclusión de Viajes y Estaciones Climáticas"
   ]
  },
  {
   "cell_type": "markdown",
   "metadata": {
    "deletable": true,
    "editable": true
   },
   "source": [
    "La conclusión más importante que se puede obtener de los plots analizados es que la diferencia entre las diferentes estaciones es muy pequeña. Esto se podría deber a los siguientes motivos:  \n",
    "* Como se expreso anteriormente, todas las estaciones tienen un piso 20000 viajes. Esto da a entender que una gran parte de los usuarios no pone como prioridad al clima a la hora de realizar un viaje, esto se puede deber a que la mayoría de los usuarios utiliza el servicio de bicicletas como modo de transporte y no como en forma recreativa.  \n",
    "* Si bien los climas varían entre estaciones, los cambios no son tan drásticos como para generar una diferencia sustancial entre la cantidad y duración de viajes en bicicleta entre cada estación."
   ]
  },
  {
   "cell_type": "markdown",
   "metadata": {
    "deletable": true,
    "editable": true
   },
   "source": [
    "# 1.4) Caso Particular: 5 Viajes con Mayor Duración"
   ]
  },
  {
   "cell_type": "markdown",
   "metadata": {
    "deletable": true,
    "editable": true
   },
   "source": [
    "En los siguientes plots se analizara que sucede con la temperatura, visibilidad y estación climática para los 5 viajes con mayor duración. Se utilizan las duraciones menores o iguales a 12 horas porque se considera que un viaje continuado puede durar, como mucho, 12 horas si se permiten interrupciones de duración corta. Algunos de los motivos por los cuales se pueden realizar viajes largos son, por ejemplo:  \n",
    "* Realizar un tour de la ciudad de San Francisco.  \n",
    "* Realizar actividad física intensiva.\n",
    "* Tener que realizar varios trayectos en horarios diferentes."
   ]
  },
  {
   "cell_type": "code",
   "execution_count": null,
   "metadata": {
    "collapsed": false,
    "deletable": true,
    "editable": true
   },
   "outputs": [],
   "source": [
    "#Se obtienen los 5 viajes con mayor duracion (que poseen datos climaticos) menores a 12 horas.\n",
    "top_dur = joined[joined['duration_h'] <= 12].sort_values('duration_h', ascending=False)[:5]"
   ]
  },
  {
   "cell_type": "markdown",
   "metadata": {
    "deletable": true,
    "editable": true
   },
   "source": [
    "### 1.4.A) Temperatura de los 5 Viajes con Mayor Duración"
   ]
  },
  {
   "cell_type": "code",
   "execution_count": null,
   "metadata": {
    "collapsed": true,
    "deletable": true,
    "editable": true
   },
   "outputs": [],
   "source": [
    "top_dur_temp = top_dur[['duration_h', 'max_temperature_c', 'min_temperature_c', 'mean_temperature_c']]\n",
    "top_dur_temp.set_index('duration_h', inplace=True)"
   ]
  },
  {
   "cell_type": "markdown",
   "metadata": {
    "deletable": true,
    "editable": true
   },
   "source": [
    "Se muestran los 5 viajes con mayor duración (con sus respectivas duraciones, en horas, como label) ordenados de forma descendente junto con sus respectivas temperaturas máximas, temperaturas mínimas y temperaturas promedio."
   ]
  },
  {
   "cell_type": "code",
   "execution_count": null,
   "metadata": {
    "collapsed": false,
    "deletable": true,
    "editable": true
   },
   "outputs": [],
   "source": [
    "top_dur_temp_bar = top_dur_temp.plot.bar(figsize=(10,10), fontsize=20, rot=0);\n",
    "plt.yticks(range(0,30,2));"
   ]
  },
  {
   "cell_type": "markdown",
   "metadata": {
    "deletable": true,
    "editable": true
   },
   "source": [
    "De este plot se puede hacer las siguientes observaciones:  \n",
    "* El viaje con mayor duración de los 5 es el que posee la temperatura mas cálida pero el viaje con menor duración de los 5 no es el que posee la temperatura más fría, de hecho es el segundo con temperaturas más cálidas.  \n",
    "* Todas las temperaturas varían mucho entre los diferentes viajes. Por ejemplo, la temperatura máxima del viaje con mayor duración es de aproximadamente 28°C mientras que la temperatura máxima del segundo viaje con mayor duración es de solamente 10°C, una diferencia de 18°C.\n",
    "* Si tomamos en cuenta los dos puntos anteriores, podemos decir que no hay una correlación entre la temperatura y los viajes de mayor duración."
   ]
  },
  {
   "cell_type": "markdown",
   "metadata": {
    "deletable": true,
    "editable": true
   },
   "source": [
    "### 1.4.B) Visibilidad de los 5 Viajes con Mayor Duración"
   ]
  },
  {
   "cell_type": "code",
   "execution_count": null,
   "metadata": {
    "collapsed": true,
    "deletable": true,
    "editable": true
   },
   "outputs": [],
   "source": [
    "top_dur_vis = top_dur[['duration_h', 'max_visibility_km', 'min_visibility_km', 'mean_visibility_km']]\n",
    "top_dur_vis.set_index('duration_h', inplace=True)"
   ]
  },
  {
   "cell_type": "markdown",
   "metadata": {
    "deletable": true,
    "editable": true
   },
   "source": [
    "Se muestran los 5 viajes con mayor duración (con sus respectivas duraciones, en horas, como label) ordenados de forma descendente junto con sus respectivas visibilidades máximas, visibilidades mínimas y visibilidades promedio."
   ]
  },
  {
   "cell_type": "code",
   "execution_count": null,
   "metadata": {
    "collapsed": false,
    "deletable": true,
    "editable": true
   },
   "outputs": [],
   "source": [
    "top_dur_vis_bar = top_dur_vis.plot.bar(figsize=(10,10), fontsize=20, rot=0);"
   ]
  },
  {
   "cell_type": "markdown",
   "metadata": {
    "deletable": true,
    "editable": true
   },
   "source": [
    "En este plot se puede observar claramente que la visibilidad, tanto máxima, mínima y promedio, debe es igual o cercana a 16km. Solo un viaje de gran duración no tiene una visibilidad promedio de 16km pero su visibilidad máxima es de 16km. Estos datos indican que la visibilidad debe ser muy buena, alrededor de 16km., para que se produzcan viajes de gran duración."
   ]
  },
  {
   "cell_type": "markdown",
   "metadata": {
    "deletable": true,
    "editable": true
   },
   "source": [
    "### 1.4.C) Estación Climática de los 5 Viajes con Mayor Duracíon"
   ]
  },
  {
   "cell_type": "code",
   "execution_count": null,
   "metadata": {
    "collapsed": false,
    "deletable": true,
    "editable": true
   },
   "outputs": [],
   "source": [
    "#Se muestran las duracion(en horas) y su respectiva estacion.\n",
    "top_dur[['duration_h', 'estacion_clima']]"
   ]
  },
  {
   "cell_type": "markdown",
   "metadata": {
    "deletable": true,
    "editable": true
   },
   "source": [
    "Las estaciones climáticas de los viajes de mayor duración, ordenados de mayor a menor, son:  \n",
    "**1.** Verano  \n",
    "**2.** Invierno  \n",
    "**3.** Primavera  \n",
    "**4.** Invierno  \n",
    "**5.** Verano  \n",
    "\n",
    "Dados estos datos se puede decir que:  \n",
    "* La mayor duración de los 5 viajes se produce en Verano y la menor duración de los 5 viajes también se produce en Verano.  \n",
    "* La distribución de los viajes en las estaciones climáticas es bastante pareja y solo falta Otoño.\n",
    "* Dado esto podemos decir que no hay una correlación fuerte entre las estaciones climáticas y los viajes de mayor duración."
   ]
  },
  {
   "cell_type": "markdown",
   "metadata": {
    "deletable": true,
    "editable": true
   },
   "source": [
    "### 1.4.D) Conclución del Caso Particular"
   ]
  },
  {
   "cell_type": "markdown",
   "metadata": {
    "deletable": true,
    "editable": true
   },
   "source": [
    "Con los análisis de los plots vistos se puede concluir que el requisito más importante para que se produzcan viajes largos es la buena visibilidad. Ademas, se podría agregar que como se requieren muchas horas para realizar estos viajes, estos se deberían producir en días no laborables o los que realizan estos viajes deberían ser turistas."
   ]
  },
  {
   "cell_type": "markdown",
   "metadata": {},
   "source": [
    "# 2)"
   ]
  },
  {
   "cell_type": "code",
   "execution_count": null,
   "metadata": {
    "collapsed": false,
    "deletable": true,
    "editable": true
   },
   "outputs": [],
   "source": [
    "trips = pd.read_csv('trip.csv', low_memory=False)\n",
    "#Se convierte los dates a datetime64[ns].\n",
    "trips['start_date'] = pd.to_datetime(trips['start_date'])\n",
    "trips['end_date'] = pd.to_datetime(trips['end_date'])"
   ]
  },
  {
   "cell_type": "code",
   "execution_count": null,
   "metadata": {
    "collapsed": false,
    "deletable": true,
    "editable": true
   },
   "outputs": [],
   "source": [
    "#Se agrega una nueva columna date que coincide con weather.\n",
    "trips['date'] = trips['start_date'].apply(lambda x: x.date())\n",
    "#Se convierte date a datetime64[ns].\n",
    "trips['date'] = pd.to_datetime(trips['date'])"
   ]
  },
  {
   "cell_type": "code",
   "execution_count": null,
   "metadata": {
    "collapsed": false,
    "deletable": true,
    "editable": true
   },
   "outputs": [],
   "source": [
    "# chequeo tipos\n",
    "trips.dtypes"
   ]
  },
  {
   "cell_type": "code",
   "execution_count": null,
   "metadata": {
    "collapsed": false,
    "deletable": true,
    "editable": true
   },
   "outputs": [],
   "source": [
    "# ejemplo del uso de datetime con día actual\n",
    "dia_actual = datetime.datetime.today()\n",
    "dia_actual"
   ]
  },
  {
   "cell_type": "code",
   "execution_count": null,
   "metadata": {
    "collapsed": false,
    "deletable": true,
    "editable": true
   },
   "outputs": [],
   "source": [
    "# lo paso a dia de la semana\n",
    "dia_actual.weekday()"
   ]
  },
  {
   "cell_type": "code",
   "execution_count": null,
   "metadata": {
    "collapsed": false,
    "deletable": true,
    "editable": true
   },
   "outputs": [],
   "source": [
    "# mejor en palabras que en números\n",
    "calendar.day_name[dia_actual.weekday()]"
   ]
  },
  {
   "cell_type": "code",
   "execution_count": null,
   "metadata": {
    "collapsed": true,
    "deletable": true,
    "editable": true
   },
   "outputs": [],
   "source": [
    "# función para convertir fecha a día de la semana.\n",
    "def fecha_a_dia(fecha):\n",
    "    return calendar.day_name[fecha.weekday()]"
   ]
  },
  {
   "cell_type": "code",
   "execution_count": null,
   "metadata": {
    "collapsed": false,
    "deletable": true,
    "editable": true
   },
   "outputs": [],
   "source": [
    "#Se crean columnas con los dias de la semana.\n",
    "trips['start_day_of_week'] = trips['start_date'].map(fecha_a_dia)\n",
    "trips['end_day_of_week'] = trips['end_date'].map(fecha_a_dia)"
   ]
  },
  {
   "cell_type": "code",
   "execution_count": null,
   "metadata": {
    "collapsed": false,
    "deletable": true,
    "editable": true
   },
   "outputs": [],
   "source": [
    "trips['horario_inicial'] = trips['start_date'].dt.time\n",
    "trips['horario_inicial_float'] = trips['start_date'].dt.hour + trips['start_date'].dt.minute / 100"
   ]
  },
  {
   "cell_type": "code",
   "execution_count": null,
   "metadata": {
    "collapsed": false,
    "deletable": true,
    "editable": true
   },
   "outputs": [],
   "source": [
    "trips['horario_final'] = trips['end_date'].dt.time\n",
    "trips['horario_final_float'] = trips['end_date'].dt.hour + trips['end_date'].dt.minute / 100"
   ]
  },
  {
   "cell_type": "code",
   "execution_count": null,
   "metadata": {
    "collapsed": false,
    "deletable": true,
    "editable": true
   },
   "outputs": [],
   "source": [
    "trips['duracion_viaje'] = trips['end_date'] - trips['start_date']"
   ]
  },
  {
   "cell_type": "code",
   "execution_count": null,
   "metadata": {
    "collapsed": false,
    "deletable": true,
    "editable": true
   },
   "outputs": [],
   "source": [
    "# vista final de cómo quedó el dataframe\n",
    "trips.sample(4)"
   ]
  },
  {
   "cell_type": "markdown",
   "metadata": {
    "deletable": true,
    "editable": true
   },
   "source": [
    "## 2.0) ¿Viajes de menos de 3 minutos con misma estación de inicio y fin?\n",
    "Una primera impresión es que hay viajes \"ruidosos\": duran menos de 3 minutos y las estaciones de inicio y fin\n",
    "son las mismas. Esto nos dice que el usuario no tomó el viaje por algún motivo. Se van a filtrar esos viajes."
   ]
  },
  {
   "cell_type": "code",
   "execution_count": null,
   "metadata": {
    "collapsed": false,
    "deletable": true,
    "editable": true
   },
   "outputs": [],
   "source": [
    "viajes_ruidosos = trips[(trips['duracion_viaje'] <= '00:03:00') & (trips['start_station_id'] == trips['end_station_id'])]\n",
    "trips = trips[-((trips['duracion_viaje'] <= '00:03:00') & (trips['start_station_id'] == trips['end_station_id']))]\n",
    "# hay que hacer trips - viajes_ruidosos para que quede lindo pero requiere un comando (isin o algo asi). \n",
    "# no me salio bien asi que a lo ultimo lo modifico"
   ]
  },
  {
   "cell_type": "code",
   "execution_count": null,
   "metadata": {
    "collapsed": false,
    "deletable": true,
    "editable": true
   },
   "outputs": [],
   "source": [
    "viajes_ruidosos.id.count()"
   ]
  },
  {
   "cell_type": "code",
   "execution_count": null,
   "metadata": {
    "collapsed": false,
    "deletable": true,
    "editable": true
   },
   "outputs": [],
   "source": [
    "viajes_ruidosos.bike_id.value_counts().count()\n",
    "# cantidad distintas de bicicletas dentro de esos 2601 viajes. Crei que iba a aportar información \n",
    "# para lo de las biciletas descompuestas pero no creo que ayude. Hay que analizar si es que varios de esos viajes\n",
    "# con el mismo id de bicicleta se tomaron bastante pegados entonces si claramente las devolvieron porq estaban rotas"
   ]
  },
  {
   "cell_type": "markdown",
   "metadata": {
    "deletable": true,
    "editable": true
   },
   "source": [
    "Se filtraron unos 2600 viajes. \n",
    "\n",
    "// acá iría la conclusión acerca de posibles bicicletas descompuestas"
   ]
  },
  {
   "cell_type": "code",
   "execution_count": null,
   "metadata": {
    "collapsed": false,
    "deletable": true,
    "editable": true
   },
   "outputs": [],
   "source": [
    "# no es necesario pero lo dejo por las dudas, puede servir\n",
    "# trips[-((trips['duracion_viaje'] < '1970-01-01 00:10:00') & (trips['start_station_id'] == trips['end_station_id']))]"
   ]
  },
  {
   "cell_type": "code",
   "execution_count": null,
   "metadata": {
    "collapsed": false,
    "deletable": true,
    "editable": true
   },
   "outputs": [],
   "source": [
    "# ahora los datos quedan más limpios\n",
    "trips.sample(4)"
   ]
  },
  {
   "cell_type": "markdown",
   "metadata": {
    "deletable": true,
    "editable": true
   },
   "source": [
    "## 2.1) Análisis de viajes según día y horario\n",
    "\n",
    "En estos primeros plots se analizará la relación general entre los viajes y el día/horario de la semana."
   ]
  },
  {
   "cell_type": "markdown",
   "metadata": {
    "deletable": true,
    "editable": true
   },
   "source": [
    "### 2.1.A) ¿El servicio se usa más en la semana o los fines de semana?"
   ]
  },
  {
   "cell_type": "code",
   "execution_count": null,
   "metadata": {
    "collapsed": false,
    "deletable": true,
    "editable": true,
    "scrolled": false
   },
   "outputs": [],
   "source": [
    "trips['start_day_of_week'].value_counts().plot(kind='bar', rot=0, figsize=(10,8));\n",
    "plt.title('Uso del servicio por dia');"
   ]
  },
  {
   "cell_type": "code",
   "execution_count": null,
   "metadata": {
    "collapsed": false,
    "deletable": true,
    "editable": true
   },
   "outputs": [],
   "source": [
    "dias = trips[['start_day_of_week']]\n",
    "dias_semana = dias[-(dias['start_day_of_week'] == \"Saturday\")]\n",
    "dias_semana = dias[-(dias['start_day_of_week'] == \"Sunday\")]\n",
    "dias_finde = dias[(dias['start_day_of_week'] == \"Saturday\") | (dias['start_day_of_week'] == \"Sunday\")]"
   ]
  },
  {
   "cell_type": "code",
   "execution_count": null,
   "metadata": {
    "collapsed": false,
    "deletable": true,
    "editable": true
   },
   "outputs": [],
   "source": [
    "sizes = [dias_semana.start_day_of_week.count(), dias_finde.start_day_of_week.count()]\n",
    "nombres = ['Semana', 'Fin de semana']\n",
    "\n",
    "plt.figure(figsize=(6, 6))\n",
    "plt.title('Porcentajes del uso del servicio')\n",
    "plt.pie(sizes, labels=nombres, autopct='%1.1f%%', startangle=20, colors=['red', 'yellow'], explode=(0.1, 0))\n",
    "plt.show()"
   ]
  },
  {
   "cell_type": "markdown",
   "metadata": {
    "collapsed": true,
    "deletable": true,
    "editable": true
   },
   "source": [
    "Se ve que hay una diferencia drástica en el uso del servicio entre la semana y el fin de semana."
   ]
  },
  {
   "cell_type": "markdown",
   "metadata": {
    "collapsed": true,
    "deletable": true,
    "editable": true
   },
   "source": [
    "### 2.1.B) Promedio del uso del servicio por horario:"
   ]
  },
  {
   "cell_type": "code",
   "execution_count": null,
   "metadata": {
    "collapsed": false,
    "deletable": true,
    "editable": true
   },
   "outputs": [],
   "source": [
    "semana_entera = trips[['start_day_of_week','horario_inicial_float', 'start_station_name', 'end_station_name']].round()\n",
    "semana_entera"
   ]
  },
  {
   "cell_type": "code",
   "execution_count": null,
   "metadata": {
    "collapsed": false,
    "deletable": true,
    "editable": true
   },
   "outputs": [],
   "source": [
    "semana = semana_entera[-(semana_entera['start_day_of_week'] == \"Saturday\")]\n",
    "semana = semana_entera[-(semana_entera['start_day_of_week'] == \"Sunday\")]"
   ]
  },
  {
   "cell_type": "code",
   "execution_count": null,
   "metadata": {
    "collapsed": false,
    "deletable": true,
    "editable": true
   },
   "outputs": [],
   "source": [
    "semana['apariciones'] = semana['start_day_of_week'].map(lambda x: 1) # seteo todas las rows con 1 para despues agrupar\n",
    "horarios_semana = semana[['horario_inicial_float', 'apariciones']]\n",
    "semana = semana.drop('apariciones', 1) # vuelvo a dejar el dt como antes\n",
    "horarios_semana_contador = horarios_semana.groupby('horario_inicial_float').aggregate(sum)"
   ]
  },
  {
   "cell_type": "code",
   "execution_count": null,
   "metadata": {
    "collapsed": false,
    "deletable": true,
    "editable": true
   },
   "outputs": [],
   "source": [
    "horarios_semana_contador.plot.bar(rot=0, figsize=(10,10), color='green');\n",
    "plt.ylabel('Cantidad de viajes')\n",
    "plt.xlabel('Horario de inicio del viaje')\n",
    "plt.title('Promedio de uso del servicio por horario durante la semana')\n",
    "plt.legend('')\n",
    "plt.show()"
   ]
  },
  {
   "cell_type": "markdown",
   "metadata": {
    "collapsed": true,
    "deletable": true,
    "editable": true
   },
   "source": [
    "Se aprecia que durante la semana los horarios pico son de 8 a 9 y de 18 a 19, particularmente cuando la gente va y cuando regresa al trabajo, escuela, etc."
   ]
  },
  {
   "cell_type": "code",
   "execution_count": null,
   "metadata": {
    "collapsed": false,
    "deletable": true,
    "editable": true
   },
   "outputs": [],
   "source": [
    "finde = semana_entera[(semana_entera['start_day_of_week'] == \"Saturday\") | (semana_entera['start_day_of_week'] == \"Sunday\")]"
   ]
  },
  {
   "cell_type": "code",
   "execution_count": null,
   "metadata": {
    "collapsed": false,
    "deletable": true,
    "editable": true
   },
   "outputs": [],
   "source": [
    "finde['apariciones'] = finde['start_day_of_week'].map(lambda x: 1) # seteo todas las rows con 1 para despues agrupar\n",
    "horarios_finde = finde[['horario_inicial_float', 'apariciones']]\n",
    "finde = finde.drop('apariciones', 1) # vuelvo a dejar el dt como antes\n",
    "horarios_finde_contador = horarios_finde.groupby('horario_inicial_float').aggregate(sum)"
   ]
  },
  {
   "cell_type": "code",
   "execution_count": null,
   "metadata": {
    "collapsed": false,
    "deletable": true,
    "editable": true
   },
   "outputs": [],
   "source": [
    "horarios_finde_contador.plot.bar(rot=0, figsize=(10,10), color='green');\n",
    "plt.ylabel('Cantidad de viajes')\n",
    "plt.xlabel('Horario de inicio del viaje')\n",
    "plt.title('Promedio de uso del servicio por horario durante el fin de semana')\n",
    "plt.legend('')\n",
    "plt.show()"
   ]
  },
  {
   "cell_type": "markdown",
   "metadata": {
    "collapsed": true,
    "deletable": true,
    "editable": true
   },
   "source": [
    "Los horarios pico los fines de semana son de 11 a 16. También lo que se observa es la disminución del uso del servicio al llegar la noche a pesar de que sea fin de semana. En el siguiente plot se va a analizar esa comparación."
   ]
  },
  {
   "cell_type": "code",
   "execution_count": null,
   "metadata": {
    "collapsed": false,
    "deletable": true,
    "editable": true
   },
   "outputs": [],
   "source": [
    "viajes_en_hora_pico_finde = finde[((finde['horario_inicial_float'] >= 11) & (finde['horario_inicial_float'] <= 16))]\n",
    "viajes_finde_noche = finde[((finde['horario_inicial_float'] >= 20) & (finde['horario_inicial_float'] <= 24))]"
   ]
  },
  {
   "cell_type": "code",
   "execution_count": null,
   "metadata": {
    "collapsed": false,
    "deletable": true,
    "editable": true
   },
   "outputs": [],
   "source": [
    "sizes = [viajes_en_hora_pico_finde.start_day_of_week.count(), viajes_finde_noche.start_day_of_week.count()]\n",
    "nombres = ['Hora pico', 'Durante la noche']\n",
    "\n",
    "plt.figure(figsize=(6, 6))\n",
    "plt.title('Uso del servicio los fines de semana')\n",
    "plt.pie(sizes, labels=nombres, autopct='%1.1f%%', startangle=20, colors=['orange', 'violet'], explode=(0.1, 0))\n",
    "plt.show()"
   ]
  },
  {
   "cell_type": "markdown",
   "metadata": {
    "collapsed": true,
    "deletable": true,
    "editable": true
   },
   "source": [
    "## 2.2) Análisis de los horarios importantes\n",
    "\n",
    "Se analizarán los destinos y trayectos más populares en los horarios críticos de la semana y fin de semana."
   ]
  },
  {
   "cell_type": "code",
   "execution_count": null,
   "metadata": {
    "collapsed": false,
    "deletable": true,
    "editable": true
   },
   "outputs": [],
   "source": [
    "viajes_en_hora_pico_semana = semana[((semana['horario_inicial_float'] >= 8) & (semana['horario_inicial_float'] <= 9)) \n",
    "                                   | ((semana['horario_inicial_float'] >= 18) & (semana['horario_inicial_float'] <= 19))]"
   ]
  },
  {
   "cell_type": "code",
   "execution_count": null,
   "metadata": {
    "collapsed": false,
    "deletable": true,
    "editable": true
   },
   "outputs": [],
   "source": [
    "destinos_mas_populares_hora_pico_semana = viajes_en_hora_pico_semana['end_station_name'].value_counts().sort_values(ascending=False)\n",
    "destinos_mas_populares_hora_pico_semana = destinos_mas_populares_hora_pico_semana.head(10)"
   ]
  },
  {
   "cell_type": "code",
   "execution_count": null,
   "metadata": {
    "collapsed": false,
    "deletable": true,
    "editable": true
   },
   "outputs": [],
   "source": [
    "destinos_mas_populares_hora_pico_semana.plot(kind='bar', rot=45, figsize=(20,10));\n",
    "plt.title('Destinos mas populares en hora pico semanal');"
   ]
  },
  {
   "cell_type": "markdown",
   "metadata": {
    "deletable": true,
    "editable": true
   },
   "source": [
    "Estos son los 10 destinos más populares durante las horas pico en la semana. En primer lugar se destaca el Caltrain, donde una gran cantidad de gente se dirige luego de trabajar para regresar a sus casas. Las demás estaciones presentan áreas de mucho movimiento de gente: empresas, comercios, etc, y también se encuentra el puerto, por lo que lo más probable es que la gente se dirija allí para concurrir a trabajar."
   ]
  },
  {
   "cell_type": "code",
   "execution_count": null,
   "metadata": {
    "collapsed": false,
    "deletable": true,
    "editable": true
   },
   "outputs": [],
   "source": [
    "# función que dado un dataframe con un campo 'start_station_name' y otro 'end_station_name',\n",
    "# devuelve un diccionario con los start_station como clave y como valor un diccionario con clave el end_station\n",
    "# y valor la cantidad de viajes de ese trayecto. También devuelve una lista con el trayecto con mayor cantidad\n",
    "# de viajes junto con el start y end station del mismo. Orden = O(n) siendo n la cantidad de rows del dataframe.\n",
    "def contador_viajes(dataframe):\n",
    "    cont_viajes = {}\n",
    "    viaje_mas_popular = []\n",
    "    viaje_mas_popular.append(0)\n",
    "    viaje_mas_popular.append(\"\")\n",
    "    viaje_mas_popular.append(\"\")\n",
    "    for index,row in dataframe.iterrows():\n",
    "        \n",
    "        if row['start_station_name'] not in cont_viajes:\n",
    "            cont_viajes[row['start_station_name']] = {}\n",
    "           \n",
    "        if row['end_station_name'] not in cont_viajes[row['start_station_name']]:\n",
    "            cont_viajes[row['start_station_name']][row['end_station_name']] = 1\n",
    "        else:\n",
    "            cont_viajes[row['start_station_name']][row['end_station_name']] += 1\n",
    "        \n",
    "        if cont_viajes[row['start_station_name']][row['end_station_name']] > viaje_mas_popular[0]:\n",
    "            viaje_mas_popular[0] = cont_viajes[row['start_station_name']][row['end_station_name']]\n",
    "            viaje_mas_popular[1] = row['start_station_name']\n",
    "            viaje_mas_popular[2] = row['end_station_name']\n",
    "    \n",
    "    return cont_viajes,viaje_mas_popular"
   ]
  },
  {
   "cell_type": "code",
   "execution_count": null,
   "metadata": {
    "collapsed": false,
    "deletable": true,
    "editable": true
   },
   "outputs": [],
   "source": [
    "contador_de_viajes_hora_pico_semana,viaje_mas_popular_hora_pico_semana = contador_viajes(viajes_en_hora_pico_semana)\n",
    "viaje_mas_popular_hora_pico_semana"
   ]
  },
  {
   "cell_type": "markdown",
   "metadata": {
    "deletable": true,
    "editable": true
   },
   "source": [
    "Con esto se ve que el viaje más realizado en hora pico durante la semana es el trayecto San Francisco Caltrain 2 (330 Townsend) - Townsend at 7th."
   ]
  },
  {
   "cell_type": "code",
   "execution_count": null,
   "metadata": {
    "collapsed": false,
    "deletable": true,
    "editable": true
   },
   "outputs": [],
   "source": [
    "destinos_mas_populares_hora_pico_finde = viajes_en_hora_pico_finde['end_station_name'].value_counts().sort_values(ascending=False)\n",
    "destinos_mas_populares_hora_pico_finde = destinos_mas_populares_hora_pico_finde.head(10)"
   ]
  },
  {
   "cell_type": "code",
   "execution_count": null,
   "metadata": {
    "collapsed": false,
    "deletable": true,
    "editable": true,
    "scrolled": false
   },
   "outputs": [],
   "source": [
    "destinos_mas_populares_hora_pico_finde.plot(kind='bar', rot=45, figsize=(20,10));\n",
    "plt.title('Destinos mas populares en hora pico fin de semana');"
   ]
  },
  {
   "cell_type": "markdown",
   "metadata": {
    "collapsed": true,
    "deletable": true,
    "editable": true
   },
   "source": [
    "Aqui se encuentran los 10 destinos más populares para las horas pico del fin de semana. Se puede apreciar que los mismos se caracterizan por ser lugares muy atractivos para pasear y hacer actividades de ocio."
   ]
  },
  {
   "cell_type": "code",
   "execution_count": null,
   "metadata": {
    "collapsed": false,
    "deletable": true,
    "editable": true
   },
   "outputs": [],
   "source": [
    "contador_de_viajes_hora_pico_finde,viaje_mas_popular_hora_pico_finde = contador_viajes(viajes_en_hora_pico_finde)\n",
    "viaje_mas_popular_hora_pico_finde"
   ]
  },
  {
   "cell_type": "markdown",
   "metadata": {
    "collapsed": true,
    "deletable": true,
    "editable": true
   },
   "source": [
    "Con esto se ve que el viaje más realizado en hora pico durante el fin de semana es el trayecto Harry Bridges Plaza (Ferry Building) - Embarcadero at Sansome. Además estos dos son los destinos más concurridos las horas pico de los fines de semana. Un posible uso de esta información podría ser para fines comerciales, ya que esto da la pauta que por esta zona es donde más concentración de gente se encuentra. "
   ]
  },
  {
   "cell_type": "code",
   "execution_count": null,
   "metadata": {
    "collapsed": false,
    "deletable": true,
    "editable": true
   },
   "outputs": [],
   "source": [
    "viernes_y_sab = semana_entera[(semana_entera['start_day_of_week'] == \"Saturday\") | (semana_entera['start_day_of_week'] == \"Friday\")]\n",
    "viernes_y_sab_noche = viernes_y_sab[(viernes_y_sab['horario_inicial_float'] >= 20) & (viernes_y_sab['horario_inicial_float'] <= 24)]"
   ]
  },
  {
   "cell_type": "code",
   "execution_count": null,
   "metadata": {
    "collapsed": false,
    "deletable": true,
    "editable": true
   },
   "outputs": [],
   "source": [
    "destinos_mas_populares_viernes_y_sab_noche = viernes_y_sab_noche['end_station_name'].value_counts().sort_values(ascending=False)\n",
    "destinos_mas_populares_viernes_y_sab_noche = destinos_mas_populares_viernes_y_sab_noche.head(10)"
   ]
  },
  {
   "cell_type": "code",
   "execution_count": null,
   "metadata": {
    "collapsed": false,
    "deletable": true,
    "editable": true
   },
   "outputs": [],
   "source": [
    "destinos_mas_populares_viernes_y_sab_noche.plot(kind='bar', rot=45, figsize=(20,10));\n",
    "plt.title('Destinos mas populares viernes y sabado por la noche');"
   ]
  },
  {
   "cell_type": "markdown",
   "metadata": {
    "collapsed": true,
    "deletable": true,
    "editable": true
   },
   "source": [
    "Estos son los destinos más frecuentados los viernes y sábados por la noche. Se analizó aparte del domingo ya que estos son los días que al día siguiente por lo general no se trabaja/concurre a estudiar, por lo que la gente se podría dormir más tarde y planear otro tipo de salida. Se destacan entre los lugares más frecuentados las estaciones Powell Street BART y Market at 4th, las cuales están rodeadas de shoppings, restaurantes y demás."
   ]
  },
  {
   "cell_type": "markdown",
   "metadata": {
    "collapsed": true,
    "deletable": true,
    "editable": true
   },
   "source": [
    "## 2.3) Análisis relacionado a las duraciones de los viajes\n",
    "\n",
    "### 2.3.A) ¿Viajes más largos en la semana o el fin de semana?"
   ]
  },
  {
   "cell_type": "code",
   "execution_count": null,
   "metadata": {
    "collapsed": false,
    "deletable": true,
    "editable": true
   },
   "outputs": [],
   "source": [
    "semana_entera_con_duracion = trips[['start_day_of_week','horario_inicial_float', 'start_station_name', 'end_station_name','duracion_viaje','duration']].round()\n",
    "semana_entera_con_duracion"
   ]
  },
  {
   "cell_type": "markdown",
   "metadata": {
    "deletable": true,
    "editable": true
   },
   "source": [
    "### 2.3.) ¿Viajes de más de 8 horas de duración?\n",
    "Se pueden esperar viajes muy largos de a lo sumo 8 horas de alguien que decidió recorrer varios puntos de la ciudad y aparte en el medio ir parando, pero ya cuando se excede esto hasta casos que incluso superan un día de uso creemos que hubo datos mal cargados o algún otro problema como la incorrecta devolución de la bicicleta. Por eso se van a filtrar esos viajes."
   ]
  },
  {
   "cell_type": "code",
   "execution_count": null,
   "metadata": {
    "collapsed": false,
    "deletable": true,
    "editable": true
   },
   "outputs": [],
   "source": [
    "viajes_larguisimos = semana_entera_con_duracion[semana_entera_con_duracion['duracion_viaje'] > \"08:00:00\"]\n",
    "semana_entera_con_duracion = semana_entera_con_duracion[-(semana_entera_con_duracion['duracion_viaje'] > \"08:00:00\")]\n",
    "viajes_larguisimos.sample(4)"
   ]
  },
  {
   "cell_type": "code",
   "execution_count": null,
   "metadata": {
    "collapsed": false,
    "deletable": true,
    "editable": true
   },
   "outputs": [],
   "source": [
    "viajes_larguisimos.start_day_of_week.count()"
   ]
  },
  {
   "cell_type": "markdown",
   "metadata": {
    "deletable": true,
    "editable": true
   },
   "source": [
    "Se filtraron unos 1884 viajes."
   ]
  },
  {
   "cell_type": "code",
   "execution_count": null,
   "metadata": {
    "collapsed": true,
    "deletable": true,
    "editable": true
   },
   "outputs": [],
   "source": [
    "semana_con_duracion = semana_entera_con_duracion[-(semana_entera_con_duracion['start_day_of_week'] == \"Saturday\")]\n",
    "semana_con_duracion = semana_entera_con_duracion[-(semana_entera_con_duracion['start_day_of_week'] == \"Sunday\")]"
   ]
  },
  {
   "cell_type": "code",
   "execution_count": null,
   "metadata": {
    "collapsed": true,
    "deletable": true,
    "editable": true
   },
   "outputs": [],
   "source": [
    "finde_con_duracion = semana_entera_con_duracion[(semana_entera_con_duracion['start_day_of_week'] == \"Saturday\") | (semana_entera_con_duracion['start_day_of_week'] == \"Sunday\")]"
   ]
  },
  {
   "cell_type": "code",
   "execution_count": null,
   "metadata": {
    "collapsed": false,
    "deletable": true,
    "editable": true
   },
   "outputs": [],
   "source": [
    "semana_con_duracion.duration.mean() / 60 # resultado en minutos"
   ]
  },
  {
   "cell_type": "code",
   "execution_count": null,
   "metadata": {
    "collapsed": false,
    "deletable": true,
    "editable": true
   },
   "outputs": [],
   "source": [
    "finde_con_duracion.duration.mean() / 60 # resultado en minutos"
   ]
  },
  {
   "cell_type": "markdown",
   "metadata": {
    "collapsed": true,
    "deletable": true,
    "editable": true
   },
   "source": [
    "Los viajes en promedio duran más los fines de semana. Esto tiene lógica ya que los fines de semana la gente puede usar más tiempo para pasear con la bicileta sin tener un destino en particular cuando durante la semana la gente busca ir al trabajo o lugar donde ejercer sus obligaciones.\n",
    "Igualmente hay que considerar que esta estadística podría estar dañada por muchos viajes \"largos\" en el fin de semana, por ejemplo de más de dos horas, que harían subir el promedio general, sin haber tantos viajes con un horario parecido al promedio calculado. A continuación se analizará eso:"
   ]
  },
  {
   "cell_type": "code",
   "execution_count": null,
   "metadata": {
    "collapsed": false,
    "deletable": true,
    "editable": true
   },
   "outputs": [],
   "source": [
    "semana_con_duracion[semana_con_duracion['duracion_viaje'] > \"02:00:00\"].start_day_of_week.count()"
   ]
  },
  {
   "cell_type": "code",
   "execution_count": null,
   "metadata": {
    "collapsed": false,
    "deletable": true,
    "editable": true
   },
   "outputs": [],
   "source": [
    "finde_con_duracion[finde_con_duracion['duracion_viaje'] > \"02:00:00\"].start_day_of_week.count()"
   ]
  },
  {
   "cell_type": "markdown",
   "metadata": {
    "collapsed": true,
    "deletable": true,
    "editable": true
   },
   "source": [
    "Se observa que tanto en la semana como los fines de semana hay viajes de más de 2 horas, y que ya que la semana tiene más días que el fin de semana y la estadística muestra que son casi el doble de viajes, en promedio esos viajes largos se dan por igual todos los días, por lo que el probema de que haya viajes largos no afecta el resultado de la estadística anterior."
   ]
  },
  {
   "cell_type": "markdown",
   "metadata": {
    "deletable": true,
    "editable": true
   },
   "source": [
    "## 2.4) Trayectos interesantes\n",
    "\n",
    "A continuación se analizarán los trayectos más frecuentes según un criterio de duración y demás fitros."
   ]
  },
  {
   "cell_type": "code",
   "execution_count": null,
   "metadata": {
    "collapsed": false,
    "deletable": true,
    "editable": true
   },
   "outputs": [],
   "source": [
    "finde_viajes_largos = finde_con_duracion[finde_con_duracion['duracion_viaje'] > \"00:30:00\"]"
   ]
  },
  {
   "cell_type": "code",
   "execution_count": null,
   "metadata": {
    "collapsed": false,
    "deletable": true,
    "editable": true
   },
   "outputs": [],
   "source": [
    "contador_de_viajes_largos_finde,viaje_largo_mas_popular_finde = contador_viajes(finde_viajes_largos)\n",
    "viaje_largo_mas_popular_finde.sample(4)"
   ]
  },
  {
   "cell_type": "markdown",
   "metadata": {
    "collapsed": true,
    "deletable": true,
    "editable": true
   },
   "source": [
    "Con esto se ve que los viajes mayores a 30 minutos los fines de semana son tanto de inicio como fin la estación Harry Bridges Plaza (Ferry Building). El objetivo de este análisis fue encontrar el trayecto más popular de los fines de semana que sea orientado a pasear (por eso el filtro de la duración). El resultado muestra que el viaje más realizado es empezar en dicha estación, recorrer por más de 30 minutos, y luego volver a esta misma dejar la bicicleta."
   ]
  },
  {
   "cell_type": "code",
   "execution_count": null,
   "metadata": {
    "collapsed": false,
    "deletable": true,
    "editable": true
   },
   "outputs": [],
   "source": [
    "harry_harry = finde_viajes_largos[(finde_viajes_largos['start_station_name'] == 'Harry Bridges Plaza (Ferry Building)') & (finde_viajes_largos['end_station_name'] == 'Harry Bridges Plaza (Ferry Building)')]\n",
    "harry_harry.describe()"
   ]
  },
  {
   "cell_type": "markdown",
   "metadata": {
    "deletable": true,
    "editable": true
   },
   "source": [
    "Como se puede apreciar, estos viajes se caracterizan por su duración promedio de 2 horas y media y que en promedio salen a las 13hs. Esto da la pauta de qué elige la mayoría de gente a la hora de pasear por un largo rato aprovechando el clima de recién entrada la tarde."
   ]
  },
  {
   "cell_type": "code",
   "execution_count": null,
   "metadata": {
    "collapsed": false,
    "deletable": true,
    "editable": true
   },
   "outputs": [],
   "source": [
    "semana_viajes_cortos = semana_con_duracion[(semana_con_duracion['duracion_viaje'] > \"00:08:00\") & (semana_con_duracion['duracion_viaje'] < \"00:20:00\")]"
   ]
  },
  {
   "cell_type": "code",
   "execution_count": null,
   "metadata": {
    "collapsed": false,
    "deletable": true,
    "editable": true
   },
   "outputs": [],
   "source": [
    "contador_de_viajes_cortos_semana,viaje_corto_mas_popular_semana = contador_viajes(semana_viajes_cortos)\n",
    "viaje_corto_mas_popular_semana.sample(4)"
   ]
  },
  {
   "cell_type": "code",
   "execution_count": null,
   "metadata": {
    "collapsed": false,
    "deletable": true,
    "editable": true
   },
   "outputs": [],
   "source": [
    "steuart_caltrain = semana_viajes_cortos[(semana_viajes_cortos['start_station_name'] == 'Steuart at Market') & (semana_viajes_cortos['end_station_name'] == 'San Francisco Caltrain (Townsend at 4th)')]\n",
    "steuart_caltrain.describe()"
   ]
  },
  {
   "cell_type": "markdown",
   "metadata": {
    "deletable": true,
    "editable": true
   },
   "source": [
    "Con esto se ve que el viaje entre 8 y 20 minutos más popular los días de semana es el trayecto Steuart at Market - San Francisco Caltrain (Townsend at 4th). El objetivo de este análisis fue encontrar el trayecto con una duración normal que más se haga considerando el tráfico que presenta un día semanal. Una posible conclusión debido a la hora promedio de comienzo de los viajes (15hs) es que la gente al terminar de trabajar se dirige desde Steuart at Market (un lugar con mucho movimiento por lo que deducimos que mucha gente trabaja por esa zona) en bicicleta hasta el Caltrain, y toma este transporte para volver a sus casas."
   ]
  },
  {
   "cell_type": "markdown",
   "metadata": {},
   "source": [
    "# 3)"
   ]
  },
  {
   "cell_type": "code",
   "execution_count": null,
   "metadata": {
    "collapsed": false,
    "deletable": true,
    "editable": true
   },
   "outputs": [],
   "source": [
    "stations = pd.read_csv('../data/station.csv', low_memory = False)\n",
    "\n",
    "stations.rename(columns = {'installation_date':'date',\n",
    "                           'long'             :'lon'\n",
    "                          }, inplace = True)\n",
    "\n",
    "# Cambio el formato de las fechas\n",
    "stations['date'] = pd.to_datetime(stations['date'])"
   ]
  },
  {
   "cell_type": "code",
   "execution_count": null,
   "metadata": {
    "collapsed": true,
    "deletable": true,
    "editable": true
   },
   "outputs": [],
   "source": [
    "trips = pd.read_csv('../data/trip.csv', low_memory = False)\n",
    "\n",
    "#Eliminamos este dato ya que no sera relevante para estos analisis\n",
    "del(trips['zip_code'])\n",
    "\n",
    "trips.rename(columns = {'start_date'        :'s_date' ,\n",
    "                        'end_date'          :'e_date' ,\n",
    "                        'start_station_name':'ss_name',\n",
    "                        'start_station_id'  :'ss_id'  ,\n",
    "                        'end_station_name'  :'es_name',\n",
    "                        'end_station_id'    :'es_id'  ,\n",
    "                        'subscription_type' :'subs'\n",
    "                       }, inplace = True)\n",
    "\n",
    "# Cambio el formato de las fechas y tiempos de incio y fin de cada viaje\n",
    "trips['s_date'] = pd.to_datetime(trips['s_date'], format = '%m/%d/%Y %H:%M')\n",
    "trips['e_date'] = pd.to_datetime(trips['e_date'], format = '%m/%d/%Y %H:%M')"
   ]
  },
  {
   "cell_type": "code",
   "execution_count": null,
   "metadata": {
    "collapsed": false,
    "deletable": true,
    "editable": true
   },
   "outputs": [],
   "source": [
    "#Quitamos los viajes de duracion menor o igual a 3 minutos (180 segundos) y que de la misma estacion,\n",
    "#ya que pueden ser rutinas de mantenimiento o reparacion, etc\n",
    "trips = trips[-((trips['duration'] <= 180) & \\\n",
    "                (trips['ss_id'] == trips['es_id']))]\n",
    "\n",
    "# Ordeno los viajes por id\n",
    "trips = trips.sort_values(by = 'id')"
   ]
  },
  {
   "cell_type": "markdown",
   "metadata": {
    "deletable": true,
    "editable": true
   },
   "source": [
    "## 3.1) Suscriptores vs Clientes\n",
    "\n",
    "Quienes utilizan mas el servicio? Suscriptores o clientes comunes?"
   ]
  },
  {
   "cell_type": "code",
   "execution_count": null,
   "metadata": {
    "collapsed": true,
    "deletable": true,
    "editable": true
   },
   "outputs": [],
   "source": [
    "subs = trips.groupby('subs').count()[['id']]\n",
    "\n",
    "plt.figure(figsize = (4, 4))\n",
    "plt.pie(subs.values,\n",
    "        explode = (0.1, 0),\n",
    "        labels = subs.index.values,\n",
    "        startangle = -25,\n",
    "        colors = ['lightgrey', 'gold'],\n",
    "        autopct = '%1.1f%%'\n",
    "       )\n",
    "plt.savefig('visu_subs_vs_cust.png')\n",
    "plt.show()"
   ]
  },
  {
   "cell_type": "markdown",
   "metadata": {
    "deletable": true,
    "editable": true
   },
   "source": [
    "Aqui se ve que la mayoria de los usuarios del servicio, estan suscriptos a este mismo."
   ]
  },
  {
   "cell_type": "markdown",
   "metadata": {
    "deletable": true,
    "editable": true
   },
   "source": [
    "## 3.2) Uso de Estaciones por candtidad de bicicletas totales"
   ]
  },
  {
   "cell_type": "code",
   "execution_count": null,
   "metadata": {
    "collapsed": false,
    "deletable": true,
    "editable": true
   },
   "outputs": [],
   "source": [
    "trips_13_15 = trips\n",
    "trips_2013  = trips[          trips['s_date']  < '2014'                    ].reset_index()\n",
    "trips_2014  = trips[('2014' < trips['s_date']) & (trips['s_date'] < '2015')].reset_index()\n",
    "trips_2015  = trips[ '2015' < trips['s_date']                              ].reset_index()\n",
    "\n",
    "viajes_por_anio = [trips_13_15, trips_2013, trips_2014, trips_2015]\n",
    "anios = ['2013-2015', '2013', '2014', '2015']\n",
    "\n",
    "#Calculamos la suma de bicicletas que partieron de las estaciones usadas en cada año\n",
    "for i in range(len(viajes_por_anio)):\n",
    "    viajes_por_anio[i] = viajes_por_anio[i].groupby('ss_name')['id'].count().sort_values(ascending = False)"
   ]
  },
  {
   "cell_type": "code",
   "execution_count": null,
   "metadata": {
    "collapsed": false,
    "deletable": true,
    "editable": true
   },
   "outputs": [],
   "source": [
    "plt.figure(figsize = (20, 7))\n",
    "\n",
    "for i in range(len(viajes_por_anio)):\n",
    "    plt.subplot(221 + i);\n",
    "    plt.title(anios[i]);\n",
    "    plt.xlabel('Cantidad de bicicletas totales');\n",
    "    plt.ylabel('Estacion de inicio');\n",
    "    plt.barh([c for c in range(5)],\n",
    "             #[c for c in viajes_por_anio[i][:5].values],\n",
    "             viajes_por_anio[i][:5].values,\n",
    "             tick_label = [c for c in viajes_por_anio[i][:5].index.values])\n",
    "    plt.savefig('viajes_' + anios[i] + '.png')\n",
    "\n",
    "plt.tight_layout()"
   ]
  },
  {
   "cell_type": "markdown",
   "metadata": {},
   "source": [
    "."
   ]
  },
  {
   "cell_type": "markdown",
   "metadata": {
    "deletable": true,
    "editable": true
   },
   "source": [
    "## 3.3) Visualizando con mapas\n",
    "\n",
    "Ahora vamos a visualizar las estaciones y sus frecuencias de uso en mapas."
   ]
  },
  {
   "cell_type": "code",
   "execution_count": null,
   "metadata": {
    "collapsed": false,
    "deletable": true,
    "editable": true
   },
   "outputs": [],
   "source": [
    "from math import pi as PI\n",
    "\n",
    "#Estas son algunas funciones que nos van a ayudar a manejar basemap para centrar los mapas en una cierta zona\n",
    "def distancia_grados(dist):\n",
    "    return (180 * dist) / (6371 * PI)\n",
    "\n",
    "def distancia_km(angulo):\n",
    "    return angulo * 6371 * PI / 180\n",
    "\n",
    "def mean(a, b):\n",
    "    return (a + b) / 2"
   ]
  },
  {
   "cell_type": "code",
   "execution_count": null,
   "metadata": {
    "collapsed": false,
    "deletable": true,
    "editable": true
   },
   "outputs": [],
   "source": [
    "#Calculamos la cantidad de bicicletas por cada estacion\n",
    "bicis_por_estacion = trips.groupby('ss_id').count()[['ss_name']].reset_index()\n",
    "\n",
    "bicis_por_estacion.rename(columns = {'ss_id' :'id',\n",
    "                                     'ss_name':'count'\n",
    "                                    }, inplace = True)\n",
    "\n",
    "#Agregamos el nombre de la estacion, la ciudad en donde queda y sus coordenadas\n",
    "estaciones = pd.merge(stations.drop(['date', 'dock_count'], 1), bicis_por_estacion, on = 'id')"
   ]
  },
  {
   "cell_type": "markdown",
   "metadata": {
    "deletable": true,
    "editable": true
   },
   "source": [
    "### 3.3.A) Frecuencia de uso de Estaciones por ciudad\n",
    "\n",
    "Lo que se quiere ver ahora es, como se distribuyen los viajes realizados entre las estaciones de cada ciudad.\n",
    "(se utiliza la cantidad de bicicletas que parten de una estacion como medida de frecuencia de uso de una estacion)"
   ]
  },
  {
   "cell_type": "code",
   "execution_count": null,
   "metadata": {
    "collapsed": false,
    "deletable": true,
    "editable": true
   },
   "outputs": [],
   "source": [
    "#Separamos las estaciones por ciudad\n",
    "sf = estaciones[estaciones['city'] == 'San Francisco'].reset_index(drop = True)\n",
    "sj = estaciones[estaciones['city'] == 'San Jose'     ].reset_index(drop = True)\n",
    "mv = estaciones[estaciones['city'] == 'Mountain View'].reset_index(drop = True)\n",
    "pa = estaciones[estaciones['city'] == 'Palo Alto'    ].reset_index(drop = True)\n",
    "rc = estaciones[estaciones['city'] == 'Redwood City' ].reset_index(drop = True)\n",
    "\n",
    "ciudades = [sf, sj, mv, pa, rc, estaciones]\n",
    "nombres  = ['San Francisco', \n",
    "            'San Jose', \n",
    "            'Mountain View', \n",
    "            'Palo Alto', \n",
    "            'Redwood City', \n",
    "            'Bay']\n",
    "ciudades_cant_estaciones = []\n",
    "ciudades_bicis = []\n",
    "\n",
    "#Listas con latitudes y longitudes de cada ciudad\n",
    "lats = []\n",
    "lons = []\n",
    "\n",
    "offsets = []\n",
    "\n",
    "#Para cada ciudad, vemos su cantidad de estaciones y la cantidad total de bicicletas\n",
    "for ciudad in ciudades:\n",
    "    ciudades_cant_estaciones.append(ciudad.shape[0])\n",
    "    ciudades_bicis.append(ciudad['count'].sum())\n",
    "    #Para incluir a todas las estaciones (en la visualizacion), tomamos la media entre la coordenada maxima y minima\n",
    "    lat_max, lat_min = ciudad['lat'].max(), ciudad['lat'].min()\n",
    "    lon_max, lon_min = ciudad['lon'].max(), ciudad['lon'].min()\n",
    "    lats.append(mean(lat_max, lat_min))\n",
    "    lons.append(mean(lon_max, lon_min))\n",
    "    offsets.append(max((lat_max - lat_min) * 0.6, (lon_max - lon_min) * 0.6))\n",
    "\n",
    "#La cantidad de estaciones se va a utilizar para escalar a los tamaños de las estaciones en la visualizacion"
   ]
  },
  {
   "cell_type": "code",
   "execution_count": null,
   "metadata": {
    "collapsed": false,
    "deletable": true,
    "editable": true
   },
   "outputs": [],
   "source": [
    "#Seteamos algunas variables para los mapas\n",
    "proyeccion = 'merc'\n",
    "resolucion = 'l'\n",
    "epsg = 4326\n",
    "color = 'tomato'\n",
    "servicio = 'NatGeo_World_Map'\n",
    "x_tam, y_tam = 500, 500 #1000, 1000\n",
    "marcador = 'o'"
   ]
  },
  {
   "cell_type": "code",
   "execution_count": null,
   "metadata": {
    "collapsed": false,
    "deletable": true,
    "editable": true
   },
   "outputs": [],
   "source": [
    "plt.figure(figsize = (20, 20))\n",
    "\n",
    "for i in range(len(ciudades)):\n",
    "    plt.subplot(331 + i);\n",
    "    plt.title(nombres[i]);\n",
    "    mapa = Basemap(projection = proyeccion, \n",
    "                   resolution = resolucion, \n",
    "                   epsg = epsg, \n",
    "                   llcrnrlat = lats[i] - offsets[i], \n",
    "                   llcrnrlon = lons[i] - offsets[i], \n",
    "                   urcrnrlat = lats[i] + offsets[i], \n",
    "                   urcrnrlon = lons[i] + offsets[i])\n",
    "    \n",
    "    #Ploteamos las estaciones e indicamos frecuencia de uso segun la cantidad de viajes inciados desde esa estacion\n",
    "    #Aqui se escalan los tamaños de las estaciones dependiendo de la ciudad que se muestre\n",
    "    mapa.scatter(ciudades[i]['lon'].values, \n",
    "                 ciudades[i]['lat'].values, \n",
    "                 marker = marcador, \n",
    "                 c = color, \n",
    "                 s = ciudades[i]['count'].apply(lambda x:x/ciudades_cant_estaciones[i]));\n",
    "    \n",
    "    mapa.arcgisimage(service = servicio, \n",
    "                     xpixels = x_tam, \n",
    "                     ypixels = y_tam);\n",
    "    \n",
    "    plt.savefig(nombres[i] + '_map.png');\n",
    "    "
   ]
  },
  {
   "cell_type": "markdown",
   "metadata": {
    "deletable": true,
    "editable": true
   },
   "source": [
    "### 3.3.B) Comparando todas las ciudades"
   ]
  },
  {
   "cell_type": "code",
   "execution_count": null,
   "metadata": {
    "collapsed": true,
    "deletable": true,
    "editable": true
   },
   "outputs": [],
   "source": [
    "#Buscando la coordenada media entre todas las estaciones para centrar al mapa\n",
    "max_lat, max_lon = station_bikes.max()[['lat', 'lon']]\n",
    "min_lat, min_lon = station_bikes.min()[['lat', 'lon']]\n",
    "lat, lon = mean(max_lat, min_lat), mean(max_lon, min_lon)\n",
    "\n",
    "plt.figure(figsize = (10, 10))\n",
    "offset = distancia_grados(35)\n",
    "mapa = Basemap(projection = proyeccion, \n",
    "               resolution = resolucion, \n",
    "               epsg = epsg, \n",
    "               llcrnrlat = lat - offset, \n",
    "               llcrnrlon = lon - offset, \n",
    "               urcrnrlat = lat + offset, \n",
    "               urcrnrlon = lon + offset)\n",
    "  \n",
    "mapa.scatter(lons, \n",
    "             lats, \n",
    "             s = ciudades_bicis, \n",
    "             marker = marcador, \n",
    "             c = color)\n",
    "\n",
    "mapa.arcgisimage(service = servicio, \n",
    "                 xpixels = x_tam,  \n",
    "                 ypixels = y_tam)\n",
    "\n",
    "plt.savefig('bahia_viajes_ciudades.png')\n",
    "plt.show()"
   ]
  },
  {
   "cell_type": "markdown",
   "metadata": {
    "deletable": true,
    "editable": true
   },
   "source": [
    "## 3.4) Comparando viajes por ciudad"
   ]
  },
  {
   "cell_type": "code",
   "execution_count": null,
   "metadata": {
    "collapsed": false,
    "deletable": true,
    "editable": true
   },
   "outputs": [],
   "source": [
    "plt.figure(figsize = (6, 6))\n",
    "plt.pie(ciudades_bicis[:-1:], \n",
    "        labels = nombres[:-1:], \n",
    "        autopct = '%1.1f%%', \n",
    "        explode = (0, .15, .25, .35, .45))\n",
    "plt.show()"
   ]
  },
  {
   "cell_type": "markdown",
   "metadata": {
    "deletable": true,
    "editable": true
   },
   "source": [
    "La gran parte de los viajes parten de estaciones ubicadas en la ciudad de San Francisco"
   ]
  },
  {
   "cell_type": "code",
   "execution_count": null,
   "metadata": {
    "collapsed": false,
    "deletable": true,
    "editable": true
   },
   "outputs": [],
   "source": [
    "#Dataframe con los nombres de todas las estaciones y sus coordenadas\n",
    "ss_location = stations[['name', 'lat', 'lon', 'city']]\n",
    "ss_location.rename(columns = {'name':'ss_name', \n",
    "                              'lat' :'s_lat', \n",
    "                              'lon' :'s_lon', \n",
    "                              'city':'s_city'\n",
    "                             }, inplace = True)\n",
    "\n",
    "es_location = stations[['name', 'lat', 'lon', 'city']]\n",
    "es_location.rename(columns = {'name':'es_name', \n",
    "                              'lat' :'e_lat', \n",
    "                              'lon' :'e_lon', \n",
    "                              'city':'e_city'\n",
    "                             }, inplace = True)\n",
    "\n",
    "#Estos dataframes seran combinados con los de trayectos por la columna que tengan en comun\n",
    "#En este caso, se quiere obtener un dataframe con 2 estaciones (inicial y final) con sus coordenadas y viajes"
   ]
  },
  {
   "cell_type": "markdown",
   "metadata": {
    "collapsed": true,
    "deletable": true,
    "editable": true
   },
   "source": [
    "## 3.5) Trayectos mas frecuentes\n",
    "\n",
    "### 3.5.A) Trayectos por ciudad"
   ]
  },
  {
   "cell_type": "markdown",
   "metadata": {
    "deletable": true,
    "editable": true
   },
   "source": [
    "Lo que queremos lograr ahora es, ver cuales son los viajes entre estaciones mas utilizados.\n",
    "\n",
    "Ademas de calcular los trayectos hay que juntar los que estan repetidos. Los trayectos con mas repeticiones seran considerados como los mas frecuentes."
   ]
  },
  {
   "cell_type": "code",
   "execution_count": null,
   "metadata": {
    "collapsed": false,
    "deletable": true,
    "editable": true
   },
   "outputs": [],
   "source": [
    "trayectos_frec = trips[['id', 'ss_name', 'es_name']].groupby(['es_name', 'ss_name'], as_index = False).count()\n",
    "\n",
    "trayectos_frec.rename(columns = {'id':'count'}, inplace = True)"
   ]
  },
  {
   "cell_type": "code",
   "execution_count": null,
   "metadata": {
    "collapsed": true,
    "deletable": true,
    "editable": true
   },
   "outputs": [],
   "source": [
    "def reducir_trayectos(trayectos_frec):\n",
    "    #El trayecto A -> B es el mismo que B -> A\n",
    "    #Esta funcion junta las repeticiones de estos trayectos\n",
    "    l = [] \n",
    "        #Lista con indice del dataframe del trayecto eliminado\n",
    "    for i in range(len(trayectos_frec)): \n",
    "            #Por cada trayecto\n",
    "        if i not in l:\n",
    "            #Si esta en el dataframe\n",
    "            prim = trayectos_frec.loc[i]\n",
    "                #Obtenemos el trayecto actual\n",
    "            for j in range(i, len(trayectos_frec)): \n",
    "                #Buscamos en lo que resta del dataframe\n",
    "                if j not in l: \n",
    "                    #Si el trayecto que queremos ver, esta en el dataframe\n",
    "                    seg = trayectos_frec.loc[j] \n",
    "                        #Lo guardamos\n",
    "                    if prim['ss_name'] == seg['es_name'] and prim['es_name'] == seg['ss_name']: \n",
    "                        #Si coinciden los trayectos\n",
    "                        trayectos_frec.loc[i]['count'] += trayectos_frec.loc[j]['count']\n",
    "                            #Sumamos los trayectos\n",
    "                            #Nosotros consideramos que los trayectos de A a B son iguales que los de B a A\n",
    "                            #Pero en el dataframe no estan asi, por eso sumamos los viajes\n",
    "                        trayectos_frec.drop(j, inplace = True)\n",
    "                            #Quitamos al segundo trayecto del dataframe\n",
    "                        l.append(j)\n",
    "                            #Lo colocamos en la lista, para que no halla error luego\n",
    "    return trayectos_frec\n",
    "\n",
    "#Esta funcion, puede tomar un tiempo\n",
    "#Si saben como hacerlo mas eficiente, modifiquenlo pls\n",
    "\n",
    "tf = reducir_trayectos(trayectos_frec)\n",
    "\n",
    "# Añadimos al dataframe, las ubicaciones de cada estacion\n",
    "tf = pd.merge(tf, ss_location, on = 'ss_name')\n",
    "tf = pd.merge(tf, es_location, on = 'es_name')"
   ]
  },
  {
   "cell_type": "code",
   "execution_count": null,
   "metadata": {
    "collapsed": false,
    "deletable": true,
    "editable": true
   },
   "outputs": [],
   "source": [
    "#Este diccionario se va a contener, por ciudad:\n",
    "#    . lista de tuplas del estilo ([lons], [lats], color) que tienen las coord de estaciones de un trayecto y su color\n",
    "#    . lista de los trayectos de la ciudad\n",
    "#respectivamente. Esto es para automatizar y tambien para colocar a todos los mapas en un subplot (de matplotlib)\n",
    "viajes = {'San Francisco': [[], []], \n",
    "          'San Jose'     : [[], []], \n",
    "          'Redwood City' : [[], []], \n",
    "          'Mountain View': [[], []], \n",
    "          'Palo Alto'    : [[], []]\n",
    "         }\n",
    "\n",
    "for ciudad in viajes:\n",
    "    #Filtramos los trayectos por ciudad\n",
    "    #Aqui se quitan los trayectos con estaciones en distintas ciudades\n",
    "    viajes[ciudad][1] = tf[(tf['s_city'] == ciudad) & \\\n",
    "                           (tf['e_city'] == ciudad)].drop(['s_city', 'e_city'], 1).reset_index(drop = True)\n",
    "    \n",
    "    #Calculamos la cantidad maxima de viajes por cada trayecto en cada ciudad\n",
    "    #Esto es para luego asignar colores a trayectos con mas o menos frecuencia\n",
    "    max_val = 0\n",
    "    for indice in range(len(viajes[ciudad][1])):\n",
    "        trayecto = viajes[ciudad][1].loc[indice]\n",
    "        if trayecto['count'] > max_val: \n",
    "            max_val = trayecto['count']\n",
    "    \n",
    "    #Colocamos longitud y latitud de un trayecto ademas de su frecuencia convertida a un numero en [0;255]\n",
    "    for indice in range(len(viajes[ciudad][1])):\n",
    "        trayecto = viajes[ciudad][1].loc[indice]\n",
    "        #Mapeo de la frecuencia del trayecto al intervalo [0;255]\n",
    "        color = int(255 / float(max_val) * trayecto['count'])\n",
    "        color = abs(255 - color)\n",
    "        viajes[ciudad][0].append(([trayecto.['s_lon'], trayecto.['e_lon']],\n",
    "                                  [trayecto.['s_lat'], trayecto.['e_lat']],\n",
    "                                  color)\n",
    "                                )\n",
    "    #Ordenamos los viajes mas frecuentes al final, asi son mostrados por encima de los trayectos menos frecuentes\n",
    "    viajes[ciudad][0].sort(key = lambda x: -x[2])"
   ]
  },
  {
   "cell_type": "code",
   "execution_count": null,
   "metadata": {
    "collapsed": true,
    "deletable": true,
    "editable": true
   },
   "outputs": [],
   "source": [
    "#Ahora visualizamos los trayectos por ciudad\n",
    "\n",
    "plt.figure(figsize = (20, 13))\n",
    "\n",
    "for i in range(len(ciudades)):\n",
    "    plt.subplot(231 + i);\n",
    "    plt.title('Viajes en ' + nombres[i]);\n",
    "    offset = distancia_grados(2.5)\n",
    "    mapa = Basemap(projection = proyeccion, \n",
    "                   resolution = resolucion, \n",
    "                   epsg = epsg, \n",
    "                   llcrnrlat = lats[i] - offset, \n",
    "                   llcrnrlon = lons[i] - offset, \n",
    "                   urcrnrlat = lats[i] + offset, \n",
    "                   urcrnrlon = lons[i] + offset)\n",
    "    \n",
    "    for trayecto in viajes[nombres[i]][0]:\n",
    "        #Convertimos el color a un formato RGBA valido\n",
    "        color = trayecto[2]\n",
    "        color = '#%02X%02X%02X' % (color, color, color)\n",
    "        #Ploteamos el trayecto\n",
    "        mapa.plot(trayecto[0], \n",
    "                  trayecto[1], \n",
    "                  'o-', \n",
    "                  color = color)\n",
    "    \n",
    "    mapa.arcgisimage(service = servicio, \n",
    "                     xpixels = x_tam, \n",
    "                     ypixels = y_tam);\n",
    "    \n",
    "    plt.savefig(nombres[i] + '_map_viajes.png');"
   ]
  },
  {
   "cell_type": "markdown",
   "metadata": {},
   "source": [
    "### 3.5.B) Todos los trayectos"
   ]
  },
  {
   "cell_type": "code",
   "execution_count": null,
   "metadata": {
    "collapsed": false,
    "deletable": true,
    "editable": true
   },
   "outputs": [],
   "source": [
    "#Esto falta editarlo un poco mas, para que quede lindo (ahora son solo lineas azules)\n",
    "#Es un mapa de toda la bahia con todos los viajes realizados (conecta estacion inicial con final por cada viaje)\n",
    "\n",
    "plt.figure(figsize = (10, 10))\n",
    "offset = distancia_grados(35)\n",
    "mapa = Basemap(projection = proyeccion, \n",
    "               resolution = resolucion, \n",
    "               epsg = epsg, \n",
    "               llcrnrlat = lat - offset, \n",
    "               llcrnrlon = lon - offset, \n",
    "               urcrnrlat = lat + offset, \n",
    "               urcrnrlon = lon + offset)\n",
    "\n",
    "mapa.plot(tf['s_lon'], \n",
    "          tf['s_lat'], \n",
    "          'o-')\n",
    "\n",
    "mapa.arcgisimage(service = servicio, \n",
    "                 xpixels = x_tam, \n",
    "                 ypixels = y_tam)\n",
    "plt.show()"
   ]
  }
 ],
 "metadata": {
  "kernelspec": {
   "display_name": "Python 2",
   "language": "python",
   "name": "python2"
  },
  "language_info": {
   "codemirror_mode": {
    "name": "ipython",
    "version": 2
   },
   "file_extension": ".py",
   "mimetype": "text/x-python",
   "name": "python",
   "nbconvert_exporter": "python",
   "pygments_lexer": "ipython2",
   "version": "2.7.13"
  }
 },
 "nbformat": 4,
 "nbformat_minor": 2
}
