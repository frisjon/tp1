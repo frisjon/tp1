{
 "cells": [
  {
   "cell_type": "markdown",
   "metadata": {},
   "source": [
    "# Trabajo Practico N° 1"
   ]
  },
  {
   "cell_type": "markdown",
   "metadata": {},
   "source": [
    "En este trabajo se analizaran datos obtenidos de\n",
    "\n",
    ">[SF Bay Area Bike Share](https://www.kaggle.com/benhamner/sf-bay-area-bike-share)\n",
    "    \n",
    "*descripcion*\n",
    "\n",
    "*Bahía de San Francisco*\n",
    "\n",
    "*Compania estatal de compartido de bicicletas o privado?*"
   ]
  },
  {
   "cell_type": "markdown",
   "metadata": {},
   "source": [
    "***"
   ]
  },
  {
   "cell_type": "markdown",
   "metadata": {},
   "source": [
    "Importando librerias para el analisis"
   ]
  },
  {
   "cell_type": "code",
   "execution_count": 2,
   "metadata": {
    "collapsed": false
   },
   "outputs": [],
   "source": [
    "import pandas as pd\n",
    "import numpy as np\n",
    "\n",
    "import matplotlib.pyplot as plt\n",
    "import seaborn as sns\n",
    "\n",
    "%matplotlib inline"
   ]
  },
  {
   "cell_type": "markdown",
   "metadata": {},
   "source": [
    "Cargando los datasets"
   ]
  },
  {
   "cell_type": "code",
   "execution_count": null,
   "metadata": {
    "collapsed": true
   },
   "outputs": [],
   "source": [
    "# station.csv contiene\n",
    "station = pd.read_csv('../data/station.csv')"
   ]
  },
  {
   "cell_type": "code",
   "execution_count": null,
   "metadata": {
    "collapsed": true
   },
   "outputs": [],
   "source": [
    "# \n",
    "trip = pd.read_csv('../data/trip.csv')"
   ]
  },
  {
   "cell_type": "code",
   "execution_count": null,
   "metadata": {
    "collapsed": true
   },
   "outputs": [],
   "source": [
    "# \n",
    "weather = pd.read_csv('../data/weather.csv')"
   ]
  },
  {
   "cell_type": "code",
   "execution_count": null,
   "metadata": {
    "collapsed": true
   },
   "outputs": [],
   "source": [
    "# \n",
    "status = pd.read_csv('../data/status.csv')"
   ]
  },
  {
   "cell_type": "markdown",
   "metadata": {},
   "source": [
    "* * *"
   ]
  },
  {
   "cell_type": "markdown",
   "metadata": {},
   "source": [
    "Antes de empezar, sabiendo qué tipo de información se encuentra en los datos, pensemos primero qué es lo que nos interesaria observar."
   ]
  },
  {
   "cell_type": "markdown",
   "metadata": {},
   "source": [
    "El sitio web\n",
    "\n",
    ">https://www.timeanddate.com/holidays/us/\n",
    "    \n",
    "    \n",
    "provee de una lista de feriados y días festivos por país, año, etc.\n",
    "\n",
    "Puede ser interesante ver la actividad de personas en bicicletas durante estos días."
   ]
  },
  {
   "cell_type": "markdown",
   "metadata": {},
   "source": [
    "* Como el clima afecta los viajes en bicicleta?\n",
    "* Cuales son los patrones de viajes en tiempo del dia y dia de la semana?"
   ]
  },
  {
   "cell_type": "markdown",
   "metadata": {},
   "source": [
    "***"
   ]
  },
  {
   "cell_type": "markdown",
   "metadata": {},
   "source": [
    "## Conclusiones"
   ]
  },
  {
   "cell_type": "markdown",
   "metadata": {},
   "source": [
    "***"
   ]
  },
  {
   "cell_type": "markdown",
   "metadata": {},
   "source": [
    "## Otras cosas\n",
    "Video de como proyectar ubicaciones en un mapa (2D)\n",
    "\n",
    ">[Coding Challenge #57: Mapping Earthquake Data](https://www.youtube.com/watch?v=ZiYdOwOrGyc)\n",
    "\n",
    "Video de como proyectar ubicaciones en un mapa (3D)\n",
    "\n",
    ">[Coding Challenge #58: 3D Earthquake Data Visualization](https://www.youtube.com/watch?v=dbs4IYGfAXc)\n",
    "    \n",
    "Sitio web de donde (posiblemente) se puede obtener mapas con coordenadas ya calculadas\n",
    "\n",
    ">https://www.mapbox.com/developers"
   ]
  },
  {
   "cell_type": "markdown",
   "metadata": {},
   "source": [
    "***"
   ]
  },
  {
   "cell_type": "markdown",
   "metadata": {},
   "source": [
    "## Analisis hechos por otras personas\n",
    "\n",
    ">[time-based-data-exploration](https://www.kaggle.com/parryfg/d/benhamner/sf-bay-area-bike-share/time-based-data-exploration)\n",
    "    \n",
    ">[san-francisco-trip-map](https://www.kaggle.com/benhamner/d/benhamner/sf-bay-area-bike-share/san-francisco-trip-map/code)"
   ]
  }
 ],
 "metadata": {
  "kernelspec": {
   "display_name": "Python 3",
   "language": "python",
   "name": "python3"
  },
  "language_info": {
   "codemirror_mode": {
    "name": "ipython",
    "version": 3
   },
   "file_extension": ".py",
   "mimetype": "text/x-python",
   "name": "python",
   "nbconvert_exporter": "python",
   "pygments_lexer": "ipython3",
   "version": "3.6.0"
  }
 },
 "nbformat": 4,
 "nbformat_minor": 2
}
