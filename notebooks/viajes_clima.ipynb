{
 "cells": [
  {
   "cell_type": "markdown",
   "metadata": {
    "deletable": true,
    "editable": true
   },
   "source": [
    "# Relación Entre Viajes En Bicicleta y el Clima"
   ]
  },
  {
   "cell_type": "code",
   "execution_count": 79,
   "metadata": {
    "collapsed": false,
    "deletable": true,
    "editable": true,
    "scrolled": true
   },
   "outputs": [],
   "source": [
    "import pandas as pd\n",
    "import numpy as np\n",
    "import seaborn as sbn\n",
    "import matplotlib.pyplot as plt\n",
    "%matplotlib inline"
   ]
  },
  {
   "cell_type": "code",
   "execution_count": 80,
   "metadata": {
    "collapsed": false,
    "deletable": true,
    "editable": true
   },
   "outputs": [],
   "source": [
    "trips = pd.read_csv('data/trip.csv', low_memory=False)\n",
    "weather = pd.read_csv('data/weather.csv', low_memory=False)\n",
    "#Se convierte los dates a datetime64[ns].\n",
    "trips['start_date'] = pd.to_datetime(trips['start_date'])\n",
    "weather['date'] = pd.to_datetime(weather['date'])"
   ]
  },
  {
   "cell_type": "code",
   "execution_count": 81,
   "metadata": {
    "collapsed": false,
    "deletable": true,
    "editable": true,
    "scrolled": true
   },
   "outputs": [],
   "source": [
    "#Se agrega una nueva columna date que coincide con weather.\n",
    "trips['date'] = trips['start_date'].apply(lambda x: x.date())\n",
    "#Se convierte date a datetime64[ns].\n",
    "trips['date'] = pd.to_datetime(trips['date'])"
   ]
  },
  {
   "cell_type": "code",
   "execution_count": 82,
   "metadata": {
    "collapsed": false,
    "deletable": true,
    "editable": true
   },
   "outputs": [],
   "source": [
    "#Se convierte zip_code a string en weather para coincidir con trips.\n",
    "#NOTA: No se convierte zip_code de trips a int64 por un extraño error en to_numeric.\n",
    "weather['zip_code'] = weather['zip_code'].astype(str)"
   ]
  },
  {
   "cell_type": "code",
   "execution_count": 83,
   "metadata": {
    "collapsed": false
   },
   "outputs": [],
   "source": [
    "#Formula para convertir F a C.\n",
    "def f_to_c(f_temp):\n",
    "    return round((f_temp - 32) / 1.8, 2)"
   ]
  },
  {
   "cell_type": "code",
   "execution_count": 84,
   "metadata": {
    "collapsed": false
   },
   "outputs": [],
   "source": [
    "#Se crean columnas con las temperaturas en C.\n",
    "weather['max_temperature_c'] = weather['max_temperature_f'].map(f_to_c)\n",
    "weather['mean_temperature_c'] = weather['mean_temperature_f'].map(f_to_c)\n",
    "weather['min_temperature_c'] = weather['min_temperature_f'].map(f_to_c)"
   ]
  },
  {
   "cell_type": "code",
   "execution_count": 85,
   "metadata": {
    "collapsed": false,
    "deletable": true,
    "editable": true,
    "scrolled": true
   },
   "outputs": [],
   "source": [
    "#Se combinan los Dataframes.\n",
    "joined = trips.merge(weather, left_on=['date', 'zip_code'], right_on=['date', 'zip_code'])"
   ]
  },
  {
   "cell_type": "markdown",
   "metadata": {
    "deletable": true,
    "editable": true
   },
   "source": [
    "## 1) Viajes y Temperatura"
   ]
  },
  {
   "cell_type": "markdown",
   "metadata": {
    "deletable": true,
    "editable": true
   },
   "source": [
    "En esta serie de plots se analizará si hay una correlación entre los viajes en bicicleta y la temperatura.\n",
    "\n",
    "Como los registros del clima estan en forma diurna, es necesario tomar las fechas del viaje sin horarios. Para todos los plots se toma como fecha del viaje a la fecha de inicio del mismo, esto se debe a que es el momento en el cual la persona toma en cuenta las condiciones climaticas para decidir si realizar un viaje o no. "
   ]
  },
  {
   "cell_type": "markdown",
   "metadata": {
    "deletable": true,
    "editable": true
   },
   "source": [
    "### 1.a) Histograma del Promedio de Temperatura"
   ]
  },
  {
   "cell_type": "code",
   "execution_count": 98,
   "metadata": {
    "collapsed": false,
    "deletable": true,
    "editable": true,
    "scrolled": false
   },
   "outputs": [
    {
     "data": {
      "image/png": "[encoded data removed]",
      "text/plain": [
       "<matplotlib.figure.Figure at 0x7f2f0ef4b2e8>"
      ]
     },
     "metadata": {},
     "output_type": "display_data"
    }
   ],
   "source": [
    "joined.hist(column='mean_temperature_f', grid=True, figsize=(10,10));\n",
    "plt.xticks(range(50,90,5));"
   ]
  },
  {
   "cell_type": "code",
   "execution_count": 87,
   "metadata": {
    "collapsed": false,
    "deletable": true,
    "editable": true,
    "scrolled": false
   },
   "outputs": [
    {
     "data": {
      "image/png": "[encoded data removed]",
      "text/plain": [
       "<matplotlib.figure.Figure at 0x7f2f186dbda0>"
      ]
     },
     "metadata": {},
     "output_type": "display_data"
    }
   ],
   "source": [
    "joined.hist(column='mean_temperature_f', grid=True, figsize=(10,10), xrot=90);\n",
    "plt.xticks(range(50,75,1));"
   ]
  },
  {
   "cell_type": "markdown",
   "metadata": {
    "deletable": true,
    "editable": true
   },
   "source": [
    "En este histograma se puede apreciar que la mayor cantidad de los viajes se realizan cuando la temperatura promedio esta entre 53°F y 70°F, es decir, entre 11°C y 21°F.  \n",
    "Si bien puede parecer que la temperatura es algo baja, hay que tener en cuenta que esto es un promedio de la temperatura de todo el día y como San Francisco es una ciudad costera la temperatura suele bajar bastante sobre la noche."
   ]
  },
  {
   "cell_type": "markdown",
   "metadata": {
    "deletable": true,
    "editable": true
   },
   "source": [
    "### 1.b) Histograma de la Temperatura Maxima"
   ]
  },
  {
   "cell_type": "code",
   "execution_count": 88,
   "metadata": {
    "collapsed": false,
    "deletable": true,
    "editable": true
   },
   "outputs": [
    {
     "data": {
      "image/png": "[encoded data removed]",
      "text/plain": [
       "<matplotlib.figure.Figure at 0x7f2f186db7b8>"
      ]
     },
     "metadata": {},
     "output_type": "display_data"
    }
   ],
   "source": [
    "joined.hist(column='max_temperature_f', grid=True, figsize=(10,10))\n",
    "plt.xticks(range(60,85,2));"
   ]
  },
  {
   "cell_type": "markdown",
   "metadata": {
    "deletable": true,
    "editable": true
   },
   "source": [
    "De este histograma se puede obtener que la mayoria de los viajes se realizan cuando la temperatura maxima esta entre 64°F y 74°F, es decir, entre 18°C y 23°C."
   ]
  },
  {
   "cell_type": "markdown",
   "metadata": {
    "deletable": true,
    "editable": true
   },
   "source": [
    "Si se toman en cuenta los dos histogramas, se puede apreciar que la mayoría de las personas buscan un clima templado a la hora de realizar los viajes.  \n",
    "No es necesario analizar la temperatura mínima, ya que como se dijo antes, la temperatura suele bajar mucho sobre la noche y daría resultados engañosos."
   ]
  },
  {
   "cell_type": "markdown",
   "metadata": {
    "deletable": true,
    "editable": true
   },
   "source": [
    "### 1.c) Dias con mayor uso simultaneo de Bicicletas y la Temperatura"
   ]
  },
  {
   "cell_type": "code",
   "execution_count": 89,
   "metadata": {
    "collapsed": true,
    "deletable": true,
    "editable": true
   },
   "outputs": [],
   "source": [
    "#Funciones para clasificar.\n",
    "def f_st(row):\n",
    "    if row['event'] == 'start_date':\n",
    "        val = 1\n",
    "    else:\n",
    "        val = 0\n",
    "    return val\n",
    "\n",
    "def f_en(row):\n",
    "    if row['event'] == 'end_date':\n",
    "        val = 1\n",
    "    else:\n",
    "        val = 0\n",
    "    return val"
   ]
  },
  {
   "cell_type": "code",
   "execution_count": 90,
   "metadata": {
    "collapsed": false,
    "deletable": true,
    "editable": true
   },
   "outputs": [],
   "source": [
    "trips_aux = trips[['id', 'start_date', 'end_date', 'zip_code']]\n",
    "trips_melt = pd.melt(trips_aux, id_vars=['id','zip_code'], value_vars=['start_date', 'end_date'], var_name='event', value_name='time')\n",
    "trips_melt['time'] = pd.to_datetime(trips_melt['time'])"
   ]
  },
  {
   "cell_type": "code",
   "execution_count": 91,
   "metadata": {
    "collapsed": false,
    "deletable": true,
    "editable": true
   },
   "outputs": [],
   "source": [
    "#Se obtiene la cantidad de bicicletas en uso al mismo tiempo.\n",
    "trips_ord = trips_melt.sort_values('time', ascending=True) \n",
    "trips_ord['start_counter'] = trips_ord.apply(f_st, axis=1)\n",
    "trips_ord['end_counter'] = trips_ord.apply(f_en, axis=1)\n",
    "trips_ord['start'] = trips_ord['start_counter'].cumsum()\n",
    "trips_ord['end'] = trips_ord['end_counter'].cumsum()\n",
    "trips_ord = trips_ord[['id', 'zip_code', 'time', 'start', 'end']]\n",
    "trips_ord['in_use'] = trips_ord['start'] - trips_ord['end']\n",
    "trips_ord = trips_ord.sort_values('in_use', ascending=False)"
   ]
  },
  {
   "cell_type": "code",
   "execution_count": 92,
   "metadata": {
    "collapsed": true,
    "deletable": true,
    "editable": true
   },
   "outputs": [],
   "source": [
    "#Se eliminan los horarios para coincidir con weather.csv.\n",
    "trips_ord['time'] = trips_ord['time'].apply(lambda x: x.date())\n",
    "#Se convierte time a datetime64[ns].\n",
    "trips_ord['time'] = pd.to_datetime(trips_ord['time'])"
   ]
  },
  {
   "cell_type": "code",
   "execution_count": 93,
   "metadata": {
    "collapsed": false,
    "deletable": true,
    "editable": true
   },
   "outputs": [],
   "source": [
    "#Se combinan los Dataframes.\n",
    "joined_simul = trips_ord.merge(weather, left_on=['time', 'zip_code'], right_on=['date', 'zip_code'])"
   ]
  },
  {
   "cell_type": "code",
   "execution_count": 94,
   "metadata": {
    "collapsed": true,
    "deletable": true,
    "editable": true
   },
   "outputs": [],
   "source": [
    "#Solo hay que quedarse con el maximo de bicicletas simultaneas para ese dia.\n",
    "joined_max_simul = joined_simul.drop_duplicates(subset=['time'], keep='first')"
   ]
  },
  {
   "cell_type": "code",
   "execution_count": 95,
   "metadata": {
    "collapsed": false,
    "deletable": true,
    "editable": true
   },
   "outputs": [],
   "source": [
    "#Nos quedamos con los 10 valores maximos y las columnas que interesan.\n",
    "joined_max_simul_bar = joined_max_simul[:10]\n",
    "joined_max_simul_bar = joined_max_simul_bar[['time', 'mean_temperature_f', 'max_temperature_f']]\n",
    "joined_max_simul_bar.set_index('time', inplace=True)"
   ]
  },
  {
   "cell_type": "markdown",
   "metadata": {
    "deletable": true,
    "editable": true
   },
   "source": [
    "En el siguiente gráfico de barras se pueden aprecian los 10 días (de los cuales hay datos de temperatura) con mayor uso simultaneo de bicicletas, junto con su temperatura promedio y temperatura máxima. La locación tomada para el clima de cada día, es donde se produce su respectivo pico máximo de bicicletas en uso."
   ]
  },
  {
   "cell_type": "code",
   "execution_count": 96,
   "metadata": {
    "collapsed": false,
    "deletable": true,
    "editable": true
   },
   "outputs": [
    {
     "data": {
      "image/png": "[encoded data removed]",
      "text/plain": [
       "<matplotlib.figure.Figure at 0x7f2f189ea630>"
      ]
     },
     "metadata": {},
     "output_type": "display_data"
    }
   ],
   "source": [
    "bar = joined_max_simul_bar.plot.bar(figsize=(10,10), fontsize=20);\n",
    "#Elimina el 00:00:00 del plot.\n",
    "bar.set_xticklabels(joined_max_simul_bar.index.format());\n",
    "plt.yticks(range(0,95,5));"
   ]
  },
  {
   "cell_type": "markdown",
   "metadata": {
    "deletable": true,
    "editable": true
   },
   "source": [
    "Primero es interesante notar que el día con mayor uso simultaneo es el día con mayor temperatura máxima, unos 30°C, pero que los otros días no tienen temperaturas máximas tan elevadas.  \n",
    "La segunda cosa importante a notar es que la mayoría de estos días tienen un clima templado, es decir, sus temperaturas promedio varían entre 13°C y 21°C mientras que sus temperaturas máximas están entre 19 y 24 °C.  \n",
    "Por ultimo, es evidente que si bien la cantidad de bicicletas en uso simultáneamente decrece a lo largo del gráfico de barras, las temperaturas se mantienen siempre dentro de un mismo rango."
   ]
  },
  {
   "cell_type": "code",
   "execution_count": null,
   "metadata": {
    "collapsed": true
   },
   "outputs": [],
   "source": []
  }
 ],
 "metadata": {
  "kernelspec": {
   "display_name": "Python 3",
   "language": "python",
   "name": "python3"
  },
  "language_info": {
   "codemirror_mode": {
    "name": "ipython",
    "version": 3
   },
   "file_extension": ".py",
   "mimetype": "text/x-python",
   "name": "python",
   "nbconvert_exporter": "python",
   "pygments_lexer": "ipython3",
   "version": "3.5.2"
  }
 },
 "nbformat": 4,
 "nbformat_minor": 2
}
