{
 "cells": [
  {
   "cell_type": "markdown",
   "metadata": {
    "deletable": true,
    "editable": true
   },
   "source": [
    "# Relación Entre Viajes En Bicicleta y el Clima"
   ]
  },
  {
   "cell_type": "code",
   "execution_count": null,
   "metadata": {
    "collapsed": false,
    "deletable": true,
    "editable": true,
    "scrolled": true
   },
   "outputs": [],
   "source": [
    "import pandas as pd\n",
    "import numpy as np\n",
    "import seaborn as sbn\n",
    "import matplotlib.pyplot as plt\n",
    "%matplotlib inline"
   ]
  },
  {
   "cell_type": "code",
   "execution_count": null,
   "metadata": {
    "collapsed": false,
    "deletable": true,
    "editable": true
   },
   "outputs": [],
   "source": [
    "trips = pd.read_csv('data/trip.csv', low_memory=False)\n",
    "weather = pd.read_csv('data/weather.csv', low_memory=False)\n",
    "#Se eliminan las filas con NaN en start_date o zip_code.\n",
    "trips = trips.dropna(subset=['start_date', 'zip_code'])\n",
    "#Se eliminan las filas con NaN en date o zip_code.\n",
    "weather = weather.dropna(subset=['date', 'zip_code'])\n",
    "#Se convierte los dates a datetime64[ns].\n",
    "trips['start_date'] = pd.to_datetime(trips['start_date'])\n",
    "weather['date'] = pd.to_datetime(weather['date'])"
   ]
  },
  {
   "cell_type": "code",
   "execution_count": null,
   "metadata": {
    "collapsed": false,
    "deletable": true,
    "editable": true,
    "scrolled": true
   },
   "outputs": [],
   "source": [
    "#Se agrega una nueva columna date que coincide con weather.\n",
    "trips['date'] = trips['start_date'].apply(lambda x: x.date())\n",
    "#Se convierte date a datetime64[ns].\n",
    "trips['date'] = pd.to_datetime(trips['date'])"
   ]
  },
  {
   "cell_type": "code",
   "execution_count": null,
   "metadata": {
    "collapsed": false,
    "deletable": true,
    "editable": true
   },
   "outputs": [],
   "source": [
    "#Se limpian los zip_codes del tipo '94103-2585'.\n",
    "trips['zip_code'] = trips['zip_code'].map(lambda x: x.split('-')[0])\n",
    "#Se eliminan los NaN que pueden generarse por map anterior.\n",
    "trips = trips.dropna(subset=['zip_code'])\n",
    "#Se convierte zip_code a string en weather para coincidir con trips.\n",
    "#NOTA: No se convierte zip_code de trips a int64 por un extraño error en to_numeric.\n",
    "weather['zip_code'] = weather['zip_code'].astype(str)"
   ]
  },
  {
   "cell_type": "code",
   "execution_count": null,
   "metadata": {
    "collapsed": false,
    "deletable": true,
    "editable": true,
    "scrolled": true
   },
   "outputs": [],
   "source": [
    "#Se combinan los Dataframes.\n",
    "joined = trips.merge(weather, left_on=['date', 'zip_code'], right_on=['date', 'zip_code'])"
   ]
  },
  {
   "cell_type": "markdown",
   "metadata": {
    "deletable": true,
    "editable": true
   },
   "source": [
    "## Viajes y Temperatura"
   ]
  },
  {
   "cell_type": "markdown",
   "metadata": {
    "deletable": true,
    "editable": true
   },
   "source": [
    "En esta serie de plots se analizará si hay una correlación entre los viajes en bicicleta y la temperatura.\n",
    "\n",
    "Como los registros del clima estan en forma diurna, es necesario tomar las fechas del viaje sin horarios. Para todos los plots se toma como fecha del viaje a la fecha de inicio del mismo, esto se debe a que es el momento en el cual la persona toma en cuenta las condiciones climaticas para decidir si realizar un viaje o no. "
   ]
  },
  {
   "cell_type": "markdown",
   "metadata": {
    "deletable": true,
    "editable": true
   },
   "source": [
    "### Histograma del Promedio de Temperatura"
   ]
  },
  {
   "cell_type": "code",
   "execution_count": null,
   "metadata": {
    "collapsed": false,
    "deletable": true,
    "editable": true,
    "scrolled": false
   },
   "outputs": [],
   "source": [
    "joined.hist(column='mean_temperature_f', grid=True, figsize=(10,10));\n",
    "plt.xticks(range(50,90,5));"
   ]
  },
  {
   "cell_type": "code",
   "execution_count": null,
   "metadata": {
    "collapsed": false,
    "deletable": true,
    "editable": true,
    "scrolled": false
   },
   "outputs": [],
   "source": [
    "joined.hist(column='mean_temperature_f', grid=True, figsize=(10,10), xrot=90);\n",
    "plt.xticks(range(50,75,1));"
   ]
  },
  {
   "cell_type": "markdown",
   "metadata": {
    "deletable": true,
    "editable": true
   },
   "source": [
    "En este histograma se puede apreciar que la mayor cantidad de los viajes se realizan cuando la temperatura promedio esta entre 53°F y 70°F, es decir, entre 11°C y 21°F.  \n",
    "Si bien puede parecer que la temperatura es algo baja, hay que tener en cuenta que esto es un promedio de la temperatura de todo el día y como San Francisco es una ciudad costera la temperatura suele bajar bastante sobre la noche."
   ]
  },
  {
   "cell_type": "markdown",
   "metadata": {
    "deletable": true,
    "editable": true
   },
   "source": [
    "### Histograma de la Temperatura Maxima"
   ]
  },
  {
   "cell_type": "code",
   "execution_count": null,
   "metadata": {
    "collapsed": false,
    "deletable": true,
    "editable": true
   },
   "outputs": [],
   "source": [
    "joined.hist(column='max_temperature_f', grid=True, figsize=(10,10))\n",
    "plt.xticks(range(50,105,5));"
   ]
  },
  {
   "cell_type": "code",
   "execution_count": null,
   "metadata": {
    "collapsed": false,
    "deletable": true,
    "editable": true
   },
   "outputs": [],
   "source": [
    "joined.hist(column='max_temperature_f', grid=True, figsize=(10,10))\n",
    "plt.xticks(range(60,85,2));"
   ]
  },
  {
   "cell_type": "markdown",
   "metadata": {
    "deletable": true,
    "editable": true
   },
   "source": [
    "De este histograma se puede obtener que la mayoria de los viajes se realizan cuando la temperatura maxima esta entre 64°F y 74°F, es decir, entre 18°C y 23°C."
   ]
  },
  {
   "cell_type": "markdown",
   "metadata": {
    "deletable": true,
    "editable": true
   },
   "source": [
    "Si se toman en cuenta los dos histogramas, se puede apreciar que la mayoría de las personas buscan un clima templado a la hora de realizar los viajes.  \n",
    "No es necesario analizar la temperatura mínima, ya que como se dijo antes, la temperatura suele bajar mucho sobre la noche y daría resultados engañosos."
   ]
  },
  {
   "cell_type": "markdown",
   "metadata": {
    "deletable": true,
    "editable": true
   },
   "source": [
    "### Días con Mayor Uso Simultaneo de Biciletas"
   ]
  },
  {
   "cell_type": "code",
   "execution_count": null,
   "metadata": {
    "collapsed": true,
    "deletable": true,
    "editable": true
   },
   "outputs": [],
   "source": [
    "#Funciones para clasificar.\n",
    "def f_st(row):\n",
    "    if row['event'] == 'start_date':\n",
    "        val = 1\n",
    "    else:\n",
    "        val = 0\n",
    "    return val\n",
    "\n",
    "def f_en(row):\n",
    "    if row['event'] == 'end_date':\n",
    "        val = 1\n",
    "    else:\n",
    "        val = 0\n",
    "    return val"
   ]
  },
  {
   "cell_type": "code",
   "execution_count": null,
   "metadata": {
    "collapsed": false,
    "deletable": true,
    "editable": true
   },
   "outputs": [],
   "source": [
    "trips_aux = trips[['id', 'start_date', 'end_date', 'zip_code']]\n",
    "trips_melt = pd.melt(trips_aux, id_vars=['id','zip_code'], value_vars=['start_date', 'end_date'], var_name='event', value_name='time')\n",
    "trips_melt['time'] = pd.to_datetime(trips_melt['time'])"
   ]
  },
  {
   "cell_type": "code",
   "execution_count": null,
   "metadata": {
    "collapsed": false,
    "deletable": true,
    "editable": true
   },
   "outputs": [],
   "source": [
    "#Se obtiene la cantidad de bicicletas en uso al mismo tiempo.\n",
    "trips_ord = trips_melt.sort_values('time', ascending=True) \n",
    "trips_ord['start_counter'] = trips_ord.apply(f_st, axis=1)\n",
    "trips_ord['end_counter'] = trips_ord.apply(f_en, axis=1)\n",
    "trips_ord['start'] = trips_ord['start_counter'].cumsum()\n",
    "trips_ord['end'] = trips_ord['end_counter'].cumsum()\n",
    "trips_ord = trips_ord[['id', 'zip_code', 'time', 'start', 'end']]\n",
    "trips_ord['in_use'] = trips_ord['start'] - trips_ord['end']\n",
    "trips_ord = trips_ord.sort_values('in_use', ascending=False)"
   ]
  },
  {
   "cell_type": "code",
   "execution_count": null,
   "metadata": {
    "collapsed": true,
    "deletable": true,
    "editable": true
   },
   "outputs": [],
   "source": [
    "#Se eliminan los horarios para coincidir con weather.csv.\n",
    "trips_ord['time'] = trips_ord['time'].apply(lambda x: x.date())\n",
    "#Se convierte time a datetime64[ns].\n",
    "trips_ord['time'] = pd.to_datetime(trips_ord['time'])"
   ]
  },
  {
   "cell_type": "code",
   "execution_count": null,
   "metadata": {
    "collapsed": false,
    "deletable": true,
    "editable": true
   },
   "outputs": [],
   "source": [
    "#Se combinan los Dataframes.\n",
    "joined_simul = trips_ord.merge(weather, left_on=['time', 'zip_code'], right_on=['date', 'zip_code'])"
   ]
  }
 ],
 "metadata": {
  "kernelspec": {
   "display_name": "Python 3",
   "language": "python",
   "name": "python3"
  },
  "language_info": {
   "codemirror_mode": {
    "name": "ipython",
    "version": 3
   },
   "file_extension": ".py",
   "mimetype": "text/x-python",
   "name": "python",
   "nbconvert_exporter": "python",
   "pygments_lexer": "ipython3",
   "version": "3.5.2"
  }
 },
 "nbformat": 4,
 "nbformat_minor": 2
}
