{
 "cells": [
  {
   "cell_type": "code",
   "execution_count": 383,
   "metadata": {
    "collapsed": true
   },
   "outputs": [],
   "source": [
    "import numpy as np \n",
    "import pandas as pd\n",
    "import datetime # para convertir a dia de la semana\n",
    "import calendar # idem\n",
    "\n",
    "# plots\n",
    "import matplotlib.pyplot as plt\n",
    "import seaborn as sns\n",
    "%matplotlib inline\n",
    "# https://github.com/idontdomath/datos-exploratory-data-analysis/blob/master/class01/03-intro-pandas-flight-delays.ipynb"
   ]
  },
  {
   "cell_type": "code",
   "execution_count": 384,
   "metadata": {
    "collapsed": false
   },
   "outputs": [],
   "source": [
    "# estatus = pd.read_csv('status.csv', sep='\\t', iterator=True, chunksize=1000)\n",
    "#cada vez que se corre son los proximos 500\n",
    "# estatus.get_chunk(500)"
   ]
  },
  {
   "cell_type": "code",
   "execution_count": 385,
   "metadata": {
    "collapsed": false
   },
   "outputs": [],
   "source": [
    "trips = pd.read_csv('trip.csv', low_memory=False)\n",
    "#Se convierte los dates a datetime64[ns].\n",
    "trips['start_date'] = pd.to_datetime(trips['start_date'])\n",
    "trips['end_date'] = pd.to_datetime(trips['end_date'])"
   ]
  },
  {
   "cell_type": "code",
   "execution_count": 386,
   "metadata": {
    "collapsed": false
   },
   "outputs": [],
   "source": [
    "#Se agrega una nueva columna date que coincide con weather.\n",
    "trips['date'] = trips['start_date'].apply(lambda x: x.date())\n",
    "#Se convierte date a datetime64[ns].\n",
    "trips['date'] = pd.to_datetime(trips['date'])"
   ]
  },
  {
   "cell_type": "code",
   "execution_count": 387,
   "metadata": {
    "collapsed": false
   },
   "outputs": [
    {
     "data": {
      "text/plain": [
       "id                             int64\n",
       "duration                       int64\n",
       "start_date            datetime64[ns]\n",
       "start_station_name            object\n",
       "start_station_id               int64\n",
       "end_date              datetime64[ns]\n",
       "end_station_name              object\n",
       "end_station_id                 int64\n",
       "bike_id                        int64\n",
       "subscription_type             object\n",
       "zip_code                      object\n",
       "date                  datetime64[ns]\n",
       "dtype: object"
      ]
     },
     "execution_count": 387,
     "metadata": {},
     "output_type": "execute_result"
    }
   ],
   "source": [
    "# chequeo tipos\n",
    "trips.dtypes"
   ]
  },
  {
   "cell_type": "code",
   "execution_count": 388,
   "metadata": {
    "collapsed": false
   },
   "outputs": [
    {
     "data": {
      "text/plain": [
       "datetime.datetime(2017, 4, 14, 2, 38, 2, 827511)"
      ]
     },
     "execution_count": 388,
     "metadata": {},
     "output_type": "execute_result"
    }
   ],
   "source": [
    "# ejemplo del uso de datetime con día actual\n",
    "dia_actual = datetime.datetime.today()\n",
    "dia_actual"
   ]
  },
  {
   "cell_type": "code",
   "execution_count": 389,
   "metadata": {
    "collapsed": false
   },
   "outputs": [
    {
     "data": {
      "text/plain": [
       "4"
      ]
     },
     "execution_count": 389,
     "metadata": {},
     "output_type": "execute_result"
    }
   ],
   "source": [
    "# lo paso a dia de la semana\n",
    "dia_actual.weekday()"
   ]
  },
  {
   "cell_type": "code",
   "execution_count": 390,
   "metadata": {
    "collapsed": false
   },
   "outputs": [
    {
     "data": {
      "text/plain": [
       "'Friday'"
      ]
     },
     "execution_count": 390,
     "metadata": {},
     "output_type": "execute_result"
    }
   ],
   "source": [
    "# mejor en palabras que en números\n",
    "calendar.day_name[dia_actual.weekday()]"
   ]
  },
  {
   "cell_type": "code",
   "execution_count": 391,
   "metadata": {
    "collapsed": true
   },
   "outputs": [],
   "source": [
    "# función para convertir fecha a día de la semana.\n",
    "def fecha_a_dia(fecha):\n",
    "    return calendar.day_name[fecha.weekday()]"
   ]
  },
  {
   "cell_type": "code",
   "execution_count": 392,
   "metadata": {
    "collapsed": false
   },
   "outputs": [],
   "source": [
    "#Se crean columnas con los dias de la semana.\n",
    "trips['start_day_of_week'] = trips['start_date'].map(fecha_a_dia)\n",
    "trips['end_day_of_week'] = trips['end_date'].map(fecha_a_dia)"
   ]
  },
  {
   "cell_type": "code",
   "execution_count": 393,
   "metadata": {
    "collapsed": false
   },
   "outputs": [],
   "source": [
    "trips['horario_inicial'] = trips['start_date'].dt.time\n",
    "trips['horario_inicial_float'] = trips['start_date'].dt.hour + trips['start_date'].dt.minute / 100\n",
    "#por el momento dejo ambos por si se necesitan"
   ]
  },
  {
   "cell_type": "code",
   "execution_count": 394,
   "metadata": {
    "collapsed": false
   },
   "outputs": [],
   "source": [
    "trips['horario_final'] = trips['end_date'].dt.time\n",
    "trips['horario_final_float'] = trips['end_date'].dt.hour + trips['end_date'].dt.minute / 100\n",
    "#idem"
   ]
  },
  {
   "cell_type": "code",
   "execution_count": 395,
   "metadata": {
    "collapsed": false
   },
   "outputs": [],
   "source": [
    "trips['duracion_viaje'] = trips['end_date'] - trips['start_date']\n",
    "# trips['duracion_viaje'] = pd.to_datetime(trips['duracion_viaje'])\n",
    "# no es necesario pero lo dejo por las dudas, puede servir"
   ]
  },
  {
   "cell_type": "code",
   "execution_count": 396,
   "metadata": {
    "collapsed": false
   },
   "outputs": [
    {
     "data": {
      "text/html": [
       "<div>\n",
       "<table border=\"1\" class=\"dataframe\">\n",
       "  <thead>\n",
       "    <tr style=\"text-align: right;\">\n",
       "      <th></th>\n",
       "      <th>id</th>\n",
       "      <th>duration</th>\n",
       "      <th>start_date</th>\n",
       "      <th>start_station_name</th>\n",
       "      <th>start_station_id</th>\n",
       "      <th>end_date</th>\n",
       "      <th>end_station_name</th>\n",
       "      <th>end_station_id</th>\n",
       "      <th>bike_id</th>\n",
       "      <th>subscription_type</th>\n",
       "      <th>zip_code</th>\n",
       "      <th>date</th>\n",
       "      <th>start_day_of_week</th>\n",
       "      <th>end_day_of_week</th>\n",
       "      <th>horario_inicial</th>\n",
       "      <th>horario_inicial_float</th>\n",
       "      <th>horario_final</th>\n",
       "      <th>horario_final_float</th>\n",
       "      <th>duracion_viaje</th>\n",
       "    </tr>\n",
       "  </thead>\n",
       "  <tbody>\n",
       "    <tr>\n",
       "      <th>0</th>\n",
       "      <td>4576</td>\n",
       "      <td>63</td>\n",
       "      <td>2013-08-29 14:13:00</td>\n",
       "      <td>South Van Ness at Market</td>\n",
       "      <td>66</td>\n",
       "      <td>2013-08-29 14:14:00</td>\n",
       "      <td>South Van Ness at Market</td>\n",
       "      <td>66</td>\n",
       "      <td>520</td>\n",
       "      <td>Subscriber</td>\n",
       "      <td>94127</td>\n",
       "      <td>2013-08-29</td>\n",
       "      <td>Thursday</td>\n",
       "      <td>Thursday</td>\n",
       "      <td>14:13:00</td>\n",
       "      <td>14.13</td>\n",
       "      <td>14:14:00</td>\n",
       "      <td>14.14</td>\n",
       "      <td>00:01:00</td>\n",
       "    </tr>\n",
       "    <tr>\n",
       "      <th>1</th>\n",
       "      <td>4607</td>\n",
       "      <td>70</td>\n",
       "      <td>2013-08-29 14:42:00</td>\n",
       "      <td>San Jose City Hall</td>\n",
       "      <td>10</td>\n",
       "      <td>2013-08-29 14:43:00</td>\n",
       "      <td>San Jose City Hall</td>\n",
       "      <td>10</td>\n",
       "      <td>661</td>\n",
       "      <td>Subscriber</td>\n",
       "      <td>95138</td>\n",
       "      <td>2013-08-29</td>\n",
       "      <td>Thursday</td>\n",
       "      <td>Thursday</td>\n",
       "      <td>14:42:00</td>\n",
       "      <td>14.42</td>\n",
       "      <td>14:43:00</td>\n",
       "      <td>14.43</td>\n",
       "      <td>00:01:00</td>\n",
       "    </tr>\n",
       "    <tr>\n",
       "      <th>2</th>\n",
       "      <td>4130</td>\n",
       "      <td>71</td>\n",
       "      <td>2013-08-29 10:16:00</td>\n",
       "      <td>Mountain View City Hall</td>\n",
       "      <td>27</td>\n",
       "      <td>2013-08-29 10:17:00</td>\n",
       "      <td>Mountain View City Hall</td>\n",
       "      <td>27</td>\n",
       "      <td>48</td>\n",
       "      <td>Subscriber</td>\n",
       "      <td>97214</td>\n",
       "      <td>2013-08-29</td>\n",
       "      <td>Thursday</td>\n",
       "      <td>Thursday</td>\n",
       "      <td>10:16:00</td>\n",
       "      <td>10.16</td>\n",
       "      <td>10:17:00</td>\n",
       "      <td>10.17</td>\n",
       "      <td>00:01:00</td>\n",
       "    </tr>\n",
       "    <tr>\n",
       "      <th>3</th>\n",
       "      <td>4251</td>\n",
       "      <td>77</td>\n",
       "      <td>2013-08-29 11:29:00</td>\n",
       "      <td>San Jose City Hall</td>\n",
       "      <td>10</td>\n",
       "      <td>2013-08-29 11:30:00</td>\n",
       "      <td>San Jose City Hall</td>\n",
       "      <td>10</td>\n",
       "      <td>26</td>\n",
       "      <td>Subscriber</td>\n",
       "      <td>95060</td>\n",
       "      <td>2013-08-29</td>\n",
       "      <td>Thursday</td>\n",
       "      <td>Thursday</td>\n",
       "      <td>11:29:00</td>\n",
       "      <td>11.29</td>\n",
       "      <td>11:30:00</td>\n",
       "      <td>11.30</td>\n",
       "      <td>00:01:00</td>\n",
       "    </tr>\n",
       "    <tr>\n",
       "      <th>4</th>\n",
       "      <td>4299</td>\n",
       "      <td>83</td>\n",
       "      <td>2013-08-29 12:02:00</td>\n",
       "      <td>South Van Ness at Market</td>\n",
       "      <td>66</td>\n",
       "      <td>2013-08-29 12:04:00</td>\n",
       "      <td>Market at 10th</td>\n",
       "      <td>67</td>\n",
       "      <td>319</td>\n",
       "      <td>Subscriber</td>\n",
       "      <td>94103</td>\n",
       "      <td>2013-08-29</td>\n",
       "      <td>Thursday</td>\n",
       "      <td>Thursday</td>\n",
       "      <td>12:02:00</td>\n",
       "      <td>12.02</td>\n",
       "      <td>12:04:00</td>\n",
       "      <td>12.04</td>\n",
       "      <td>00:02:00</td>\n",
       "    </tr>\n",
       "  </tbody>\n",
       "</table>\n",
       "</div>"
      ],
      "text/plain": [
       "     id  duration          start_date        start_station_name  \\\n",
       "0  4576        63 2013-08-29 14:13:00  South Van Ness at Market   \n",
       "1  4607        70 2013-08-29 14:42:00        San Jose City Hall   \n",
       "2  4130        71 2013-08-29 10:16:00   Mountain View City Hall   \n",
       "3  4251        77 2013-08-29 11:29:00        San Jose City Hall   \n",
       "4  4299        83 2013-08-29 12:02:00  South Van Ness at Market   \n",
       "\n",
       "   start_station_id            end_date          end_station_name  \\\n",
       "0                66 2013-08-29 14:14:00  South Van Ness at Market   \n",
       "1                10 2013-08-29 14:43:00        San Jose City Hall   \n",
       "2                27 2013-08-29 10:17:00   Mountain View City Hall   \n",
       "3                10 2013-08-29 11:30:00        San Jose City Hall   \n",
       "4                66 2013-08-29 12:04:00            Market at 10th   \n",
       "\n",
       "   end_station_id  bike_id subscription_type zip_code       date  \\\n",
       "0              66      520        Subscriber    94127 2013-08-29   \n",
       "1              10      661        Subscriber    95138 2013-08-29   \n",
       "2              27       48        Subscriber    97214 2013-08-29   \n",
       "3              10       26        Subscriber    95060 2013-08-29   \n",
       "4              67      319        Subscriber    94103 2013-08-29   \n",
       "\n",
       "  start_day_of_week end_day_of_week horario_inicial  horario_inicial_float  \\\n",
       "0          Thursday        Thursday        14:13:00                  14.13   \n",
       "1          Thursday        Thursday        14:42:00                  14.42   \n",
       "2          Thursday        Thursday        10:16:00                  10.16   \n",
       "3          Thursday        Thursday        11:29:00                  11.29   \n",
       "4          Thursday        Thursday        12:02:00                  12.02   \n",
       "\n",
       "  horario_final  horario_final_float  duracion_viaje  \n",
       "0      14:14:00                14.14        00:01:00  \n",
       "1      14:43:00                14.43        00:01:00  \n",
       "2      10:17:00                10.17        00:01:00  \n",
       "3      11:30:00                11.30        00:01:00  \n",
       "4      12:04:00                12.04        00:02:00  "
      ]
     },
     "execution_count": 396,
     "metadata": {},
     "output_type": "execute_result"
    }
   ],
   "source": [
    "# vista final de cómo quedó el dataframe\n",
    "trips.head()"
   ]
  },
  {
   "cell_type": "markdown",
   "metadata": {},
   "source": [
    "## ¿Viajes de menos de 3 minutos con misma estación de inicio y fin?\n",
    "Una primera impresión es que hay viajes \"ruidosos\": duran menos de 3 minutos y las estaciones de inicio y fin\n",
    "son las mismas. Esto nos dice que el usuario no tomó el viaje por algún motivo. Se van a filtrar esos viajes."
   ]
  },
  {
   "cell_type": "code",
   "execution_count": 397,
   "metadata": {
    "collapsed": false
   },
   "outputs": [],
   "source": [
    "viajes_no_tomados = trips[(trips['duracion_viaje'] <= '00:03:00') & (trips['start_station_id'] == trips['end_station_id'])]\n",
    "trips = trips[-((trips['duracion_viaje'] <= '00:03:00') & (trips['start_station_id'] == trips['end_station_id']))]\n",
    "# hay que hacer trips - viajes_no_tomados para que quede lindo pero requiere un comando (isin o algo asi). \n",
    "# no me salio bien asi que a lo ultimo lo modifico"
   ]
  },
  {
   "cell_type": "code",
   "execution_count": 398,
   "metadata": {
    "collapsed": false
   },
   "outputs": [
    {
     "data": {
      "text/plain": [
       "2601"
      ]
     },
     "execution_count": 398,
     "metadata": {},
     "output_type": "execute_result"
    }
   ],
   "source": [
    "viajes_no_tomados.id.count()"
   ]
  },
  {
   "cell_type": "code",
   "execution_count": 399,
   "metadata": {
    "collapsed": false
   },
   "outputs": [
    {
     "data": {
      "text/plain": [
       "598"
      ]
     },
     "execution_count": 399,
     "metadata": {},
     "output_type": "execute_result"
    }
   ],
   "source": [
    "viajes_no_tomados.bike_id.value_counts().count()\n",
    "# cantidad distintas de bicicletas dentro de esos 2601 viajes. Crei que iba a aportar información \n",
    "# para lo de las biciletas descompuestas pero no creo que ayude. Hay que analizar si es que varios de esos viajes\n",
    "# con el mismo id de bicicleta se tomaron bastante pegados entonces si claramente las devolvieron porq estaban rotas"
   ]
  },
  {
   "cell_type": "markdown",
   "metadata": {},
   "source": [
    "Se filtraron unos 2600 viajes. // acá iría la conclusión acerca de posibles bicicletas descompuestas"
   ]
  },
  {
   "cell_type": "markdown",
   "metadata": {},
   "source": [
    "### Ahora analicemos lo opuesto, que tan largo puede ser un viaje."
   ]
  },
  {
   "cell_type": "code",
   "execution_count": 400,
   "metadata": {
    "collapsed": false
   },
   "outputs": [
    {
     "data": {
      "text/html": [
       "<div>\n",
       "<table border=\"1\" class=\"dataframe\">\n",
       "  <thead>\n",
       "    <tr style=\"text-align: right;\">\n",
       "      <th></th>\n",
       "      <th>id</th>\n",
       "      <th>duration</th>\n",
       "      <th>start_date</th>\n",
       "      <th>start_station_name</th>\n",
       "      <th>start_station_id</th>\n",
       "      <th>end_date</th>\n",
       "      <th>end_station_name</th>\n",
       "      <th>end_station_id</th>\n",
       "      <th>bike_id</th>\n",
       "      <th>subscription_type</th>\n",
       "      <th>zip_code</th>\n",
       "      <th>date</th>\n",
       "      <th>start_day_of_week</th>\n",
       "      <th>end_day_of_week</th>\n",
       "      <th>horario_inicial</th>\n",
       "      <th>horario_inicial_float</th>\n",
       "      <th>horario_final</th>\n",
       "      <th>horario_final_float</th>\n",
       "      <th>duracion_viaje</th>\n",
       "    </tr>\n",
       "  </thead>\n",
       "  <tbody>\n",
       "    <tr>\n",
       "      <th>743</th>\n",
       "      <td>4663</td>\n",
       "      <td>52698</td>\n",
       "      <td>2013-08-29 15:34:00</td>\n",
       "      <td>Mountain View City Hall</td>\n",
       "      <td>27</td>\n",
       "      <td>2013-08-30 06:12:00</td>\n",
       "      <td>Park at Olive</td>\n",
       "      <td>38</td>\n",
       "      <td>150</td>\n",
       "      <td>Subscriber</td>\n",
       "      <td>94301</td>\n",
       "      <td>2013-08-29</td>\n",
       "      <td>Thursday</td>\n",
       "      <td>Friday</td>\n",
       "      <td>15:34:00</td>\n",
       "      <td>15.34</td>\n",
       "      <td>06:12:00</td>\n",
       "      <td>6.12</td>\n",
       "      <td>0 days 14:38:00</td>\n",
       "    </tr>\n",
       "    <tr>\n",
       "      <th>744</th>\n",
       "      <td>4532</td>\n",
       "      <td>84990</td>\n",
       "      <td>2013-08-29 13:43:00</td>\n",
       "      <td>Market at 4th</td>\n",
       "      <td>76</td>\n",
       "      <td>2013-08-30 13:19:00</td>\n",
       "      <td>Harry Bridges Plaza (Ferry Building)</td>\n",
       "      <td>50</td>\n",
       "      <td>460</td>\n",
       "      <td>Customer</td>\n",
       "      <td>94118</td>\n",
       "      <td>2013-08-29</td>\n",
       "      <td>Thursday</td>\n",
       "      <td>Friday</td>\n",
       "      <td>13:43:00</td>\n",
       "      <td>13.43</td>\n",
       "      <td>13:19:00</td>\n",
       "      <td>13.19</td>\n",
       "      <td>0 days 23:36:00</td>\n",
       "    </tr>\n",
       "    <tr>\n",
       "      <th>745</th>\n",
       "      <td>4521</td>\n",
       "      <td>85385</td>\n",
       "      <td>2013-08-29 13:37:00</td>\n",
       "      <td>Market at 4th</td>\n",
       "      <td>76</td>\n",
       "      <td>2013-08-30 13:20:00</td>\n",
       "      <td>Harry Bridges Plaza (Ferry Building)</td>\n",
       "      <td>50</td>\n",
       "      <td>390</td>\n",
       "      <td>Customer</td>\n",
       "      <td>94118</td>\n",
       "      <td>2013-08-29</td>\n",
       "      <td>Thursday</td>\n",
       "      <td>Friday</td>\n",
       "      <td>13:37:00</td>\n",
       "      <td>13.37</td>\n",
       "      <td>13:20:00</td>\n",
       "      <td>13.20</td>\n",
       "      <td>0 days 23:43:00</td>\n",
       "    </tr>\n",
       "    <tr>\n",
       "      <th>746</th>\n",
       "      <td>5069</td>\n",
       "      <td>86102</td>\n",
       "      <td>2013-08-29 21:41:00</td>\n",
       "      <td>Embarcadero at Folsom</td>\n",
       "      <td>51</td>\n",
       "      <td>2013-08-30 21:37:00</td>\n",
       "      <td>Davis at Jackson</td>\n",
       "      <td>42</td>\n",
       "      <td>269</td>\n",
       "      <td>Customer</td>\n",
       "      <td>94111</td>\n",
       "      <td>2013-08-29</td>\n",
       "      <td>Thursday</td>\n",
       "      <td>Friday</td>\n",
       "      <td>21:41:00</td>\n",
       "      <td>21.41</td>\n",
       "      <td>21:37:00</td>\n",
       "      <td>21.37</td>\n",
       "      <td>0 days 23:56:00</td>\n",
       "    </tr>\n",
       "    <tr>\n",
       "      <th>747</th>\n",
       "      <td>4505</td>\n",
       "      <td>97713</td>\n",
       "      <td>2013-08-29 13:30:00</td>\n",
       "      <td>Mountain View Caltrain Station</td>\n",
       "      <td>28</td>\n",
       "      <td>2013-08-30 16:38:00</td>\n",
       "      <td>Mountain View City Hall</td>\n",
       "      <td>27</td>\n",
       "      <td>141</td>\n",
       "      <td>Subscriber</td>\n",
       "      <td>94039</td>\n",
       "      <td>2013-08-29</td>\n",
       "      <td>Thursday</td>\n",
       "      <td>Friday</td>\n",
       "      <td>13:30:00</td>\n",
       "      <td>13.30</td>\n",
       "      <td>16:38:00</td>\n",
       "      <td>16.38</td>\n",
       "      <td>1 days 03:08:00</td>\n",
       "    </tr>\n",
       "    <tr>\n",
       "      <th>1454</th>\n",
       "      <td>5120</td>\n",
       "      <td>33088</td>\n",
       "      <td>2013-08-30 06:37:00</td>\n",
       "      <td>Steuart at Market</td>\n",
       "      <td>74</td>\n",
       "      <td>2013-08-30 15:49:00</td>\n",
       "      <td>Steuart at Market</td>\n",
       "      <td>74</td>\n",
       "      <td>277</td>\n",
       "      <td>Customer</td>\n",
       "      <td>94510</td>\n",
       "      <td>2013-08-30</td>\n",
       "      <td>Friday</td>\n",
       "      <td>Friday</td>\n",
       "      <td>06:37:00</td>\n",
       "      <td>6.37</td>\n",
       "      <td>15:49:00</td>\n",
       "      <td>15.49</td>\n",
       "      <td>0 days 09:12:00</td>\n",
       "    </tr>\n",
       "    <tr>\n",
       "      <th>1455</th>\n",
       "      <td>5113</td>\n",
       "      <td>34449</td>\n",
       "      <td>2013-08-30 02:16:00</td>\n",
       "      <td>Japantown</td>\n",
       "      <td>9</td>\n",
       "      <td>2013-08-30 11:50:00</td>\n",
       "      <td>Japantown</td>\n",
       "      <td>9</td>\n",
       "      <td>52</td>\n",
       "      <td>Customer</td>\n",
       "      <td>95148</td>\n",
       "      <td>2013-08-30</td>\n",
       "      <td>Friday</td>\n",
       "      <td>Friday</td>\n",
       "      <td>02:16:00</td>\n",
       "      <td>2.16</td>\n",
       "      <td>11:50:00</td>\n",
       "      <td>11.50</td>\n",
       "      <td>0 days 09:34:00</td>\n",
       "    </tr>\n",
       "    <tr>\n",
       "      <th>1456</th>\n",
       "      <td>5182</td>\n",
       "      <td>36255</td>\n",
       "      <td>2013-08-30 08:42:00</td>\n",
       "      <td>Harry Bridges Plaza (Ferry Building)</td>\n",
       "      <td>50</td>\n",
       "      <td>2013-08-30 18:47:00</td>\n",
       "      <td>Harry Bridges Plaza (Ferry Building)</td>\n",
       "      <td>50</td>\n",
       "      <td>350</td>\n",
       "      <td>Customer</td>\n",
       "      <td>94707</td>\n",
       "      <td>2013-08-30</td>\n",
       "      <td>Friday</td>\n",
       "      <td>Friday</td>\n",
       "      <td>08:42:00</td>\n",
       "      <td>8.42</td>\n",
       "      <td>18:47:00</td>\n",
       "      <td>18.47</td>\n",
       "      <td>0 days 10:05:00</td>\n",
       "    </tr>\n",
       "    <tr>\n",
       "      <th>1457</th>\n",
       "      <td>6412</td>\n",
       "      <td>70731</td>\n",
       "      <td>2013-08-30 20:04:00</td>\n",
       "      <td>Golden Gate at Polk</td>\n",
       "      <td>59</td>\n",
       "      <td>2013-08-31 15:43:00</td>\n",
       "      <td>Powell at Post (Union Square)</td>\n",
       "      <td>71</td>\n",
       "      <td>381</td>\n",
       "      <td>Customer</td>\n",
       "      <td>94028</td>\n",
       "      <td>2013-08-30</td>\n",
       "      <td>Friday</td>\n",
       "      <td>Saturday</td>\n",
       "      <td>20:04:00</td>\n",
       "      <td>20.04</td>\n",
       "      <td>15:43:00</td>\n",
       "      <td>15.43</td>\n",
       "      <td>0 days 19:39:00</td>\n",
       "    </tr>\n",
       "    <tr>\n",
       "      <th>1458</th>\n",
       "      <td>6178</td>\n",
       "      <td>70982</td>\n",
       "      <td>2013-08-30 16:59:00</td>\n",
       "      <td>Temporary Transbay Terminal (Howard at Beale)</td>\n",
       "      <td>55</td>\n",
       "      <td>2013-08-31 12:42:00</td>\n",
       "      <td>2nd at South Park</td>\n",
       "      <td>64</td>\n",
       "      <td>348</td>\n",
       "      <td>Customer</td>\n",
       "      <td>94107</td>\n",
       "      <td>2013-08-30</td>\n",
       "      <td>Friday</td>\n",
       "      <td>Saturday</td>\n",
       "      <td>16:59:00</td>\n",
       "      <td>16.59</td>\n",
       "      <td>12:42:00</td>\n",
       "      <td>12.42</td>\n",
       "      <td>0 days 19:43:00</td>\n",
       "    </tr>\n",
       "    <tr>\n",
       "      <th>1459</th>\n",
       "      <td>6462</td>\n",
       "      <td>77919</td>\n",
       "      <td>2013-08-30 22:59:00</td>\n",
       "      <td>Market at Sansome</td>\n",
       "      <td>77</td>\n",
       "      <td>2013-08-31 20:38:00</td>\n",
       "      <td>Embarcadero at Bryant</td>\n",
       "      <td>54</td>\n",
       "      <td>488</td>\n",
       "      <td>Customer</td>\n",
       "      <td>94118</td>\n",
       "      <td>2013-08-30</td>\n",
       "      <td>Friday</td>\n",
       "      <td>Saturday</td>\n",
       "      <td>22:59:00</td>\n",
       "      <td>22.59</td>\n",
       "      <td>20:38:00</td>\n",
       "      <td>20.38</td>\n",
       "      <td>0 days 21:39:00</td>\n",
       "    </tr>\n",
       "    <tr>\n",
       "      <th>1460</th>\n",
       "      <td>5493</td>\n",
       "      <td>83224</td>\n",
       "      <td>2013-08-30 12:13:00</td>\n",
       "      <td>Harry Bridges Plaza (Ferry Building)</td>\n",
       "      <td>50</td>\n",
       "      <td>2013-08-31 11:20:00</td>\n",
       "      <td>Market at 10th</td>\n",
       "      <td>67</td>\n",
       "      <td>536</td>\n",
       "      <td>Customer</td>\n",
       "      <td>NaN</td>\n",
       "      <td>2013-08-30</td>\n",
       "      <td>Friday</td>\n",
       "      <td>Saturday</td>\n",
       "      <td>12:13:00</td>\n",
       "      <td>12.13</td>\n",
       "      <td>11:20:00</td>\n",
       "      <td>11.20</td>\n",
       "      <td>0 days 23:07:00</td>\n",
       "    </tr>\n",
       "    <tr>\n",
       "      <th>1461</th>\n",
       "      <td>6282</td>\n",
       "      <td>241334</td>\n",
       "      <td>2013-08-30 18:07:00</td>\n",
       "      <td>Powell Street BART</td>\n",
       "      <td>39</td>\n",
       "      <td>2013-09-02 13:10:00</td>\n",
       "      <td>Powell Street BART</td>\n",
       "      <td>39</td>\n",
       "      <td>410</td>\n",
       "      <td>Customer</td>\n",
       "      <td>92808</td>\n",
       "      <td>2013-08-30</td>\n",
       "      <td>Friday</td>\n",
       "      <td>Monday</td>\n",
       "      <td>18:07:00</td>\n",
       "      <td>18.07</td>\n",
       "      <td>13:10:00</td>\n",
       "      <td>13.10</td>\n",
       "      <td>2 days 19:03:00</td>\n",
       "    </tr>\n",
       "    <tr>\n",
       "      <th>2094</th>\n",
       "      <td>7434</td>\n",
       "      <td>56668</td>\n",
       "      <td>2013-08-31 21:56:00</td>\n",
       "      <td>5th at Howard</td>\n",
       "      <td>57</td>\n",
       "      <td>2013-09-01 13:40:00</td>\n",
       "      <td>Embarcadero at Vallejo</td>\n",
       "      <td>48</td>\n",
       "      <td>576</td>\n",
       "      <td>Customer</td>\n",
       "      <td>94107</td>\n",
       "      <td>2013-08-31</td>\n",
       "      <td>Saturday</td>\n",
       "      <td>Sunday</td>\n",
       "      <td>21:56:00</td>\n",
       "      <td>21.56</td>\n",
       "      <td>13:40:00</td>\n",
       "      <td>13.40</td>\n",
       "      <td>0 days 15:44:00</td>\n",
       "    </tr>\n",
       "    <tr>\n",
       "      <th>2095</th>\n",
       "      <td>7437</td>\n",
       "      <td>59599</td>\n",
       "      <td>2013-08-31 22:16:00</td>\n",
       "      <td>Powell Street BART</td>\n",
       "      <td>39</td>\n",
       "      <td>2013-09-01 14:49:00</td>\n",
       "      <td>Powell Street BART</td>\n",
       "      <td>39</td>\n",
       "      <td>606</td>\n",
       "      <td>Customer</td>\n",
       "      <td>91801</td>\n",
       "      <td>2013-08-31</td>\n",
       "      <td>Saturday</td>\n",
       "      <td>Sunday</td>\n",
       "      <td>22:16:00</td>\n",
       "      <td>22.16</td>\n",
       "      <td>14:49:00</td>\n",
       "      <td>14.49</td>\n",
       "      <td>0 days 16:33:00</td>\n",
       "    </tr>\n",
       "    <tr>\n",
       "      <th>2096</th>\n",
       "      <td>7424</td>\n",
       "      <td>63115</td>\n",
       "      <td>2013-08-31 21:08:00</td>\n",
       "      <td>SJSU - San Salvador at 9th</td>\n",
       "      <td>16</td>\n",
       "      <td>2013-09-01 14:40:00</td>\n",
       "      <td>SJSU - San Salvador at 9th</td>\n",
       "      <td>16</td>\n",
       "      <td>12</td>\n",
       "      <td>Customer</td>\n",
       "      <td>95112</td>\n",
       "      <td>2013-08-31</td>\n",
       "      <td>Saturday</td>\n",
       "      <td>Sunday</td>\n",
       "      <td>21:08:00</td>\n",
       "      <td>21.08</td>\n",
       "      <td>14:40:00</td>\n",
       "      <td>14.40</td>\n",
       "      <td>0 days 17:32:00</td>\n",
       "    </tr>\n",
       "    <tr>\n",
       "      <th>2097</th>\n",
       "      <td>7180</td>\n",
       "      <td>63968</td>\n",
       "      <td>2013-08-31 16:09:00</td>\n",
       "      <td>Grant Avenue at Columbus Avenue</td>\n",
       "      <td>73</td>\n",
       "      <td>2013-09-01 09:55:00</td>\n",
       "      <td>South Van Ness at Market</td>\n",
       "      <td>66</td>\n",
       "      <td>528</td>\n",
       "      <td>Customer</td>\n",
       "      <td>94133</td>\n",
       "      <td>2013-08-31</td>\n",
       "      <td>Saturday</td>\n",
       "      <td>Sunday</td>\n",
       "      <td>16:09:00</td>\n",
       "      <td>16.09</td>\n",
       "      <td>09:55:00</td>\n",
       "      <td>9.55</td>\n",
       "      <td>0 days 17:46:00</td>\n",
       "    </tr>\n",
       "    <tr>\n",
       "      <th>2098</th>\n",
       "      <td>6633</td>\n",
       "      <td>79154</td>\n",
       "      <td>2013-08-31 11:09:00</td>\n",
       "      <td>Steuart at Market</td>\n",
       "      <td>74</td>\n",
       "      <td>2013-09-01 09:08:00</td>\n",
       "      <td>Steuart at Market</td>\n",
       "      <td>74</td>\n",
       "      <td>484</td>\n",
       "      <td>Customer</td>\n",
       "      <td>14169</td>\n",
       "      <td>2013-08-31</td>\n",
       "      <td>Saturday</td>\n",
       "      <td>Sunday</td>\n",
       "      <td>11:09:00</td>\n",
       "      <td>11.09</td>\n",
       "      <td>09:08:00</td>\n",
       "      <td>9.08</td>\n",
       "      <td>0 days 21:59:00</td>\n",
       "    </tr>\n",
       "    <tr>\n",
       "      <th>2099</th>\n",
       "      <td>6631</td>\n",
       "      <td>79160</td>\n",
       "      <td>2013-08-31 11:08:00</td>\n",
       "      <td>Steuart at Market</td>\n",
       "      <td>74</td>\n",
       "      <td>2013-09-01 09:08:00</td>\n",
       "      <td>Steuart at Market</td>\n",
       "      <td>74</td>\n",
       "      <td>421</td>\n",
       "      <td>Customer</td>\n",
       "      <td>14169</td>\n",
       "      <td>2013-08-31</td>\n",
       "      <td>Saturday</td>\n",
       "      <td>Sunday</td>\n",
       "      <td>11:08:00</td>\n",
       "      <td>11.08</td>\n",
       "      <td>09:08:00</td>\n",
       "      <td>9.08</td>\n",
       "      <td>0 days 22:00:00</td>\n",
       "    </tr>\n",
       "    <tr>\n",
       "      <th>2100</th>\n",
       "      <td>7208</td>\n",
       "      <td>93764</td>\n",
       "      <td>2013-08-31 16:26:00</td>\n",
       "      <td>Powell at Post (Union Square)</td>\n",
       "      <td>71</td>\n",
       "      <td>2013-09-01 18:29:00</td>\n",
       "      <td>Market at 4th</td>\n",
       "      <td>76</td>\n",
       "      <td>540</td>\n",
       "      <td>Customer</td>\n",
       "      <td>NaN</td>\n",
       "      <td>2013-08-31</td>\n",
       "      <td>Saturday</td>\n",
       "      <td>Sunday</td>\n",
       "      <td>16:26:00</td>\n",
       "      <td>16.26</td>\n",
       "      <td>18:29:00</td>\n",
       "      <td>18.29</td>\n",
       "      <td>1 days 02:03:00</td>\n",
       "    </tr>\n",
       "    <tr>\n",
       "      <th>2101</th>\n",
       "      <td>7044</td>\n",
       "      <td>167968</td>\n",
       "      <td>2013-08-31 14:43:00</td>\n",
       "      <td>Clay at Battery</td>\n",
       "      <td>41</td>\n",
       "      <td>2013-09-02 13:22:00</td>\n",
       "      <td>Clay at Battery</td>\n",
       "      <td>41</td>\n",
       "      <td>517</td>\n",
       "      <td>Customer</td>\n",
       "      <td>94102</td>\n",
       "      <td>2013-08-31</td>\n",
       "      <td>Saturday</td>\n",
       "      <td>Monday</td>\n",
       "      <td>14:43:00</td>\n",
       "      <td>14.43</td>\n",
       "      <td>13:22:00</td>\n",
       "      <td>13.22</td>\n",
       "      <td>1 days 22:39:00</td>\n",
       "    </tr>\n",
       "    <tr>\n",
       "      <th>2120</th>\n",
       "      <td>7466</td>\n",
       "      <td>39751</td>\n",
       "      <td>2013-09-01 04:06:00</td>\n",
       "      <td>MLK Library</td>\n",
       "      <td>11</td>\n",
       "      <td>2013-09-01 15:08:00</td>\n",
       "      <td>San Jose City Hall</td>\n",
       "      <td>10</td>\n",
       "      <td>30</td>\n",
       "      <td>Customer</td>\n",
       "      <td>95035</td>\n",
       "      <td>2013-09-01</td>\n",
       "      <td>Sunday</td>\n",
       "      <td>Sunday</td>\n",
       "      <td>04:06:00</td>\n",
       "      <td>4.06</td>\n",
       "      <td>15:08:00</td>\n",
       "      <td>15.08</td>\n",
       "      <td>0 days 11:02:00</td>\n",
       "    </tr>\n",
       "    <tr>\n",
       "      <th>2147</th>\n",
       "      <td>7495</td>\n",
       "      <td>32994</td>\n",
       "      <td>2013-09-01 09:15:00</td>\n",
       "      <td>Steuart at Market</td>\n",
       "      <td>74</td>\n",
       "      <td>2013-09-01 18:25:00</td>\n",
       "      <td>Harry Bridges Plaza (Ferry Building)</td>\n",
       "      <td>50</td>\n",
       "      <td>409</td>\n",
       "      <td>Customer</td>\n",
       "      <td>NaN</td>\n",
       "      <td>2013-09-01</td>\n",
       "      <td>Sunday</td>\n",
       "      <td>Sunday</td>\n",
       "      <td>09:15:00</td>\n",
       "      <td>9.15</td>\n",
       "      <td>18:25:00</td>\n",
       "      <td>18.25</td>\n",
       "      <td>0 days 09:10:00</td>\n",
       "    </tr>\n",
       "    <tr>\n",
       "      <th>2149</th>\n",
       "      <td>7497</td>\n",
       "      <td>32987</td>\n",
       "      <td>2013-09-01 09:16:00</td>\n",
       "      <td>Steuart at Market</td>\n",
       "      <td>74</td>\n",
       "      <td>2013-09-01 18:26:00</td>\n",
       "      <td>Harry Bridges Plaza (Ferry Building)</td>\n",
       "      <td>50</td>\n",
       "      <td>372</td>\n",
       "      <td>Customer</td>\n",
       "      <td>NaN</td>\n",
       "      <td>2013-09-01</td>\n",
       "      <td>Sunday</td>\n",
       "      <td>Sunday</td>\n",
       "      <td>09:16:00</td>\n",
       "      <td>9.16</td>\n",
       "      <td>18:26:00</td>\n",
       "      <td>18.26</td>\n",
       "      <td>0 days 09:10:00</td>\n",
       "    </tr>\n",
       "    <tr>\n",
       "      <th>2173</th>\n",
       "      <td>7529</td>\n",
       "      <td>32933</td>\n",
       "      <td>2013-09-01 10:15:00</td>\n",
       "      <td>Temporary Transbay Terminal (Howard at Beale)</td>\n",
       "      <td>55</td>\n",
       "      <td>2013-09-01 19:23:00</td>\n",
       "      <td>Embarcadero at Vallejo</td>\n",
       "      <td>48</td>\n",
       "      <td>572</td>\n",
       "      <td>Customer</td>\n",
       "      <td>94118</td>\n",
       "      <td>2013-09-01</td>\n",
       "      <td>Sunday</td>\n",
       "      <td>Sunday</td>\n",
       "      <td>10:15:00</td>\n",
       "      <td>10.15</td>\n",
       "      <td>19:23:00</td>\n",
       "      <td>19.23</td>\n",
       "      <td>0 days 09:08:00</td>\n",
       "    </tr>\n",
       "    <tr>\n",
       "      <th>2184</th>\n",
       "      <td>7550</td>\n",
       "      <td>29301</td>\n",
       "      <td>2013-09-01 10:31:00</td>\n",
       "      <td>Powell Street BART</td>\n",
       "      <td>39</td>\n",
       "      <td>2013-09-01 18:40:00</td>\n",
       "      <td>Market at 4th</td>\n",
       "      <td>76</td>\n",
       "      <td>592</td>\n",
       "      <td>Customer</td>\n",
       "      <td>NaN</td>\n",
       "      <td>2013-09-01</td>\n",
       "      <td>Sunday</td>\n",
       "      <td>Sunday</td>\n",
       "      <td>10:31:00</td>\n",
       "      <td>10.31</td>\n",
       "      <td>18:40:00</td>\n",
       "      <td>18.40</td>\n",
       "      <td>0 days 08:09:00</td>\n",
       "    </tr>\n",
       "    <tr>\n",
       "      <th>2185</th>\n",
       "      <td>7551</td>\n",
       "      <td>29351</td>\n",
       "      <td>2013-09-01 10:32:00</td>\n",
       "      <td>Powell Street BART</td>\n",
       "      <td>39</td>\n",
       "      <td>2013-09-01 18:41:00</td>\n",
       "      <td>Market at 4th</td>\n",
       "      <td>76</td>\n",
       "      <td>553</td>\n",
       "      <td>Customer</td>\n",
       "      <td>NaN</td>\n",
       "      <td>2013-09-01</td>\n",
       "      <td>Sunday</td>\n",
       "      <td>Sunday</td>\n",
       "      <td>10:32:00</td>\n",
       "      <td>10.32</td>\n",
       "      <td>18:41:00</td>\n",
       "      <td>18.41</td>\n",
       "      <td>0 days 08:09:00</td>\n",
       "    </tr>\n",
       "    <tr>\n",
       "      <th>2599</th>\n",
       "      <td>8197</td>\n",
       "      <td>85425</td>\n",
       "      <td>2013-09-01 16:14:00</td>\n",
       "      <td>Market at 10th</td>\n",
       "      <td>67</td>\n",
       "      <td>2013-09-02 15:58:00</td>\n",
       "      <td>Golden Gate at Polk</td>\n",
       "      <td>59</td>\n",
       "      <td>427</td>\n",
       "      <td>Customer</td>\n",
       "      <td>60056</td>\n",
       "      <td>2013-09-01</td>\n",
       "      <td>Sunday</td>\n",
       "      <td>Monday</td>\n",
       "      <td>16:14:00</td>\n",
       "      <td>16.14</td>\n",
       "      <td>15:58:00</td>\n",
       "      <td>15.58</td>\n",
       "      <td>0 days 23:44:00</td>\n",
       "    </tr>\n",
       "    <tr>\n",
       "      <th>2602</th>\n",
       "      <td>8204</td>\n",
       "      <td>85361</td>\n",
       "      <td>2013-09-01 16:16:00</td>\n",
       "      <td>Market at 10th</td>\n",
       "      <td>67</td>\n",
       "      <td>2013-09-02 15:58:00</td>\n",
       "      <td>Golden Gate at Polk</td>\n",
       "      <td>59</td>\n",
       "      <td>498</td>\n",
       "      <td>Customer</td>\n",
       "      <td>60056</td>\n",
       "      <td>2013-09-01</td>\n",
       "      <td>Sunday</td>\n",
       "      <td>Monday</td>\n",
       "      <td>16:16:00</td>\n",
       "      <td>16.16</td>\n",
       "      <td>15:58:00</td>\n",
       "      <td>15.58</td>\n",
       "      <td>0 days 23:42:00</td>\n",
       "    </tr>\n",
       "    <tr>\n",
       "      <th>2724</th>\n",
       "      <td>8373</td>\n",
       "      <td>251930</td>\n",
       "      <td>2013-09-01 18:43:00</td>\n",
       "      <td>Civic Center BART (7th at Market)</td>\n",
       "      <td>72</td>\n",
       "      <td>2013-09-04 16:42:00</td>\n",
       "      <td>Golden Gate at Polk</td>\n",
       "      <td>59</td>\n",
       "      <td>501</td>\n",
       "      <td>Customer</td>\n",
       "      <td>94102</td>\n",
       "      <td>2013-09-01</td>\n",
       "      <td>Sunday</td>\n",
       "      <td>Wednesday</td>\n",
       "      <td>18:43:00</td>\n",
       "      <td>18.43</td>\n",
       "      <td>16:42:00</td>\n",
       "      <td>16.42</td>\n",
       "      <td>2 days 21:59:00</td>\n",
       "    </tr>\n",
       "    <tr>\n",
       "      <th>...</th>\n",
       "      <td>...</td>\n",
       "      <td>...</td>\n",
       "      <td>...</td>\n",
       "      <td>...</td>\n",
       "      <td>...</td>\n",
       "      <td>...</td>\n",
       "      <td>...</td>\n",
       "      <td>...</td>\n",
       "      <td>...</td>\n",
       "      <td>...</td>\n",
       "      <td>...</td>\n",
       "      <td>...</td>\n",
       "      <td>...</td>\n",
       "      <td>...</td>\n",
       "      <td>...</td>\n",
       "      <td>...</td>\n",
       "      <td>...</td>\n",
       "      <td>...</td>\n",
       "      <td>...</td>\n",
       "    </tr>\n",
       "    <tr>\n",
       "      <th>658204</th>\n",
       "      <td>449114</td>\n",
       "      <td>84131</td>\n",
       "      <td>2014-09-11 18:38:00</td>\n",
       "      <td>San Mateo County Center</td>\n",
       "      <td>23</td>\n",
       "      <td>2014-09-12 18:00:00</td>\n",
       "      <td>San Mateo County Center</td>\n",
       "      <td>23</td>\n",
       "      <td>712</td>\n",
       "      <td>Customer</td>\n",
       "      <td>94070</td>\n",
       "      <td>2014-09-11</td>\n",
       "      <td>Thursday</td>\n",
       "      <td>Friday</td>\n",
       "      <td>18:38:00</td>\n",
       "      <td>18.38</td>\n",
       "      <td>18:00:00</td>\n",
       "      <td>18.00</td>\n",
       "      <td>0 days 23:22:00</td>\n",
       "    </tr>\n",
       "    <tr>\n",
       "      <th>658205</th>\n",
       "      <td>449113</td>\n",
       "      <td>84152</td>\n",
       "      <td>2014-09-11 18:37:00</td>\n",
       "      <td>San Mateo County Center</td>\n",
       "      <td>23</td>\n",
       "      <td>2014-09-12 18:00:00</td>\n",
       "      <td>San Mateo County Center</td>\n",
       "      <td>23</td>\n",
       "      <td>244</td>\n",
       "      <td>Customer</td>\n",
       "      <td>94070</td>\n",
       "      <td>2014-09-11</td>\n",
       "      <td>Thursday</td>\n",
       "      <td>Friday</td>\n",
       "      <td>18:37:00</td>\n",
       "      <td>18.37</td>\n",
       "      <td>18:00:00</td>\n",
       "      <td>18.00</td>\n",
       "      <td>0 days 23:23:00</td>\n",
       "    </tr>\n",
       "    <tr>\n",
       "      <th>658455</th>\n",
       "      <td>448797</td>\n",
       "      <td>257233</td>\n",
       "      <td>2014-09-11 17:00:00</td>\n",
       "      <td>San Jose Civic Center</td>\n",
       "      <td>3</td>\n",
       "      <td>2014-09-14 16:27:00</td>\n",
       "      <td>San Jose Civic Center</td>\n",
       "      <td>3</td>\n",
       "      <td>23</td>\n",
       "      <td>Customer</td>\n",
       "      <td>95126</td>\n",
       "      <td>2014-09-11</td>\n",
       "      <td>Thursday</td>\n",
       "      <td>Sunday</td>\n",
       "      <td>17:00:00</td>\n",
       "      <td>17.00</td>\n",
       "      <td>16:27:00</td>\n",
       "      <td>16.27</td>\n",
       "      <td>2 days 23:27:00</td>\n",
       "    </tr>\n",
       "    <tr>\n",
       "      <th>660744</th>\n",
       "      <td>445597</td>\n",
       "      <td>42483</td>\n",
       "      <td>2014-09-10 06:45:00</td>\n",
       "      <td>San Francisco Caltrain (Townsend at 4th)</td>\n",
       "      <td>70</td>\n",
       "      <td>2014-09-10 18:34:00</td>\n",
       "      <td>San Francisco Caltrain (Townsend at 4th)</td>\n",
       "      <td>70</td>\n",
       "      <td>392</td>\n",
       "      <td>Customer</td>\n",
       "      <td>90034</td>\n",
       "      <td>2014-09-10</td>\n",
       "      <td>Wednesday</td>\n",
       "      <td>Wednesday</td>\n",
       "      <td>06:45:00</td>\n",
       "      <td>6.45</td>\n",
       "      <td>18:34:00</td>\n",
       "      <td>18.34</td>\n",
       "      <td>0 days 11:49:00</td>\n",
       "    </tr>\n",
       "    <tr>\n",
       "      <th>660772</th>\n",
       "      <td>445560</td>\n",
       "      <td>40183</td>\n",
       "      <td>2014-09-10 04:54:00</td>\n",
       "      <td>Ryland Park</td>\n",
       "      <td>84</td>\n",
       "      <td>2014-09-10 16:04:00</td>\n",
       "      <td>San Jose Diridon Caltrain Station</td>\n",
       "      <td>2</td>\n",
       "      <td>162</td>\n",
       "      <td>Customer</td>\n",
       "      <td>95112</td>\n",
       "      <td>2014-09-10</td>\n",
       "      <td>Wednesday</td>\n",
       "      <td>Wednesday</td>\n",
       "      <td>04:54:00</td>\n",
       "      <td>4.54</td>\n",
       "      <td>16:04:00</td>\n",
       "      <td>16.04</td>\n",
       "      <td>0 days 11:10:00</td>\n",
       "    </tr>\n",
       "    <tr>\n",
       "      <th>660968</th>\n",
       "      <td>445299</td>\n",
       "      <td>44483</td>\n",
       "      <td>2014-09-09 18:41:00</td>\n",
       "      <td>Broadway St at Battery St</td>\n",
       "      <td>82</td>\n",
       "      <td>2014-09-10 07:03:00</td>\n",
       "      <td>San Francisco Caltrain (Townsend at 4th)</td>\n",
       "      <td>70</td>\n",
       "      <td>353</td>\n",
       "      <td>Subscriber</td>\n",
       "      <td>94103</td>\n",
       "      <td>2014-09-09</td>\n",
       "      <td>Tuesday</td>\n",
       "      <td>Wednesday</td>\n",
       "      <td>18:41:00</td>\n",
       "      <td>18.41</td>\n",
       "      <td>07:03:00</td>\n",
       "      <td>7.03</td>\n",
       "      <td>0 days 12:22:00</td>\n",
       "    </tr>\n",
       "    <tr>\n",
       "      <th>661191</th>\n",
       "      <td>445014</td>\n",
       "      <td>54948</td>\n",
       "      <td>2014-09-09 17:29:00</td>\n",
       "      <td>Embarcadero at Vallejo</td>\n",
       "      <td>48</td>\n",
       "      <td>2014-09-10 08:45:00</td>\n",
       "      <td>2nd at Townsend</td>\n",
       "      <td>61</td>\n",
       "      <td>427</td>\n",
       "      <td>Subscriber</td>\n",
       "      <td>94611</td>\n",
       "      <td>2014-09-09</td>\n",
       "      <td>Tuesday</td>\n",
       "      <td>Wednesday</td>\n",
       "      <td>17:29:00</td>\n",
       "      <td>17.29</td>\n",
       "      <td>08:45:00</td>\n",
       "      <td>8.45</td>\n",
       "      <td>0 days 15:16:00</td>\n",
       "    </tr>\n",
       "    <tr>\n",
       "      <th>661566</th>\n",
       "      <td>444468</td>\n",
       "      <td>74967</td>\n",
       "      <td>2014-09-09 12:04:00</td>\n",
       "      <td>Powell Street BART</td>\n",
       "      <td>39</td>\n",
       "      <td>2014-09-10 08:53:00</td>\n",
       "      <td>Powell Street BART</td>\n",
       "      <td>39</td>\n",
       "      <td>193</td>\n",
       "      <td>Customer</td>\n",
       "      <td>3601</td>\n",
       "      <td>2014-09-09</td>\n",
       "      <td>Tuesday</td>\n",
       "      <td>Wednesday</td>\n",
       "      <td>12:04:00</td>\n",
       "      <td>12.04</td>\n",
       "      <td>08:53:00</td>\n",
       "      <td>8.53</td>\n",
       "      <td>0 days 20:49:00</td>\n",
       "    </tr>\n",
       "    <tr>\n",
       "      <th>661568</th>\n",
       "      <td>444466</td>\n",
       "      <td>77926</td>\n",
       "      <td>2014-09-09 12:03:00</td>\n",
       "      <td>Powell Street BART</td>\n",
       "      <td>39</td>\n",
       "      <td>2014-09-10 09:42:00</td>\n",
       "      <td>Powell Street BART</td>\n",
       "      <td>39</td>\n",
       "      <td>623</td>\n",
       "      <td>Customer</td>\n",
       "      <td>3601</td>\n",
       "      <td>2014-09-09</td>\n",
       "      <td>Tuesday</td>\n",
       "      <td>Wednesday</td>\n",
       "      <td>12:03:00</td>\n",
       "      <td>12.03</td>\n",
       "      <td>09:42:00</td>\n",
       "      <td>9.42</td>\n",
       "      <td>0 days 21:39:00</td>\n",
       "    </tr>\n",
       "    <tr>\n",
       "      <th>661685</th>\n",
       "      <td>444308</td>\n",
       "      <td>30442</td>\n",
       "      <td>2014-09-09 09:42:00</td>\n",
       "      <td>Market at 4th</td>\n",
       "      <td>76</td>\n",
       "      <td>2014-09-09 18:09:00</td>\n",
       "      <td>Powell Street BART</td>\n",
       "      <td>39</td>\n",
       "      <td>334</td>\n",
       "      <td>Customer</td>\n",
       "      <td>nil</td>\n",
       "      <td>2014-09-09</td>\n",
       "      <td>Tuesday</td>\n",
       "      <td>Tuesday</td>\n",
       "      <td>09:42:00</td>\n",
       "      <td>9.42</td>\n",
       "      <td>18:09:00</td>\n",
       "      <td>18.09</td>\n",
       "      <td>0 days 08:27:00</td>\n",
       "    </tr>\n",
       "    <tr>\n",
       "      <th>661695</th>\n",
       "      <td>444291</td>\n",
       "      <td>30599</td>\n",
       "      <td>2014-09-09 09:38:00</td>\n",
       "      <td>Market at 4th</td>\n",
       "      <td>76</td>\n",
       "      <td>2014-09-09 18:08:00</td>\n",
       "      <td>Powell Street BART</td>\n",
       "      <td>39</td>\n",
       "      <td>512</td>\n",
       "      <td>Customer</td>\n",
       "      <td>nil</td>\n",
       "      <td>2014-09-09</td>\n",
       "      <td>Tuesday</td>\n",
       "      <td>Tuesday</td>\n",
       "      <td>09:38:00</td>\n",
       "      <td>9.38</td>\n",
       "      <td>18:08:00</td>\n",
       "      <td>18.08</td>\n",
       "      <td>0 days 08:30:00</td>\n",
       "    </tr>\n",
       "    <tr>\n",
       "      <th>661700</th>\n",
       "      <td>444286</td>\n",
       "      <td>30652</td>\n",
       "      <td>2014-09-09 09:37:00</td>\n",
       "      <td>Market at 4th</td>\n",
       "      <td>76</td>\n",
       "      <td>2014-09-09 18:08:00</td>\n",
       "      <td>Powell Street BART</td>\n",
       "      <td>39</td>\n",
       "      <td>517</td>\n",
       "      <td>Customer</td>\n",
       "      <td>nil</td>\n",
       "      <td>2014-09-09</td>\n",
       "      <td>Tuesday</td>\n",
       "      <td>Tuesday</td>\n",
       "      <td>09:37:00</td>\n",
       "      <td>9.37</td>\n",
       "      <td>18:08:00</td>\n",
       "      <td>18.08</td>\n",
       "      <td>0 days 08:31:00</td>\n",
       "    </tr>\n",
       "    <tr>\n",
       "      <th>661991</th>\n",
       "      <td>443907</td>\n",
       "      <td>36506</td>\n",
       "      <td>2014-09-09 08:00:00</td>\n",
       "      <td>Market at 10th</td>\n",
       "      <td>67</td>\n",
       "      <td>2014-09-09 18:08:00</td>\n",
       "      <td>Powell Street BART</td>\n",
       "      <td>39</td>\n",
       "      <td>388</td>\n",
       "      <td>Subscriber</td>\n",
       "      <td>94107</td>\n",
       "      <td>2014-09-09</td>\n",
       "      <td>Tuesday</td>\n",
       "      <td>Tuesday</td>\n",
       "      <td>08:00:00</td>\n",
       "      <td>8.00</td>\n",
       "      <td>18:08:00</td>\n",
       "      <td>18.08</td>\n",
       "      <td>0 days 10:08:00</td>\n",
       "    </tr>\n",
       "    <tr>\n",
       "      <th>662378</th>\n",
       "      <td>443356</td>\n",
       "      <td>254700</td>\n",
       "      <td>2014-09-08 18:05:00</td>\n",
       "      <td>San Jose Civic Center</td>\n",
       "      <td>3</td>\n",
       "      <td>2014-09-11 16:50:00</td>\n",
       "      <td>San Jose Civic Center</td>\n",
       "      <td>3</td>\n",
       "      <td>194</td>\n",
       "      <td>Customer</td>\n",
       "      <td>95126</td>\n",
       "      <td>2014-09-08</td>\n",
       "      <td>Monday</td>\n",
       "      <td>Thursday</td>\n",
       "      <td>18:05:00</td>\n",
       "      <td>18.05</td>\n",
       "      <td>16:50:00</td>\n",
       "      <td>16.50</td>\n",
       "      <td>2 days 22:45:00</td>\n",
       "    </tr>\n",
       "    <tr>\n",
       "      <th>662823</th>\n",
       "      <td>442738</td>\n",
       "      <td>81863</td>\n",
       "      <td>2014-09-08 13:14:00</td>\n",
       "      <td>Powell Street BART</td>\n",
       "      <td>39</td>\n",
       "      <td>2014-09-09 11:59:00</td>\n",
       "      <td>Powell Street BART</td>\n",
       "      <td>39</td>\n",
       "      <td>420</td>\n",
       "      <td>Customer</td>\n",
       "      <td>34142</td>\n",
       "      <td>2014-09-08</td>\n",
       "      <td>Monday</td>\n",
       "      <td>Tuesday</td>\n",
       "      <td>13:14:00</td>\n",
       "      <td>13.14</td>\n",
       "      <td>11:59:00</td>\n",
       "      <td>11.59</td>\n",
       "      <td>0 days 22:45:00</td>\n",
       "    </tr>\n",
       "    <tr>\n",
       "      <th>662825</th>\n",
       "      <td>442735</td>\n",
       "      <td>82134</td>\n",
       "      <td>2014-09-08 13:10:00</td>\n",
       "      <td>Powell Street BART</td>\n",
       "      <td>39</td>\n",
       "      <td>2014-09-09 11:59:00</td>\n",
       "      <td>Powell Street BART</td>\n",
       "      <td>39</td>\n",
       "      <td>193</td>\n",
       "      <td>Customer</td>\n",
       "      <td>nil</td>\n",
       "      <td>2014-09-08</td>\n",
       "      <td>Monday</td>\n",
       "      <td>Tuesday</td>\n",
       "      <td>13:10:00</td>\n",
       "      <td>13.10</td>\n",
       "      <td>11:59:00</td>\n",
       "      <td>11.59</td>\n",
       "      <td>0 days 22:49:00</td>\n",
       "    </tr>\n",
       "    <tr>\n",
       "      <th>662919</th>\n",
       "      <td>442575</td>\n",
       "      <td>79003</td>\n",
       "      <td>2014-09-08 10:49:00</td>\n",
       "      <td>SJSU - San Salvador at 9th</td>\n",
       "      <td>16</td>\n",
       "      <td>2014-09-09 08:46:00</td>\n",
       "      <td>San Salvador at 1st</td>\n",
       "      <td>8</td>\n",
       "      <td>144</td>\n",
       "      <td>Subscriber</td>\n",
       "      <td>95112</td>\n",
       "      <td>2014-09-08</td>\n",
       "      <td>Monday</td>\n",
       "      <td>Tuesday</td>\n",
       "      <td>10:49:00</td>\n",
       "      <td>10.49</td>\n",
       "      <td>08:46:00</td>\n",
       "      <td>8.46</td>\n",
       "      <td>0 days 21:57:00</td>\n",
       "    </tr>\n",
       "    <tr>\n",
       "      <th>663614</th>\n",
       "      <td>441625</td>\n",
       "      <td>67174</td>\n",
       "      <td>2014-09-07 13:11:00</td>\n",
       "      <td>2nd at South Park</td>\n",
       "      <td>64</td>\n",
       "      <td>2014-09-08 07:50:00</td>\n",
       "      <td>5th at Howard</td>\n",
       "      <td>57</td>\n",
       "      <td>525</td>\n",
       "      <td>Subscriber</td>\n",
       "      <td>94107</td>\n",
       "      <td>2014-09-07</td>\n",
       "      <td>Sunday</td>\n",
       "      <td>Monday</td>\n",
       "      <td>13:11:00</td>\n",
       "      <td>13.11</td>\n",
       "      <td>07:50:00</td>\n",
       "      <td>7.50</td>\n",
       "      <td>0 days 18:39:00</td>\n",
       "    </tr>\n",
       "    <tr>\n",
       "      <th>663679</th>\n",
       "      <td>441544</td>\n",
       "      <td>71193</td>\n",
       "      <td>2014-09-07 11:29:00</td>\n",
       "      <td>Embarcadero at Vallejo</td>\n",
       "      <td>48</td>\n",
       "      <td>2014-09-08 07:16:00</td>\n",
       "      <td>Mechanics Plaza (Market at Battery)</td>\n",
       "      <td>75</td>\n",
       "      <td>493</td>\n",
       "      <td>Customer</td>\n",
       "      <td>NaN</td>\n",
       "      <td>2014-09-07</td>\n",
       "      <td>Sunday</td>\n",
       "      <td>Monday</td>\n",
       "      <td>11:29:00</td>\n",
       "      <td>11.29</td>\n",
       "      <td>07:16:00</td>\n",
       "      <td>7.16</td>\n",
       "      <td>0 days 19:47:00</td>\n",
       "    </tr>\n",
       "    <tr>\n",
       "      <th>664041</th>\n",
       "      <td>441052</td>\n",
       "      <td>75550</td>\n",
       "      <td>2014-09-06 13:40:00</td>\n",
       "      <td>Post at Kearny</td>\n",
       "      <td>47</td>\n",
       "      <td>2014-09-07 10:39:00</td>\n",
       "      <td>2nd at Folsom</td>\n",
       "      <td>62</td>\n",
       "      <td>614</td>\n",
       "      <td>Customer</td>\n",
       "      <td>2242</td>\n",
       "      <td>2014-09-06</td>\n",
       "      <td>Saturday</td>\n",
       "      <td>Sunday</td>\n",
       "      <td>13:40:00</td>\n",
       "      <td>13.40</td>\n",
       "      <td>10:39:00</td>\n",
       "      <td>10.39</td>\n",
       "      <td>0 days 20:59:00</td>\n",
       "    </tr>\n",
       "    <tr>\n",
       "      <th>664224</th>\n",
       "      <td>440832</td>\n",
       "      <td>71971</td>\n",
       "      <td>2014-09-05 22:52:00</td>\n",
       "      <td>Mountain View Caltrain Station</td>\n",
       "      <td>28</td>\n",
       "      <td>2014-09-06 18:52:00</td>\n",
       "      <td>Mountain View Caltrain Station</td>\n",
       "      <td>28</td>\n",
       "      <td>295</td>\n",
       "      <td>Customer</td>\n",
       "      <td>94040</td>\n",
       "      <td>2014-09-05</td>\n",
       "      <td>Friday</td>\n",
       "      <td>Saturday</td>\n",
       "      <td>22:52:00</td>\n",
       "      <td>22.52</td>\n",
       "      <td>18:52:00</td>\n",
       "      <td>18.52</td>\n",
       "      <td>0 days 20:00:00</td>\n",
       "    </tr>\n",
       "    <tr>\n",
       "      <th>664225</th>\n",
       "      <td>440831</td>\n",
       "      <td>71965</td>\n",
       "      <td>2014-09-05 22:52:00</td>\n",
       "      <td>Mountain View Caltrain Station</td>\n",
       "      <td>28</td>\n",
       "      <td>2014-09-06 18:51:00</td>\n",
       "      <td>Mountain View Caltrain Station</td>\n",
       "      <td>28</td>\n",
       "      <td>304</td>\n",
       "      <td>Customer</td>\n",
       "      <td>94040</td>\n",
       "      <td>2014-09-05</td>\n",
       "      <td>Friday</td>\n",
       "      <td>Saturday</td>\n",
       "      <td>22:52:00</td>\n",
       "      <td>22.52</td>\n",
       "      <td>18:51:00</td>\n",
       "      <td>18.51</td>\n",
       "      <td>0 days 19:59:00</td>\n",
       "    </tr>\n",
       "    <tr>\n",
       "      <th>664794</th>\n",
       "      <td>440033</td>\n",
       "      <td>75543</td>\n",
       "      <td>2014-09-05 14:02:00</td>\n",
       "      <td>2nd at South Park</td>\n",
       "      <td>64</td>\n",
       "      <td>2014-09-06 11:01:00</td>\n",
       "      <td>Temporary Transbay Terminal (Howard at Beale)</td>\n",
       "      <td>55</td>\n",
       "      <td>330</td>\n",
       "      <td>Subscriber</td>\n",
       "      <td>94107</td>\n",
       "      <td>2014-09-05</td>\n",
       "      <td>Friday</td>\n",
       "      <td>Saturday</td>\n",
       "      <td>14:02:00</td>\n",
       "      <td>14.02</td>\n",
       "      <td>11:01:00</td>\n",
       "      <td>11.01</td>\n",
       "      <td>0 days 20:59:00</td>\n",
       "    </tr>\n",
       "    <tr>\n",
       "      <th>665474</th>\n",
       "      <td>439188</td>\n",
       "      <td>41512</td>\n",
       "      <td>2014-09-05 03:15:00</td>\n",
       "      <td>Market at 4th</td>\n",
       "      <td>76</td>\n",
       "      <td>2014-09-05 14:47:00</td>\n",
       "      <td>5th at Howard</td>\n",
       "      <td>57</td>\n",
       "      <td>419</td>\n",
       "      <td>Customer</td>\n",
       "      <td>94102</td>\n",
       "      <td>2014-09-05</td>\n",
       "      <td>Friday</td>\n",
       "      <td>Friday</td>\n",
       "      <td>03:15:00</td>\n",
       "      <td>3.15</td>\n",
       "      <td>14:47:00</td>\n",
       "      <td>14.47</td>\n",
       "      <td>0 days 11:32:00</td>\n",
       "    </tr>\n",
       "    <tr>\n",
       "      <th>665499</th>\n",
       "      <td>439159</td>\n",
       "      <td>34109</td>\n",
       "      <td>2014-09-04 22:12:00</td>\n",
       "      <td>Embarcadero at Bryant</td>\n",
       "      <td>54</td>\n",
       "      <td>2014-09-05 07:41:00</td>\n",
       "      <td>Steuart at Market</td>\n",
       "      <td>74</td>\n",
       "      <td>97</td>\n",
       "      <td>Customer</td>\n",
       "      <td>94104</td>\n",
       "      <td>2014-09-04</td>\n",
       "      <td>Thursday</td>\n",
       "      <td>Friday</td>\n",
       "      <td>22:12:00</td>\n",
       "      <td>22.12</td>\n",
       "      <td>07:41:00</td>\n",
       "      <td>7.41</td>\n",
       "      <td>0 days 09:29:00</td>\n",
       "    </tr>\n",
       "    <tr>\n",
       "      <th>668483</th>\n",
       "      <td>435081</td>\n",
       "      <td>49038</td>\n",
       "      <td>2014-09-02 18:10:00</td>\n",
       "      <td>Broadway St at Battery St</td>\n",
       "      <td>82</td>\n",
       "      <td>2014-09-03 07:47:00</td>\n",
       "      <td>Mechanics Plaza (Market at Battery)</td>\n",
       "      <td>75</td>\n",
       "      <td>381</td>\n",
       "      <td>Customer</td>\n",
       "      <td>94103</td>\n",
       "      <td>2014-09-02</td>\n",
       "      <td>Tuesday</td>\n",
       "      <td>Wednesday</td>\n",
       "      <td>18:10:00</td>\n",
       "      <td>18.10</td>\n",
       "      <td>07:47:00</td>\n",
       "      <td>7.47</td>\n",
       "      <td>0 days 13:37:00</td>\n",
       "    </tr>\n",
       "    <tr>\n",
       "      <th>668566</th>\n",
       "      <td>434969</td>\n",
       "      <td>75582</td>\n",
       "      <td>2014-09-02 17:41:00</td>\n",
       "      <td>Market at 10th</td>\n",
       "      <td>67</td>\n",
       "      <td>2014-09-03 14:41:00</td>\n",
       "      <td>Embarcadero at Sansome</td>\n",
       "      <td>60</td>\n",
       "      <td>395</td>\n",
       "      <td>Customer</td>\n",
       "      <td>92653</td>\n",
       "      <td>2014-09-02</td>\n",
       "      <td>Tuesday</td>\n",
       "      <td>Wednesday</td>\n",
       "      <td>17:41:00</td>\n",
       "      <td>17.41</td>\n",
       "      <td>14:41:00</td>\n",
       "      <td>14.41</td>\n",
       "      <td>0 days 21:00:00</td>\n",
       "    </tr>\n",
       "    <tr>\n",
       "      <th>669788</th>\n",
       "      <td>433173</td>\n",
       "      <td>71035</td>\n",
       "      <td>2014-09-01 13:35:00</td>\n",
       "      <td>Civic Center BART (7th at Market)</td>\n",
       "      <td>72</td>\n",
       "      <td>2014-09-02 09:19:00</td>\n",
       "      <td>Civic Center BART (7th at Market)</td>\n",
       "      <td>72</td>\n",
       "      <td>518</td>\n",
       "      <td>Customer</td>\n",
       "      <td>2400105</td>\n",
       "      <td>2014-09-01</td>\n",
       "      <td>Monday</td>\n",
       "      <td>Tuesday</td>\n",
       "      <td>13:35:00</td>\n",
       "      <td>13.35</td>\n",
       "      <td>09:19:00</td>\n",
       "      <td>9.19</td>\n",
       "      <td>0 days 19:44:00</td>\n",
       "    </tr>\n",
       "    <tr>\n",
       "      <th>669789</th>\n",
       "      <td>433172</td>\n",
       "      <td>65832</td>\n",
       "      <td>2014-09-01 13:35:00</td>\n",
       "      <td>Embarcadero at Sansome</td>\n",
       "      <td>60</td>\n",
       "      <td>2014-09-02 07:52:00</td>\n",
       "      <td>Embarcadero at Sansome</td>\n",
       "      <td>60</td>\n",
       "      <td>502</td>\n",
       "      <td>Customer</td>\n",
       "      <td>91030</td>\n",
       "      <td>2014-09-01</td>\n",
       "      <td>Monday</td>\n",
       "      <td>Tuesday</td>\n",
       "      <td>13:35:00</td>\n",
       "      <td>13.35</td>\n",
       "      <td>07:52:00</td>\n",
       "      <td>7.52</td>\n",
       "      <td>0 days 18:17:00</td>\n",
       "    </tr>\n",
       "    <tr>\n",
       "      <th>669792</th>\n",
       "      <td>433169</td>\n",
       "      <td>71291</td>\n",
       "      <td>2014-09-01 13:31:00</td>\n",
       "      <td>Civic Center BART (7th at Market)</td>\n",
       "      <td>72</td>\n",
       "      <td>2014-09-02 09:19:00</td>\n",
       "      <td>Civic Center BART (7th at Market)</td>\n",
       "      <td>72</td>\n",
       "      <td>16</td>\n",
       "      <td>Customer</td>\n",
       "      <td>1004004</td>\n",
       "      <td>2014-09-01</td>\n",
       "      <td>Monday</td>\n",
       "      <td>Tuesday</td>\n",
       "      <td>13:31:00</td>\n",
       "      <td>13.31</td>\n",
       "      <td>09:19:00</td>\n",
       "      <td>9.19</td>\n",
       "      <td>0 days 19:48:00</td>\n",
       "    </tr>\n",
       "  </tbody>\n",
       "</table>\n",
       "<p>1884 rows × 19 columns</p>\n",
       "</div>"
      ],
      "text/plain": [
       "            id  duration          start_date  \\\n",
       "743       4663     52698 2013-08-29 15:34:00   \n",
       "744       4532     84990 2013-08-29 13:43:00   \n",
       "745       4521     85385 2013-08-29 13:37:00   \n",
       "746       5069     86102 2013-08-29 21:41:00   \n",
       "747       4505     97713 2013-08-29 13:30:00   \n",
       "1454      5120     33088 2013-08-30 06:37:00   \n",
       "1455      5113     34449 2013-08-30 02:16:00   \n",
       "1456      5182     36255 2013-08-30 08:42:00   \n",
       "1457      6412     70731 2013-08-30 20:04:00   \n",
       "1458      6178     70982 2013-08-30 16:59:00   \n",
       "1459      6462     77919 2013-08-30 22:59:00   \n",
       "1460      5493     83224 2013-08-30 12:13:00   \n",
       "1461      6282    241334 2013-08-30 18:07:00   \n",
       "2094      7434     56668 2013-08-31 21:56:00   \n",
       "2095      7437     59599 2013-08-31 22:16:00   \n",
       "2096      7424     63115 2013-08-31 21:08:00   \n",
       "2097      7180     63968 2013-08-31 16:09:00   \n",
       "2098      6633     79154 2013-08-31 11:09:00   \n",
       "2099      6631     79160 2013-08-31 11:08:00   \n",
       "2100      7208     93764 2013-08-31 16:26:00   \n",
       "2101      7044    167968 2013-08-31 14:43:00   \n",
       "2120      7466     39751 2013-09-01 04:06:00   \n",
       "2147      7495     32994 2013-09-01 09:15:00   \n",
       "2149      7497     32987 2013-09-01 09:16:00   \n",
       "2173      7529     32933 2013-09-01 10:15:00   \n",
       "2184      7550     29301 2013-09-01 10:31:00   \n",
       "2185      7551     29351 2013-09-01 10:32:00   \n",
       "2599      8197     85425 2013-09-01 16:14:00   \n",
       "2602      8204     85361 2013-09-01 16:16:00   \n",
       "2724      8373    251930 2013-09-01 18:43:00   \n",
       "...        ...       ...                 ...   \n",
       "658204  449114     84131 2014-09-11 18:38:00   \n",
       "658205  449113     84152 2014-09-11 18:37:00   \n",
       "658455  448797    257233 2014-09-11 17:00:00   \n",
       "660744  445597     42483 2014-09-10 06:45:00   \n",
       "660772  445560     40183 2014-09-10 04:54:00   \n",
       "660968  445299     44483 2014-09-09 18:41:00   \n",
       "661191  445014     54948 2014-09-09 17:29:00   \n",
       "661566  444468     74967 2014-09-09 12:04:00   \n",
       "661568  444466     77926 2014-09-09 12:03:00   \n",
       "661685  444308     30442 2014-09-09 09:42:00   \n",
       "661695  444291     30599 2014-09-09 09:38:00   \n",
       "661700  444286     30652 2014-09-09 09:37:00   \n",
       "661991  443907     36506 2014-09-09 08:00:00   \n",
       "662378  443356    254700 2014-09-08 18:05:00   \n",
       "662823  442738     81863 2014-09-08 13:14:00   \n",
       "662825  442735     82134 2014-09-08 13:10:00   \n",
       "662919  442575     79003 2014-09-08 10:49:00   \n",
       "663614  441625     67174 2014-09-07 13:11:00   \n",
       "663679  441544     71193 2014-09-07 11:29:00   \n",
       "664041  441052     75550 2014-09-06 13:40:00   \n",
       "664224  440832     71971 2014-09-05 22:52:00   \n",
       "664225  440831     71965 2014-09-05 22:52:00   \n",
       "664794  440033     75543 2014-09-05 14:02:00   \n",
       "665474  439188     41512 2014-09-05 03:15:00   \n",
       "665499  439159     34109 2014-09-04 22:12:00   \n",
       "668483  435081     49038 2014-09-02 18:10:00   \n",
       "668566  434969     75582 2014-09-02 17:41:00   \n",
       "669788  433173     71035 2014-09-01 13:35:00   \n",
       "669789  433172     65832 2014-09-01 13:35:00   \n",
       "669792  433169     71291 2014-09-01 13:31:00   \n",
       "\n",
       "                                   start_station_name  start_station_id  \\\n",
       "743                           Mountain View City Hall                27   \n",
       "744                                     Market at 4th                76   \n",
       "745                                     Market at 4th                76   \n",
       "746                             Embarcadero at Folsom                51   \n",
       "747                    Mountain View Caltrain Station                28   \n",
       "1454                                Steuart at Market                74   \n",
       "1455                                        Japantown                 9   \n",
       "1456             Harry Bridges Plaza (Ferry Building)                50   \n",
       "1457                              Golden Gate at Polk                59   \n",
       "1458    Temporary Transbay Terminal (Howard at Beale)                55   \n",
       "1459                                Market at Sansome                77   \n",
       "1460             Harry Bridges Plaza (Ferry Building)                50   \n",
       "1461                               Powell Street BART                39   \n",
       "2094                                    5th at Howard                57   \n",
       "2095                               Powell Street BART                39   \n",
       "2096                       SJSU - San Salvador at 9th                16   \n",
       "2097                  Grant Avenue at Columbus Avenue                73   \n",
       "2098                                Steuart at Market                74   \n",
       "2099                                Steuart at Market                74   \n",
       "2100                    Powell at Post (Union Square)                71   \n",
       "2101                                  Clay at Battery                41   \n",
       "2120                                      MLK Library                11   \n",
       "2147                                Steuart at Market                74   \n",
       "2149                                Steuart at Market                74   \n",
       "2173    Temporary Transbay Terminal (Howard at Beale)                55   \n",
       "2184                               Powell Street BART                39   \n",
       "2185                               Powell Street BART                39   \n",
       "2599                                   Market at 10th                67   \n",
       "2602                                   Market at 10th                67   \n",
       "2724                Civic Center BART (7th at Market)                72   \n",
       "...                                               ...               ...   \n",
       "658204                        San Mateo County Center                23   \n",
       "658205                        San Mateo County Center                23   \n",
       "658455                          San Jose Civic Center                 3   \n",
       "660744       San Francisco Caltrain (Townsend at 4th)                70   \n",
       "660772                                    Ryland Park                84   \n",
       "660968                      Broadway St at Battery St                82   \n",
       "661191                         Embarcadero at Vallejo                48   \n",
       "661566                             Powell Street BART                39   \n",
       "661568                             Powell Street BART                39   \n",
       "661685                                  Market at 4th                76   \n",
       "661695                                  Market at 4th                76   \n",
       "661700                                  Market at 4th                76   \n",
       "661991                                 Market at 10th                67   \n",
       "662378                          San Jose Civic Center                 3   \n",
       "662823                             Powell Street BART                39   \n",
       "662825                             Powell Street BART                39   \n",
       "662919                     SJSU - San Salvador at 9th                16   \n",
       "663614                              2nd at South Park                64   \n",
       "663679                         Embarcadero at Vallejo                48   \n",
       "664041                                 Post at Kearny                47   \n",
       "664224                 Mountain View Caltrain Station                28   \n",
       "664225                 Mountain View Caltrain Station                28   \n",
       "664794                              2nd at South Park                64   \n",
       "665474                                  Market at 4th                76   \n",
       "665499                          Embarcadero at Bryant                54   \n",
       "668483                      Broadway St at Battery St                82   \n",
       "668566                                 Market at 10th                67   \n",
       "669788              Civic Center BART (7th at Market)                72   \n",
       "669789                         Embarcadero at Sansome                60   \n",
       "669792              Civic Center BART (7th at Market)                72   \n",
       "\n",
       "                  end_date                               end_station_name  \\\n",
       "743    2013-08-30 06:12:00                                  Park at Olive   \n",
       "744    2013-08-30 13:19:00           Harry Bridges Plaza (Ferry Building)   \n",
       "745    2013-08-30 13:20:00           Harry Bridges Plaza (Ferry Building)   \n",
       "746    2013-08-30 21:37:00                               Davis at Jackson   \n",
       "747    2013-08-30 16:38:00                        Mountain View City Hall   \n",
       "1454   2013-08-30 15:49:00                              Steuart at Market   \n",
       "1455   2013-08-30 11:50:00                                      Japantown   \n",
       "1456   2013-08-30 18:47:00           Harry Bridges Plaza (Ferry Building)   \n",
       "1457   2013-08-31 15:43:00                  Powell at Post (Union Square)   \n",
       "1458   2013-08-31 12:42:00                              2nd at South Park   \n",
       "1459   2013-08-31 20:38:00                          Embarcadero at Bryant   \n",
       "1460   2013-08-31 11:20:00                                 Market at 10th   \n",
       "1461   2013-09-02 13:10:00                             Powell Street BART   \n",
       "2094   2013-09-01 13:40:00                         Embarcadero at Vallejo   \n",
       "2095   2013-09-01 14:49:00                             Powell Street BART   \n",
       "2096   2013-09-01 14:40:00                     SJSU - San Salvador at 9th   \n",
       "2097   2013-09-01 09:55:00                       South Van Ness at Market   \n",
       "2098   2013-09-01 09:08:00                              Steuart at Market   \n",
       "2099   2013-09-01 09:08:00                              Steuart at Market   \n",
       "2100   2013-09-01 18:29:00                                  Market at 4th   \n",
       "2101   2013-09-02 13:22:00                                Clay at Battery   \n",
       "2120   2013-09-01 15:08:00                             San Jose City Hall   \n",
       "2147   2013-09-01 18:25:00           Harry Bridges Plaza (Ferry Building)   \n",
       "2149   2013-09-01 18:26:00           Harry Bridges Plaza (Ferry Building)   \n",
       "2173   2013-09-01 19:23:00                         Embarcadero at Vallejo   \n",
       "2184   2013-09-01 18:40:00                                  Market at 4th   \n",
       "2185   2013-09-01 18:41:00                                  Market at 4th   \n",
       "2599   2013-09-02 15:58:00                            Golden Gate at Polk   \n",
       "2602   2013-09-02 15:58:00                            Golden Gate at Polk   \n",
       "2724   2013-09-04 16:42:00                            Golden Gate at Polk   \n",
       "...                    ...                                            ...   \n",
       "658204 2014-09-12 18:00:00                        San Mateo County Center   \n",
       "658205 2014-09-12 18:00:00                        San Mateo County Center   \n",
       "658455 2014-09-14 16:27:00                          San Jose Civic Center   \n",
       "660744 2014-09-10 18:34:00       San Francisco Caltrain (Townsend at 4th)   \n",
       "660772 2014-09-10 16:04:00              San Jose Diridon Caltrain Station   \n",
       "660968 2014-09-10 07:03:00       San Francisco Caltrain (Townsend at 4th)   \n",
       "661191 2014-09-10 08:45:00                                2nd at Townsend   \n",
       "661566 2014-09-10 08:53:00                             Powell Street BART   \n",
       "661568 2014-09-10 09:42:00                             Powell Street BART   \n",
       "661685 2014-09-09 18:09:00                             Powell Street BART   \n",
       "661695 2014-09-09 18:08:00                             Powell Street BART   \n",
       "661700 2014-09-09 18:08:00                             Powell Street BART   \n",
       "661991 2014-09-09 18:08:00                             Powell Street BART   \n",
       "662378 2014-09-11 16:50:00                          San Jose Civic Center   \n",
       "662823 2014-09-09 11:59:00                             Powell Street BART   \n",
       "662825 2014-09-09 11:59:00                             Powell Street BART   \n",
       "662919 2014-09-09 08:46:00                            San Salvador at 1st   \n",
       "663614 2014-09-08 07:50:00                                  5th at Howard   \n",
       "663679 2014-09-08 07:16:00            Mechanics Plaza (Market at Battery)   \n",
       "664041 2014-09-07 10:39:00                                  2nd at Folsom   \n",
       "664224 2014-09-06 18:52:00                 Mountain View Caltrain Station   \n",
       "664225 2014-09-06 18:51:00                 Mountain View Caltrain Station   \n",
       "664794 2014-09-06 11:01:00  Temporary Transbay Terminal (Howard at Beale)   \n",
       "665474 2014-09-05 14:47:00                                  5th at Howard   \n",
       "665499 2014-09-05 07:41:00                              Steuart at Market   \n",
       "668483 2014-09-03 07:47:00            Mechanics Plaza (Market at Battery)   \n",
       "668566 2014-09-03 14:41:00                         Embarcadero at Sansome   \n",
       "669788 2014-09-02 09:19:00              Civic Center BART (7th at Market)   \n",
       "669789 2014-09-02 07:52:00                         Embarcadero at Sansome   \n",
       "669792 2014-09-02 09:19:00              Civic Center BART (7th at Market)   \n",
       "\n",
       "        end_station_id  bike_id subscription_type zip_code       date  \\\n",
       "743                 38      150        Subscriber    94301 2013-08-29   \n",
       "744                 50      460          Customer    94118 2013-08-29   \n",
       "745                 50      390          Customer    94118 2013-08-29   \n",
       "746                 42      269          Customer    94111 2013-08-29   \n",
       "747                 27      141        Subscriber    94039 2013-08-29   \n",
       "1454                74      277          Customer    94510 2013-08-30   \n",
       "1455                 9       52          Customer    95148 2013-08-30   \n",
       "1456                50      350          Customer    94707 2013-08-30   \n",
       "1457                71      381          Customer    94028 2013-08-30   \n",
       "1458                64      348          Customer    94107 2013-08-30   \n",
       "1459                54      488          Customer    94118 2013-08-30   \n",
       "1460                67      536          Customer      NaN 2013-08-30   \n",
       "1461                39      410          Customer    92808 2013-08-30   \n",
       "2094                48      576          Customer    94107 2013-08-31   \n",
       "2095                39      606          Customer    91801 2013-08-31   \n",
       "2096                16       12          Customer    95112 2013-08-31   \n",
       "2097                66      528          Customer    94133 2013-08-31   \n",
       "2098                74      484          Customer    14169 2013-08-31   \n",
       "2099                74      421          Customer    14169 2013-08-31   \n",
       "2100                76      540          Customer      NaN 2013-08-31   \n",
       "2101                41      517          Customer    94102 2013-08-31   \n",
       "2120                10       30          Customer    95035 2013-09-01   \n",
       "2147                50      409          Customer      NaN 2013-09-01   \n",
       "2149                50      372          Customer      NaN 2013-09-01   \n",
       "2173                48      572          Customer    94118 2013-09-01   \n",
       "2184                76      592          Customer      NaN 2013-09-01   \n",
       "2185                76      553          Customer      NaN 2013-09-01   \n",
       "2599                59      427          Customer    60056 2013-09-01   \n",
       "2602                59      498          Customer    60056 2013-09-01   \n",
       "2724                59      501          Customer    94102 2013-09-01   \n",
       "...                ...      ...               ...      ...        ...   \n",
       "658204              23      712          Customer    94070 2014-09-11   \n",
       "658205              23      244          Customer    94070 2014-09-11   \n",
       "658455               3       23          Customer    95126 2014-09-11   \n",
       "660744              70      392          Customer    90034 2014-09-10   \n",
       "660772               2      162          Customer    95112 2014-09-10   \n",
       "660968              70      353        Subscriber    94103 2014-09-09   \n",
       "661191              61      427        Subscriber    94611 2014-09-09   \n",
       "661566              39      193          Customer     3601 2014-09-09   \n",
       "661568              39      623          Customer     3601 2014-09-09   \n",
       "661685              39      334          Customer      nil 2014-09-09   \n",
       "661695              39      512          Customer      nil 2014-09-09   \n",
       "661700              39      517          Customer      nil 2014-09-09   \n",
       "661991              39      388        Subscriber    94107 2014-09-09   \n",
       "662378               3      194          Customer    95126 2014-09-08   \n",
       "662823              39      420          Customer    34142 2014-09-08   \n",
       "662825              39      193          Customer      nil 2014-09-08   \n",
       "662919               8      144        Subscriber    95112 2014-09-08   \n",
       "663614              57      525        Subscriber    94107 2014-09-07   \n",
       "663679              75      493          Customer      NaN 2014-09-07   \n",
       "664041              62      614          Customer     2242 2014-09-06   \n",
       "664224              28      295          Customer    94040 2014-09-05   \n",
       "664225              28      304          Customer    94040 2014-09-05   \n",
       "664794              55      330        Subscriber    94107 2014-09-05   \n",
       "665474              57      419          Customer    94102 2014-09-05   \n",
       "665499              74       97          Customer    94104 2014-09-04   \n",
       "668483              75      381          Customer    94103 2014-09-02   \n",
       "668566              60      395          Customer    92653 2014-09-02   \n",
       "669788              72      518          Customer  2400105 2014-09-01   \n",
       "669789              60      502          Customer    91030 2014-09-01   \n",
       "669792              72       16          Customer  1004004 2014-09-01   \n",
       "\n",
       "       start_day_of_week end_day_of_week horario_inicial  \\\n",
       "743             Thursday          Friday        15:34:00   \n",
       "744             Thursday          Friday        13:43:00   \n",
       "745             Thursday          Friday        13:37:00   \n",
       "746             Thursday          Friday        21:41:00   \n",
       "747             Thursday          Friday        13:30:00   \n",
       "1454              Friday          Friday        06:37:00   \n",
       "1455              Friday          Friday        02:16:00   \n",
       "1456              Friday          Friday        08:42:00   \n",
       "1457              Friday        Saturday        20:04:00   \n",
       "1458              Friday        Saturday        16:59:00   \n",
       "1459              Friday        Saturday        22:59:00   \n",
       "1460              Friday        Saturday        12:13:00   \n",
       "1461              Friday          Monday        18:07:00   \n",
       "2094            Saturday          Sunday        21:56:00   \n",
       "2095            Saturday          Sunday        22:16:00   \n",
       "2096            Saturday          Sunday        21:08:00   \n",
       "2097            Saturday          Sunday        16:09:00   \n",
       "2098            Saturday          Sunday        11:09:00   \n",
       "2099            Saturday          Sunday        11:08:00   \n",
       "2100            Saturday          Sunday        16:26:00   \n",
       "2101            Saturday          Monday        14:43:00   \n",
       "2120              Sunday          Sunday        04:06:00   \n",
       "2147              Sunday          Sunday        09:15:00   \n",
       "2149              Sunday          Sunday        09:16:00   \n",
       "2173              Sunday          Sunday        10:15:00   \n",
       "2184              Sunday          Sunday        10:31:00   \n",
       "2185              Sunday          Sunday        10:32:00   \n",
       "2599              Sunday          Monday        16:14:00   \n",
       "2602              Sunday          Monday        16:16:00   \n",
       "2724              Sunday       Wednesday        18:43:00   \n",
       "...                  ...             ...             ...   \n",
       "658204          Thursday          Friday        18:38:00   \n",
       "658205          Thursday          Friday        18:37:00   \n",
       "658455          Thursday          Sunday        17:00:00   \n",
       "660744         Wednesday       Wednesday        06:45:00   \n",
       "660772         Wednesday       Wednesday        04:54:00   \n",
       "660968           Tuesday       Wednesday        18:41:00   \n",
       "661191           Tuesday       Wednesday        17:29:00   \n",
       "661566           Tuesday       Wednesday        12:04:00   \n",
       "661568           Tuesday       Wednesday        12:03:00   \n",
       "661685           Tuesday         Tuesday        09:42:00   \n",
       "661695           Tuesday         Tuesday        09:38:00   \n",
       "661700           Tuesday         Tuesday        09:37:00   \n",
       "661991           Tuesday         Tuesday        08:00:00   \n",
       "662378            Monday        Thursday        18:05:00   \n",
       "662823            Monday         Tuesday        13:14:00   \n",
       "662825            Monday         Tuesday        13:10:00   \n",
       "662919            Monday         Tuesday        10:49:00   \n",
       "663614            Sunday          Monday        13:11:00   \n",
       "663679            Sunday          Monday        11:29:00   \n",
       "664041          Saturday          Sunday        13:40:00   \n",
       "664224            Friday        Saturday        22:52:00   \n",
       "664225            Friday        Saturday        22:52:00   \n",
       "664794            Friday        Saturday        14:02:00   \n",
       "665474            Friday          Friday        03:15:00   \n",
       "665499          Thursday          Friday        22:12:00   \n",
       "668483           Tuesday       Wednesday        18:10:00   \n",
       "668566           Tuesday       Wednesday        17:41:00   \n",
       "669788            Monday         Tuesday        13:35:00   \n",
       "669789            Monday         Tuesday        13:35:00   \n",
       "669792            Monday         Tuesday        13:31:00   \n",
       "\n",
       "        horario_inicial_float horario_final  horario_final_float  \\\n",
       "743                     15.34      06:12:00                 6.12   \n",
       "744                     13.43      13:19:00                13.19   \n",
       "745                     13.37      13:20:00                13.20   \n",
       "746                     21.41      21:37:00                21.37   \n",
       "747                     13.30      16:38:00                16.38   \n",
       "1454                     6.37      15:49:00                15.49   \n",
       "1455                     2.16      11:50:00                11.50   \n",
       "1456                     8.42      18:47:00                18.47   \n",
       "1457                    20.04      15:43:00                15.43   \n",
       "1458                    16.59      12:42:00                12.42   \n",
       "1459                    22.59      20:38:00                20.38   \n",
       "1460                    12.13      11:20:00                11.20   \n",
       "1461                    18.07      13:10:00                13.10   \n",
       "2094                    21.56      13:40:00                13.40   \n",
       "2095                    22.16      14:49:00                14.49   \n",
       "2096                    21.08      14:40:00                14.40   \n",
       "2097                    16.09      09:55:00                 9.55   \n",
       "2098                    11.09      09:08:00                 9.08   \n",
       "2099                    11.08      09:08:00                 9.08   \n",
       "2100                    16.26      18:29:00                18.29   \n",
       "2101                    14.43      13:22:00                13.22   \n",
       "2120                     4.06      15:08:00                15.08   \n",
       "2147                     9.15      18:25:00                18.25   \n",
       "2149                     9.16      18:26:00                18.26   \n",
       "2173                    10.15      19:23:00                19.23   \n",
       "2184                    10.31      18:40:00                18.40   \n",
       "2185                    10.32      18:41:00                18.41   \n",
       "2599                    16.14      15:58:00                15.58   \n",
       "2602                    16.16      15:58:00                15.58   \n",
       "2724                    18.43      16:42:00                16.42   \n",
       "...                       ...           ...                  ...   \n",
       "658204                  18.38      18:00:00                18.00   \n",
       "658205                  18.37      18:00:00                18.00   \n",
       "658455                  17.00      16:27:00                16.27   \n",
       "660744                   6.45      18:34:00                18.34   \n",
       "660772                   4.54      16:04:00                16.04   \n",
       "660968                  18.41      07:03:00                 7.03   \n",
       "661191                  17.29      08:45:00                 8.45   \n",
       "661566                  12.04      08:53:00                 8.53   \n",
       "661568                  12.03      09:42:00                 9.42   \n",
       "661685                   9.42      18:09:00                18.09   \n",
       "661695                   9.38      18:08:00                18.08   \n",
       "661700                   9.37      18:08:00                18.08   \n",
       "661991                   8.00      18:08:00                18.08   \n",
       "662378                  18.05      16:50:00                16.50   \n",
       "662823                  13.14      11:59:00                11.59   \n",
       "662825                  13.10      11:59:00                11.59   \n",
       "662919                  10.49      08:46:00                 8.46   \n",
       "663614                  13.11      07:50:00                 7.50   \n",
       "663679                  11.29      07:16:00                 7.16   \n",
       "664041                  13.40      10:39:00                10.39   \n",
       "664224                  22.52      18:52:00                18.52   \n",
       "664225                  22.52      18:51:00                18.51   \n",
       "664794                  14.02      11:01:00                11.01   \n",
       "665474                   3.15      14:47:00                14.47   \n",
       "665499                  22.12      07:41:00                 7.41   \n",
       "668483                  18.10      07:47:00                 7.47   \n",
       "668566                  17.41      14:41:00                14.41   \n",
       "669788                  13.35      09:19:00                 9.19   \n",
       "669789                  13.35      07:52:00                 7.52   \n",
       "669792                  13.31      09:19:00                 9.19   \n",
       "\n",
       "        duracion_viaje  \n",
       "743    0 days 14:38:00  \n",
       "744    0 days 23:36:00  \n",
       "745    0 days 23:43:00  \n",
       "746    0 days 23:56:00  \n",
       "747    1 days 03:08:00  \n",
       "1454   0 days 09:12:00  \n",
       "1455   0 days 09:34:00  \n",
       "1456   0 days 10:05:00  \n",
       "1457   0 days 19:39:00  \n",
       "1458   0 days 19:43:00  \n",
       "1459   0 days 21:39:00  \n",
       "1460   0 days 23:07:00  \n",
       "1461   2 days 19:03:00  \n",
       "2094   0 days 15:44:00  \n",
       "2095   0 days 16:33:00  \n",
       "2096   0 days 17:32:00  \n",
       "2097   0 days 17:46:00  \n",
       "2098   0 days 21:59:00  \n",
       "2099   0 days 22:00:00  \n",
       "2100   1 days 02:03:00  \n",
       "2101   1 days 22:39:00  \n",
       "2120   0 days 11:02:00  \n",
       "2147   0 days 09:10:00  \n",
       "2149   0 days 09:10:00  \n",
       "2173   0 days 09:08:00  \n",
       "2184   0 days 08:09:00  \n",
       "2185   0 days 08:09:00  \n",
       "2599   0 days 23:44:00  \n",
       "2602   0 days 23:42:00  \n",
       "2724   2 days 21:59:00  \n",
       "...                ...  \n",
       "658204 0 days 23:22:00  \n",
       "658205 0 days 23:23:00  \n",
       "658455 2 days 23:27:00  \n",
       "660744 0 days 11:49:00  \n",
       "660772 0 days 11:10:00  \n",
       "660968 0 days 12:22:00  \n",
       "661191 0 days 15:16:00  \n",
       "661566 0 days 20:49:00  \n",
       "661568 0 days 21:39:00  \n",
       "661685 0 days 08:27:00  \n",
       "661695 0 days 08:30:00  \n",
       "661700 0 days 08:31:00  \n",
       "661991 0 days 10:08:00  \n",
       "662378 2 days 22:45:00  \n",
       "662823 0 days 22:45:00  \n",
       "662825 0 days 22:49:00  \n",
       "662919 0 days 21:57:00  \n",
       "663614 0 days 18:39:00  \n",
       "663679 0 days 19:47:00  \n",
       "664041 0 days 20:59:00  \n",
       "664224 0 days 20:00:00  \n",
       "664225 0 days 19:59:00  \n",
       "664794 0 days 20:59:00  \n",
       "665474 0 days 11:32:00  \n",
       "665499 0 days 09:29:00  \n",
       "668483 0 days 13:37:00  \n",
       "668566 0 days 21:00:00  \n",
       "669788 0 days 19:44:00  \n",
       "669789 0 days 18:17:00  \n",
       "669792 0 days 19:48:00  \n",
       "\n",
       "[1884 rows x 19 columns]"
      ]
     },
     "execution_count": 400,
     "metadata": {},
     "output_type": "execute_result"
    }
   ],
   "source": [
    "trips[(trips['duracion_viaje'] > \"08:00:00\")]"
   ]
  },
  {
   "cell_type": "markdown",
   "metadata": {},
   "source": [
    "## ¿Viajes de más de 8 horas de duración?\n",
    "Se pueden esperar viajes muy largos de a lo sumo 8 horas de alguien que decidió recorrer varios puntos de la ciudad y aparte en el medio ir parando, pero ya cuando se excede esto hasta casos que incluso superan un día de uso creemos que hubo datos mal cargados o algún otro problema como la incorrecta devolución de la bicicleta. Por eso se van a filtrar esos viajes."
   ]
  },
  {
   "cell_type": "code",
   "execution_count": 401,
   "metadata": {
    "collapsed": false
   },
   "outputs": [],
   "source": [
    "viajes_larguisimos = trips[trips['duracion_viaje'] > \"08:00:00\"]\n",
    "trips = trips[-(trips['duracion_viaje'] > \"08:00:00\")]\n",
    "# hay que hacer trips - viajes_larguisimos para que quede lindo pero requiere un comando (isin o algo asi). \n",
    "# no me salio bien asi que a lo ultimo lo modifico"
   ]
  },
  {
   "cell_type": "code",
   "execution_count": 402,
   "metadata": {
    "collapsed": false
   },
   "outputs": [
    {
     "data": {
      "text/plain": [
       "1884"
      ]
     },
     "execution_count": 402,
     "metadata": {},
     "output_type": "execute_result"
    }
   ],
   "source": [
    "viajes_larguisimos.id.count()"
   ]
  },
  {
   "cell_type": "markdown",
   "metadata": {},
   "source": [
    "Se filtraron unos 1884 viajes."
   ]
  },
  {
   "cell_type": "code",
   "execution_count": 403,
   "metadata": {
    "collapsed": false
   },
   "outputs": [],
   "source": [
    "# no es necesario pero lo dejo por las dudas, puede servir\n",
    "# trips[-((trips['duracion_viaje'] < '1970-01-01 00:10:00') & (trips['start_station_id'] == trips['end_station_id']))]"
   ]
  },
  {
   "cell_type": "code",
   "execution_count": 404,
   "metadata": {
    "collapsed": false
   },
   "outputs": [
    {
     "data": {
      "text/html": [
       "<div>\n",
       "<table border=\"1\" class=\"dataframe\">\n",
       "  <thead>\n",
       "    <tr style=\"text-align: right;\">\n",
       "      <th></th>\n",
       "      <th>id</th>\n",
       "      <th>duration</th>\n",
       "      <th>start_date</th>\n",
       "      <th>start_station_name</th>\n",
       "      <th>start_station_id</th>\n",
       "      <th>end_date</th>\n",
       "      <th>end_station_name</th>\n",
       "      <th>end_station_id</th>\n",
       "      <th>bike_id</th>\n",
       "      <th>subscription_type</th>\n",
       "      <th>zip_code</th>\n",
       "      <th>date</th>\n",
       "      <th>start_day_of_week</th>\n",
       "      <th>end_day_of_week</th>\n",
       "      <th>horario_inicial</th>\n",
       "      <th>horario_inicial_float</th>\n",
       "      <th>horario_final</th>\n",
       "      <th>horario_final_float</th>\n",
       "      <th>duracion_viaje</th>\n",
       "    </tr>\n",
       "  </thead>\n",
       "  <tbody>\n",
       "    <tr>\n",
       "      <th>4</th>\n",
       "      <td>4299</td>\n",
       "      <td>83</td>\n",
       "      <td>2013-08-29 12:02:00</td>\n",
       "      <td>South Van Ness at Market</td>\n",
       "      <td>66</td>\n",
       "      <td>2013-08-29 12:04:00</td>\n",
       "      <td>Market at 10th</td>\n",
       "      <td>67</td>\n",
       "      <td>319</td>\n",
       "      <td>Subscriber</td>\n",
       "      <td>94103</td>\n",
       "      <td>2013-08-29</td>\n",
       "      <td>Thursday</td>\n",
       "      <td>Thursday</td>\n",
       "      <td>12:02:00</td>\n",
       "      <td>12.02</td>\n",
       "      <td>12:04:00</td>\n",
       "      <td>12.04</td>\n",
       "      <td>00:02:00</td>\n",
       "    </tr>\n",
       "    <tr>\n",
       "      <th>6</th>\n",
       "      <td>4500</td>\n",
       "      <td>109</td>\n",
       "      <td>2013-08-29 13:25:00</td>\n",
       "      <td>Santa Clara at Almaden</td>\n",
       "      <td>4</td>\n",
       "      <td>2013-08-29 13:27:00</td>\n",
       "      <td>Adobe on Almaden</td>\n",
       "      <td>5</td>\n",
       "      <td>679</td>\n",
       "      <td>Subscriber</td>\n",
       "      <td>95112</td>\n",
       "      <td>2013-08-29</td>\n",
       "      <td>Thursday</td>\n",
       "      <td>Thursday</td>\n",
       "      <td>13:25:00</td>\n",
       "      <td>13.25</td>\n",
       "      <td>13:27:00</td>\n",
       "      <td>13.27</td>\n",
       "      <td>00:02:00</td>\n",
       "    </tr>\n",
       "    <tr>\n",
       "      <th>9</th>\n",
       "      <td>4258</td>\n",
       "      <td>114</td>\n",
       "      <td>2013-08-29 11:33:00</td>\n",
       "      <td>San Jose City Hall</td>\n",
       "      <td>10</td>\n",
       "      <td>2013-08-29 11:35:00</td>\n",
       "      <td>MLK Library</td>\n",
       "      <td>11</td>\n",
       "      <td>107</td>\n",
       "      <td>Subscriber</td>\n",
       "      <td>95060</td>\n",
       "      <td>2013-08-29</td>\n",
       "      <td>Thursday</td>\n",
       "      <td>Thursday</td>\n",
       "      <td>11:33:00</td>\n",
       "      <td>11.33</td>\n",
       "      <td>11:35:00</td>\n",
       "      <td>11.35</td>\n",
       "      <td>00:02:00</td>\n",
       "    </tr>\n",
       "    <tr>\n",
       "      <th>10</th>\n",
       "      <td>4549</td>\n",
       "      <td>125</td>\n",
       "      <td>2013-08-29 13:52:00</td>\n",
       "      <td>Spear at Folsom</td>\n",
       "      <td>49</td>\n",
       "      <td>2013-08-29 13:55:00</td>\n",
       "      <td>Embarcadero at Bryant</td>\n",
       "      <td>54</td>\n",
       "      <td>368</td>\n",
       "      <td>Subscriber</td>\n",
       "      <td>94109</td>\n",
       "      <td>2013-08-29</td>\n",
       "      <td>Thursday</td>\n",
       "      <td>Thursday</td>\n",
       "      <td>13:52:00</td>\n",
       "      <td>13.52</td>\n",
       "      <td>13:55:00</td>\n",
       "      <td>13.55</td>\n",
       "      <td>00:03:00</td>\n",
       "    </tr>\n",
       "    <tr>\n",
       "      <th>11</th>\n",
       "      <td>4498</td>\n",
       "      <td>126</td>\n",
       "      <td>2013-08-29 13:23:00</td>\n",
       "      <td>San Pedro Square</td>\n",
       "      <td>6</td>\n",
       "      <td>2013-08-29 13:25:00</td>\n",
       "      <td>Santa Clara at Almaden</td>\n",
       "      <td>4</td>\n",
       "      <td>26</td>\n",
       "      <td>Subscriber</td>\n",
       "      <td>95112</td>\n",
       "      <td>2013-08-29</td>\n",
       "      <td>Thursday</td>\n",
       "      <td>Thursday</td>\n",
       "      <td>13:23:00</td>\n",
       "      <td>13.23</td>\n",
       "      <td>13:25:00</td>\n",
       "      <td>13.25</td>\n",
       "      <td>00:02:00</td>\n",
       "    </tr>\n",
       "  </tbody>\n",
       "</table>\n",
       "</div>"
      ],
      "text/plain": [
       "      id  duration          start_date        start_station_name  \\\n",
       "4   4299        83 2013-08-29 12:02:00  South Van Ness at Market   \n",
       "6   4500       109 2013-08-29 13:25:00    Santa Clara at Almaden   \n",
       "9   4258       114 2013-08-29 11:33:00        San Jose City Hall   \n",
       "10  4549       125 2013-08-29 13:52:00           Spear at Folsom   \n",
       "11  4498       126 2013-08-29 13:23:00          San Pedro Square   \n",
       "\n",
       "    start_station_id            end_date        end_station_name  \\\n",
       "4                 66 2013-08-29 12:04:00          Market at 10th   \n",
       "6                  4 2013-08-29 13:27:00        Adobe on Almaden   \n",
       "9                 10 2013-08-29 11:35:00             MLK Library   \n",
       "10                49 2013-08-29 13:55:00   Embarcadero at Bryant   \n",
       "11                 6 2013-08-29 13:25:00  Santa Clara at Almaden   \n",
       "\n",
       "    end_station_id  bike_id subscription_type zip_code       date  \\\n",
       "4               67      319        Subscriber    94103 2013-08-29   \n",
       "6                5      679        Subscriber    95112 2013-08-29   \n",
       "9               11      107        Subscriber    95060 2013-08-29   \n",
       "10              54      368        Subscriber    94109 2013-08-29   \n",
       "11               4       26        Subscriber    95112 2013-08-29   \n",
       "\n",
       "   start_day_of_week end_day_of_week horario_inicial  horario_inicial_float  \\\n",
       "4           Thursday        Thursday        12:02:00                  12.02   \n",
       "6           Thursday        Thursday        13:25:00                  13.25   \n",
       "9           Thursday        Thursday        11:33:00                  11.33   \n",
       "10          Thursday        Thursday        13:52:00                  13.52   \n",
       "11          Thursday        Thursday        13:23:00                  13.23   \n",
       "\n",
       "   horario_final  horario_final_float  duracion_viaje  \n",
       "4       12:04:00                12.04        00:02:00  \n",
       "6       13:27:00                13.27        00:02:00  \n",
       "9       11:35:00                11.35        00:02:00  \n",
       "10      13:55:00                13.55        00:03:00  \n",
       "11      13:25:00                13.25        00:02:00  "
      ]
     },
     "execution_count": 404,
     "metadata": {},
     "output_type": "execute_result"
    }
   ],
   "source": [
    "# ahora los datos quedan más limpios\n",
    "trips.head()"
   ]
  },
  {
   "cell_type": "markdown",
   "metadata": {},
   "source": [
    "# 1) Análisis de viajes según día y horario\n",
    "### En estos primeros plots se analizará la relación general entre los viajes y el día/horario de la semana."
   ]
  },
  {
   "cell_type": "markdown",
   "metadata": {},
   "source": [
    "### ¿El servicio se usa más en la semana o los fines de semana?"
   ]
  },
  {
   "cell_type": "code",
   "execution_count": 405,
   "metadata": {
    "collapsed": false,
    "scrolled": false
   },
   "outputs": [
    {
     "data": {
      "image/png": "[encoded data removed]",
      "text/plain": [
       "<matplotlib.figure.Figure at 0x7f2586cfff10>"
      ]
     },
     "metadata": {},
     "output_type": "display_data"
    }
   ],
   "source": [
    "trips['start_day_of_week'].value_counts().plot(kind='bar', rot=0, figsize=(10,8));\n",
    "plt.title('Uso del servicio por dia');"
   ]
  },
  {
   "cell_type": "code",
   "execution_count": 406,
   "metadata": {
    "collapsed": false
   },
   "outputs": [],
   "source": [
    "dias = trips[['start_day_of_week']]\n",
    "dias_semana = dias[-(dias['start_day_of_week'] == \"Saturday\")]\n",
    "dias_semana = dias[-(dias['start_day_of_week'] == \"Sunday\")]\n",
    "dias_finde = dias[(dias['start_day_of_week'] == \"Saturday\") | (dias['start_day_of_week'] == \"Sunday\")]"
   ]
  },
  {
   "cell_type": "code",
   "execution_count": 407,
   "metadata": {
    "collapsed": false
   },
   "outputs": [
    {
     "data": {
      "image/png": "[encoded data removed]",
      "text/plain": [
       "<matplotlib.figure.Figure at 0x7f2586ca6090>"
      ]
     },
     "metadata": {},
     "output_type": "display_data"
    }
   ],
   "source": [
    "sizes = [dias_semana.start_day_of_week.count(), dias_finde.start_day_of_week.count()]\n",
    "nombres = ['Semana', 'Fin de semana']\n",
    "\n",
    "plt.figure(figsize=(6, 6))\n",
    "plt.title('Porcentajes del uso del servicio')\n",
    "plt.pie(sizes, labels=nombres, autopct='%1.1f%%', startangle=20, colors=['red', 'yellow'], explode=(0.1, 0))\n",
    "plt.show()"
   ]
  },
  {
   "cell_type": "markdown",
   "metadata": {
    "collapsed": true
   },
   "source": [
    "Se ve que hay una diferencia drástica en el uso del servicio entre la semana y el fin de semana."
   ]
  },
  {
   "cell_type": "markdown",
   "metadata": {
    "collapsed": true
   },
   "source": [
    "### Promedio del uso del servicio por horario:"
   ]
  },
  {
   "cell_type": "code",
   "execution_count": 408,
   "metadata": {
    "collapsed": false
   },
   "outputs": [
    {
     "data": {
      "text/html": [
       "<div>\n",
       "<table border=\"1\" class=\"dataframe\">\n",
       "  <thead>\n",
       "    <tr style=\"text-align: right;\">\n",
       "      <th></th>\n",
       "      <th>start_day_of_week</th>\n",
       "      <th>horario_inicial_float</th>\n",
       "      <th>start_station_name</th>\n",
       "      <th>end_station_name</th>\n",
       "    </tr>\n",
       "  </thead>\n",
       "  <tbody>\n",
       "    <tr>\n",
       "      <th>4</th>\n",
       "      <td>Thursday</td>\n",
       "      <td>12.0</td>\n",
       "      <td>South Van Ness at Market</td>\n",
       "      <td>Market at 10th</td>\n",
       "    </tr>\n",
       "    <tr>\n",
       "      <th>6</th>\n",
       "      <td>Thursday</td>\n",
       "      <td>13.0</td>\n",
       "      <td>Santa Clara at Almaden</td>\n",
       "      <td>Adobe on Almaden</td>\n",
       "    </tr>\n",
       "    <tr>\n",
       "      <th>9</th>\n",
       "      <td>Thursday</td>\n",
       "      <td>11.0</td>\n",
       "      <td>San Jose City Hall</td>\n",
       "      <td>MLK Library</td>\n",
       "    </tr>\n",
       "    <tr>\n",
       "      <th>10</th>\n",
       "      <td>Thursday</td>\n",
       "      <td>14.0</td>\n",
       "      <td>Spear at Folsom</td>\n",
       "      <td>Embarcadero at Bryant</td>\n",
       "    </tr>\n",
       "    <tr>\n",
       "      <th>11</th>\n",
       "      <td>Thursday</td>\n",
       "      <td>13.0</td>\n",
       "      <td>San Pedro Square</td>\n",
       "      <td>Santa Clara at Almaden</td>\n",
       "    </tr>\n",
       "  </tbody>\n",
       "</table>\n",
       "</div>"
      ],
      "text/plain": [
       "   start_day_of_week  horario_inicial_float        start_station_name  \\\n",
       "4           Thursday                   12.0  South Van Ness at Market   \n",
       "6           Thursday                   13.0    Santa Clara at Almaden   \n",
       "9           Thursday                   11.0        San Jose City Hall   \n",
       "10          Thursday                   14.0           Spear at Folsom   \n",
       "11          Thursday                   13.0          San Pedro Square   \n",
       "\n",
       "          end_station_name  \n",
       "4           Market at 10th  \n",
       "6         Adobe on Almaden  \n",
       "9              MLK Library  \n",
       "10   Embarcadero at Bryant  \n",
       "11  Santa Clara at Almaden  "
      ]
     },
     "execution_count": 408,
     "metadata": {},
     "output_type": "execute_result"
    }
   ],
   "source": [
    "semana_entera = trips[['start_day_of_week','horario_inicial_float', 'start_station_name', 'end_station_name']].round()\n",
    "semana_entera['horario_inicial_float'] = semana_entera['horario_inicial_float'].map(lambda x: x if x != 24 else 0)\n",
    "# 24hs = 0hs\n",
    "semana_entera.head()"
   ]
  },
  {
   "cell_type": "code",
   "execution_count": 409,
   "metadata": {
    "collapsed": false
   },
   "outputs": [],
   "source": [
    "semana = semana_entera[-(semana_entera['start_day_of_week'] == \"Saturday\")]\n",
    "semana = semana_entera[-(semana_entera['start_day_of_week'] == \"Sunday\")]"
   ]
  },
  {
   "cell_type": "code",
   "execution_count": 410,
   "metadata": {
    "collapsed": false
   },
   "outputs": [
    {
     "name": "stderr",
     "output_type": "stream",
     "text": [
      "/home/rodrigo/anaconda2/lib/python2.7/site-packages/ipykernel/__main__.py:1: SettingWithCopyWarning: \n",
      "A value is trying to be set on a copy of a slice from a DataFrame.\n",
      "Try using .loc[row_indexer,col_indexer] = value instead\n",
      "\n",
      "See the caveats in the documentation: http://pandas.pydata.org/pandas-docs/stable/indexing.html#indexing-view-versus-copy\n",
      "  if __name__ == '__main__':\n"
     ]
    }
   ],
   "source": [
    "semana['apariciones'] = semana['start_day_of_week'].map(lambda x: 1) # seteo todas las rows con 1 para despues agrupar\n",
    "horarios_semana = semana[['horario_inicial_float', 'apariciones']]\n",
    "semana = semana.drop('apariciones', 1) # vuelvo a dejar el dt como antes\n",
    "horarios_semana_contador = horarios_semana.groupby('horario_inicial_float').aggregate(sum)"
   ]
  },
  {
   "cell_type": "code",
   "execution_count": 411,
   "metadata": {
    "collapsed": false
   },
   "outputs": [
    {
     "data": {
      "image/png": "[encoded data removed]",
      "text/plain": [
       "<matplotlib.figure.Figure at 0x7f257b27cd50>"
      ]
     },
     "metadata": {},
     "output_type": "display_data"
    }
   ],
   "source": [
    "horarios_semana_contador.plot.bar(rot=0, figsize=(10,10), color='green');\n",
    "plt.ylabel('Cantidad de viajes')\n",
    "plt.xlabel('Horario de inicio del viaje')\n",
    "plt.title('Promedio de uso del servicio por horario durante la semana')\n",
    "plt.legend('')\n",
    "plt.show()"
   ]
  },
  {
   "cell_type": "markdown",
   "metadata": {
    "collapsed": true
   },
   "source": [
    "Se aprecia que durante la semana los horarios pico son de 8 a 9 y de 18 a 19, particularmente cuando la gente va y cuando regresa al trabajo, escuela, etc."
   ]
  },
  {
   "cell_type": "code",
   "execution_count": 412,
   "metadata": {
    "collapsed": false
   },
   "outputs": [],
   "source": [
    "finde = semana_entera[(semana_entera['start_day_of_week'] == \"Saturday\") | (semana_entera['start_day_of_week'] == \"Sunday\")]"
   ]
  },
  {
   "cell_type": "code",
   "execution_count": 413,
   "metadata": {
    "collapsed": false
   },
   "outputs": [
    {
     "name": "stderr",
     "output_type": "stream",
     "text": [
      "/home/rodrigo/anaconda2/lib/python2.7/site-packages/ipykernel/__main__.py:1: SettingWithCopyWarning: \n",
      "A value is trying to be set on a copy of a slice from a DataFrame.\n",
      "Try using .loc[row_indexer,col_indexer] = value instead\n",
      "\n",
      "See the caveats in the documentation: http://pandas.pydata.org/pandas-docs/stable/indexing.html#indexing-view-versus-copy\n",
      "  if __name__ == '__main__':\n"
     ]
    }
   ],
   "source": [
    "finde['apariciones'] = finde['start_day_of_week'].map(lambda x: 1) # seteo todas las rows con 1 para despues agrupar\n",
    "horarios_finde = finde[['horario_inicial_float', 'apariciones']]\n",
    "finde = finde.drop('apariciones', 1) # vuelvo a dejar el dt como antes\n",
    "horarios_finde_contador = horarios_finde.groupby('horario_inicial_float').aggregate(sum)"
   ]
  },
  {
   "cell_type": "code",
   "execution_count": 414,
   "metadata": {
    "collapsed": false
   },
   "outputs": [
    {
     "data": {
      "image/png": "[encoded data removed]",
      "text/plain": [
       "<matplotlib.figure.Figure at 0x7f2586c8e410>"
      ]
     },
     "metadata": {},
     "output_type": "display_data"
    }
   ],
   "source": [
    "horarios_finde_contador.plot.bar(rot=0, figsize=(10,10), color='green');\n",
    "plt.ylabel('Cantidad de viajes')\n",
    "plt.xlabel('Horario de inicio del viaje')\n",
    "plt.title('Promedio de uso del servicio por horario durante el fin de semana')\n",
    "plt.legend('')\n",
    "plt.show()"
   ]
  },
  {
   "cell_type": "markdown",
   "metadata": {
    "collapsed": true
   },
   "source": [
    "Los horarios pico los fines de semana son de 11 a 16. También lo que se observa es la disminución del uso del servicio al llegar la noche a pesar de que sea fin de semana. En el siguiente plot se va a analizar esa comparación."
   ]
  },
  {
   "cell_type": "code",
   "execution_count": 415,
   "metadata": {
    "collapsed": false
   },
   "outputs": [],
   "source": [
    "viajes_en_hora_pico_finde = finde[((finde['horario_inicial_float'] >= 11) & (finde['horario_inicial_float'] <= 16))]\n",
    "viajes_finde_noche = finde[((finde['horario_inicial_float'] >= 20) & (finde['horario_inicial_float'] < 24))]"
   ]
  },
  {
   "cell_type": "code",
   "execution_count": 416,
   "metadata": {
    "collapsed": false
   },
   "outputs": [
    {
     "data": {
      "image/png": "[encoded data removed]",
      "text/plain": [
       "<matplotlib.figure.Figure at 0x7f2585a77bd0>"
      ]
     },
     "metadata": {},
     "output_type": "display_data"
    }
   ],
   "source": [
    "sizes = [viajes_en_hora_pico_finde.start_day_of_week.count(), viajes_finde_noche.start_day_of_week.count()]\n",
    "nombres = ['Hora pico', 'Durante la noche']\n",
    "\n",
    "plt.figure(figsize=(6, 6))\n",
    "plt.title('Uso del servicio los fines de semana')\n",
    "plt.pie(sizes, labels=nombres, autopct='%1.1f%%', startangle=20, colors=['orange', 'violet'], explode=(0.1, 0))\n",
    "plt.show()"
   ]
  },
  {
   "cell_type": "markdown",
   "metadata": {
    "collapsed": true
   },
   "source": [
    "## A) Análisis de los horarios importantes\n",
    "### Se analizarán los destinos y trayectos más populares en los horarios críticos de la semana y fin de semana."
   ]
  },
  {
   "cell_type": "code",
   "execution_count": 417,
   "metadata": {
    "collapsed": false
   },
   "outputs": [],
   "source": [
    "viajes_en_hora_pico_semana = semana[((semana['horario_inicial_float'] >= 8) & (semana['horario_inicial_float'] <= 9)) \n",
    "                                   | ((semana['horario_inicial_float'] >= 18) & (semana['horario_inicial_float'] <= 19))]"
   ]
  },
  {
   "cell_type": "code",
   "execution_count": 418,
   "metadata": {
    "collapsed": false
   },
   "outputs": [],
   "source": [
    "destinos_mas_populares_hora_pico_semana = viajes_en_hora_pico_semana['end_station_name'].value_counts().sort_values(ascending=False)\n",
    "destinos_mas_populares_hora_pico_semana = destinos_mas_populares_hora_pico_semana.head(10)"
   ]
  },
  {
   "cell_type": "code",
   "execution_count": 419,
   "metadata": {
    "collapsed": false
   },
   "outputs": [
    {
     "data": {
      "image/png": "[encoded data removed]",
      "text/plain": [
       "<matplotlib.figure.Figure at 0x7f2550fbd210>"
      ]
     },
     "metadata": {},
     "output_type": "display_data"
    }
   ],
   "source": [
    "destinos_mas_populares_hora_pico_semana.plot(kind='bar', rot=45, figsize=(20,10));\n",
    "plt.title('Destinos mas populares en hora pico semanal');"
   ]
  },
  {
   "cell_type": "markdown",
   "metadata": {},
   "source": [
    "Estos son los 10 destinos más populares durante las horas pico en la semana. En primer lugar se destaca el Caltrain, donde una gran cantidad de gente se dirige luego de trabajar para regresar a sus casas. Las demás estaciones presentan áreas de mucho movimiento de gente: empresas, comercios, etc, y también se encuentra el puerto, por lo que lo más probable es que la gente se dirija allí para concurrir a trabajar."
   ]
  },
  {
   "cell_type": "code",
   "execution_count": 420,
   "metadata": {
    "collapsed": false
   },
   "outputs": [],
   "source": [
    "# función que dado un dataframe con un campo 'start_station_name' y otro 'end_station_name',\n",
    "# devuelve un diccionario con los start_station como clave y como valor un diccionario con clave el end_station\n",
    "# y valor la cantidad de viajes de ese trayecto. También devuelve una lista con el trayecto con mayor cantidad\n",
    "# de viajes junto con el start y end station del mismo. Orden = O(n) siendo n la cantidad de rows del dataframe.\n",
    "def contador_viajes(dataframe):\n",
    "    cont_viajes = {}\n",
    "    viaje_mas_popular = []\n",
    "    viaje_mas_popular.append(0)\n",
    "    viaje_mas_popular.append(\"\")\n",
    "    viaje_mas_popular.append(\"\")\n",
    "    for index,row in dataframe.iterrows():\n",
    "        \n",
    "        if row['start_station_name'] not in cont_viajes:\n",
    "            cont_viajes[row['start_station_name']] = {}\n",
    "           \n",
    "        if row['end_station_name'] not in cont_viajes[row['start_station_name']]:\n",
    "            cont_viajes[row['start_station_name']][row['end_station_name']] = 1\n",
    "        else:\n",
    "            cont_viajes[row['start_station_name']][row['end_station_name']] += 1\n",
    "        \n",
    "        if cont_viajes[row['start_station_name']][row['end_station_name']] > viaje_mas_popular[0]:\n",
    "            viaje_mas_popular[0] = cont_viajes[row['start_station_name']][row['end_station_name']]\n",
    "            viaje_mas_popular[1] = row['start_station_name']\n",
    "            viaje_mas_popular[2] = row['end_station_name']\n",
    "    \n",
    "    return cont_viajes,viaje_mas_popular"
   ]
  },
  {
   "cell_type": "code",
   "execution_count": 421,
   "metadata": {
    "collapsed": false
   },
   "outputs": [
    {
     "data": {
      "text/plain": [
       "[3012, 'San Francisco Caltrain 2 (330 Townsend)', 'Townsend at 7th']"
      ]
     },
     "execution_count": 421,
     "metadata": {},
     "output_type": "execute_result"
    }
   ],
   "source": [
    "contador_de_viajes_hora_pico_semana,viaje_mas_popular_hora_pico_semana = contador_viajes(viajes_en_hora_pico_semana)\n",
    "viaje_mas_popular_hora_pico_semana"
   ]
  },
  {
   "cell_type": "markdown",
   "metadata": {},
   "source": [
    "Con esto se ve que el viaje más realizado en hora pico durante la semana es el trayecto San Francisco Caltrain 2 (330 Townsend) - Townsend at 7th."
   ]
  },
  {
   "cell_type": "code",
   "execution_count": 422,
   "metadata": {
    "collapsed": false
   },
   "outputs": [],
   "source": [
    "destinos_mas_populares_hora_pico_finde = viajes_en_hora_pico_finde['end_station_name'].value_counts().sort_values(ascending=False)\n",
    "destinos_mas_populares_hora_pico_finde = destinos_mas_populares_hora_pico_finde.head(10)"
   ]
  },
  {
   "cell_type": "code",
   "execution_count": 423,
   "metadata": {
    "collapsed": false,
    "scrolled": false
   },
   "outputs": [
    {
     "data": {
      "image/png": "[encoded data removed]",
      "text/plain": [
       "<matplotlib.figure.Figure at 0x7f2585fb6f90>"
      ]
     },
     "metadata": {},
     "output_type": "display_data"
    }
   ],
   "source": [
    "destinos_mas_populares_hora_pico_finde.plot(kind='bar', rot=45, figsize=(20,10));\n",
    "plt.title('Destinos mas populares en hora pico fin de semana');"
   ]
  },
  {
   "cell_type": "markdown",
   "metadata": {
    "collapsed": true
   },
   "source": [
    "Aqui se encuentran los 10 destinos más populares para las horas pico del fin de semana. Se puede apreciar que los mismos se caracterizan por ser lugares muy atractivos para pasear y hacer actividades de ocio."
   ]
  },
  {
   "cell_type": "code",
   "execution_count": 424,
   "metadata": {
    "collapsed": false
   },
   "outputs": [
    {
     "data": {
      "text/plain": [
       "[1068, 'Harry Bridges Plaza (Ferry Building)', 'Embarcadero at Sansome']"
      ]
     },
     "execution_count": 424,
     "metadata": {},
     "output_type": "execute_result"
    }
   ],
   "source": [
    "contador_de_viajes_hora_pico_finde,viaje_mas_popular_hora_pico_finde = contador_viajes(viajes_en_hora_pico_finde)\n",
    "viaje_mas_popular_hora_pico_finde"
   ]
  },
  {
   "cell_type": "markdown",
   "metadata": {
    "collapsed": true
   },
   "source": [
    "Con esto se ve que el viaje más realizado en hora pico durante el fin de semana es el trayecto Harry Bridges Plaza (Ferry Building) - Embarcadero at Sansome. Además estos dos son los destinos más concurridos las horas pico de los fines de semana. Un posible uso de esta información podría ser para fines comerciales, ya que esto da la pauta que por esta zona es donde más concentración de gente se encuentra. "
   ]
  },
  {
   "cell_type": "code",
   "execution_count": 425,
   "metadata": {
    "collapsed": false
   },
   "outputs": [],
   "source": [
    "viernes_y_sab = semana_entera[(semana_entera['start_day_of_week'] == \"Saturday\") | (semana_entera['start_day_of_week'] == \"Friday\")]\n",
    "viernes_y_sab_noche = viernes_y_sab[(viernes_y_sab['horario_inicial_float'] >= 20) & (viernes_y_sab['horario_inicial_float'] < 24)]"
   ]
  },
  {
   "cell_type": "code",
   "execution_count": 426,
   "metadata": {
    "collapsed": false
   },
   "outputs": [],
   "source": [
    "destinos_mas_populares_viernes_y_sab_noche = viernes_y_sab_noche['end_station_name'].value_counts().sort_values(ascending=False)\n",
    "destinos_mas_populares_viernes_y_sab_noche = destinos_mas_populares_viernes_y_sab_noche.head(10)"
   ]
  },
  {
   "cell_type": "code",
   "execution_count": 427,
   "metadata": {
    "collapsed": false
   },
   "outputs": [
    {
     "data": {
      "image/png": "[encoded data removed]",
      "text/plain": [
       "<matplotlib.figure.Figure at 0x7f257b286c10>"
      ]
     },
     "metadata": {},
     "output_type": "display_data"
    }
   ],
   "source": [
    "destinos_mas_populares_viernes_y_sab_noche.plot(kind='bar', rot=45, figsize=(20,10));\n",
    "plt.title('Destinos mas populares viernes y sabado por la noche');"
   ]
  },
  {
   "cell_type": "markdown",
   "metadata": {
    "collapsed": true
   },
   "source": [
    "Estos son los destinos más frecuentados los viernes y sábados por la noche. Se analizó aparte del domingo ya que estos son los días que al día siguiente por lo general no se trabaja/concurre a estudiar, por lo que la gente se podría dormir más tarde y planear otro tipo de salida. Se destacan entre los lugares más frecuentados las estaciones Powell Street BART y Market at 4th, las cuales están rodeadas de shoppings, restaurantes y demás."
   ]
  },
  {
   "cell_type": "markdown",
   "metadata": {
    "collapsed": true
   },
   "source": [
    "## B) Análisis relacionado a las duraciones de los viajes\n",
    "### B.1) - ¿Viajes más largos en la semana o el fin de semana?"
   ]
  },
  {
   "cell_type": "code",
   "execution_count": 428,
   "metadata": {
    "collapsed": false
   },
   "outputs": [
    {
     "data": {
      "text/html": [
       "<div>\n",
       "<table border=\"1\" class=\"dataframe\">\n",
       "  <thead>\n",
       "    <tr style=\"text-align: right;\">\n",
       "      <th></th>\n",
       "      <th>start_day_of_week</th>\n",
       "      <th>horario_inicial_float</th>\n",
       "      <th>start_station_name</th>\n",
       "      <th>end_station_name</th>\n",
       "      <th>duracion_viaje</th>\n",
       "      <th>duration</th>\n",
       "    </tr>\n",
       "  </thead>\n",
       "  <tbody>\n",
       "    <tr>\n",
       "      <th>4</th>\n",
       "      <td>Thursday</td>\n",
       "      <td>12.0</td>\n",
       "      <td>South Van Ness at Market</td>\n",
       "      <td>Market at 10th</td>\n",
       "      <td>00:02:00</td>\n",
       "      <td>83</td>\n",
       "    </tr>\n",
       "    <tr>\n",
       "      <th>6</th>\n",
       "      <td>Thursday</td>\n",
       "      <td>13.0</td>\n",
       "      <td>Santa Clara at Almaden</td>\n",
       "      <td>Adobe on Almaden</td>\n",
       "      <td>00:02:00</td>\n",
       "      <td>109</td>\n",
       "    </tr>\n",
       "    <tr>\n",
       "      <th>9</th>\n",
       "      <td>Thursday</td>\n",
       "      <td>11.0</td>\n",
       "      <td>San Jose City Hall</td>\n",
       "      <td>MLK Library</td>\n",
       "      <td>00:02:00</td>\n",
       "      <td>114</td>\n",
       "    </tr>\n",
       "    <tr>\n",
       "      <th>10</th>\n",
       "      <td>Thursday</td>\n",
       "      <td>14.0</td>\n",
       "      <td>Spear at Folsom</td>\n",
       "      <td>Embarcadero at Bryant</td>\n",
       "      <td>00:03:00</td>\n",
       "      <td>125</td>\n",
       "    </tr>\n",
       "    <tr>\n",
       "      <th>11</th>\n",
       "      <td>Thursday</td>\n",
       "      <td>13.0</td>\n",
       "      <td>San Pedro Square</td>\n",
       "      <td>Santa Clara at Almaden</td>\n",
       "      <td>00:02:00</td>\n",
       "      <td>126</td>\n",
       "    </tr>\n",
       "  </tbody>\n",
       "</table>\n",
       "</div>"
      ],
      "text/plain": [
       "   start_day_of_week  horario_inicial_float        start_station_name  \\\n",
       "4           Thursday                   12.0  South Van Ness at Market   \n",
       "6           Thursday                   13.0    Santa Clara at Almaden   \n",
       "9           Thursday                   11.0        San Jose City Hall   \n",
       "10          Thursday                   14.0           Spear at Folsom   \n",
       "11          Thursday                   13.0          San Pedro Square   \n",
       "\n",
       "          end_station_name  duracion_viaje  duration  \n",
       "4           Market at 10th        00:02:00        83  \n",
       "6         Adobe on Almaden        00:02:00       109  \n",
       "9              MLK Library        00:02:00       114  \n",
       "10   Embarcadero at Bryant        00:03:00       125  \n",
       "11  Santa Clara at Almaden        00:02:00       126  "
      ]
     },
     "execution_count": 428,
     "metadata": {},
     "output_type": "execute_result"
    }
   ],
   "source": [
    "semana_entera_con_duracion = trips[['start_day_of_week','horario_inicial_float', 'start_station_name', 'end_station_name','duracion_viaje','duration']].round()\n",
    "semana_entera_con_duracion.head()"
   ]
  },
  {
   "cell_type": "code",
   "execution_count": 429,
   "metadata": {
    "collapsed": true
   },
   "outputs": [],
   "source": [
    "semana_con_duracion = semana_entera_con_duracion[-(semana_entera_con_duracion['start_day_of_week'] == \"Saturday\")]\n",
    "semana_con_duracion = semana_entera_con_duracion[-(semana_entera_con_duracion['start_day_of_week'] == \"Sunday\")]"
   ]
  },
  {
   "cell_type": "code",
   "execution_count": 430,
   "metadata": {
    "collapsed": true
   },
   "outputs": [],
   "source": [
    "finde_con_duracion = semana_entera_con_duracion[(semana_entera_con_duracion['start_day_of_week'] == \"Saturday\") | (semana_entera_con_duracion['start_day_of_week'] == \"Sunday\")]"
   ]
  },
  {
   "cell_type": "code",
   "execution_count": 431,
   "metadata": {
    "collapsed": false
   },
   "outputs": [
    {
     "data": {
      "text/plain": [
       "13.467938160917344"
      ]
     },
     "execution_count": 431,
     "metadata": {},
     "output_type": "execute_result"
    }
   ],
   "source": [
    "semana_con_duracion.duration.mean() / 60 # resultado en minutos"
   ]
  },
  {
   "cell_type": "code",
   "execution_count": 432,
   "metadata": {
    "collapsed": false
   },
   "outputs": [
    {
     "data": {
      "text/plain": [
       "30.593984232967284"
      ]
     },
     "execution_count": 432,
     "metadata": {},
     "output_type": "execute_result"
    }
   ],
   "source": [
    "finde_con_duracion.duration.mean() / 60 # resultado en minutos"
   ]
  },
  {
   "cell_type": "markdown",
   "metadata": {
    "collapsed": true
   },
   "source": [
    "Los viajes en promedio duran más los fines de semana. Esto tiene lógica ya que los fines de semana la gente puede usar más tiempo para pasear con la bicileta sin tener un destino en particular cuando durante la semana la gente busca ir al trabajo o lugar donde ejercer sus obligaciones.\n",
    "Igualmente hay que considerar que esta estadística podría estar dañada por muchos viajes \"largos\" en el fin de semana, por ejemplo de más de dos horas, que harían subir el promedio general, sin haber tantos viajes con un horario parecido al promedio calculado. A continuación se analizará eso:"
   ]
  },
  {
   "cell_type": "code",
   "execution_count": 433,
   "metadata": {
    "collapsed": false
   },
   "outputs": [
    {
     "data": {
      "text/plain": [
       "8250"
      ]
     },
     "execution_count": 433,
     "metadata": {},
     "output_type": "execute_result"
    }
   ],
   "source": [
    "semana_con_duracion[semana_con_duracion['duracion_viaje'] > \"02:00:00\"].start_day_of_week.count()"
   ]
  },
  {
   "cell_type": "code",
   "execution_count": 434,
   "metadata": {
    "collapsed": false
   },
   "outputs": [
    {
     "data": {
      "text/plain": [
       "4886"
      ]
     },
     "execution_count": 434,
     "metadata": {},
     "output_type": "execute_result"
    }
   ],
   "source": [
    "finde_con_duracion[finde_con_duracion['duracion_viaje'] > \"02:00:00\"].start_day_of_week.count()"
   ]
  },
  {
   "cell_type": "markdown",
   "metadata": {
    "collapsed": true
   },
   "source": [
    "Se observa que tanto en la semana como los fines de semana hay viajes de más de 2 horas, y que ya que la semana tiene más días que el fin de semana y la estadística muestra que son casi el doble de viajes, en promedio esos viajes largos se dan por igual todos los días, por lo que el probema de que haya viajes largos no afecta el resultado de la estadística anterior."
   ]
  },
  {
   "cell_type": "markdown",
   "metadata": {},
   "source": [
    "### B.2) - Trayectos interesantes\n",
    "### A continuación se analizarán los trayectos más frecuentes según un criterio de duración y demás fitros."
   ]
  },
  {
   "cell_type": "code",
   "execution_count": 435,
   "metadata": {
    "collapsed": false
   },
   "outputs": [],
   "source": [
    "finde_viajes_largos = finde_con_duracion[finde_con_duracion['duracion_viaje'] > \"00:30:00\"]"
   ]
  },
  {
   "cell_type": "code",
   "execution_count": 436,
   "metadata": {
    "collapsed": false
   },
   "outputs": [
    {
     "data": {
      "text/plain": [
       "[557,\n",
       " 'Harry Bridges Plaza (Ferry Building)',\n",
       " 'Harry Bridges Plaza (Ferry Building)']"
      ]
     },
     "execution_count": 436,
     "metadata": {},
     "output_type": "execute_result"
    }
   ],
   "source": [
    "contador_de_viajes_largos_finde,viaje_largo_mas_popular_finde = contador_viajes(finde_viajes_largos)\n",
    "viaje_largo_mas_popular_finde"
   ]
  },
  {
   "cell_type": "markdown",
   "metadata": {
    "collapsed": true
   },
   "source": [
    "Con esto se ve que los viajes mayores a 30 minutos los fines de semana son tanto de inicio como fin la estación Harry Bridges Plaza (Ferry Building). El objetivo de este análisis fue encontrar el trayecto más popular de los fines de semana que sea orientado a pasear (por eso el filtro de la duración). El resultado muestra que el viaje más realizado es empezar en dicha estación, recorrer por más de 30 minutos, y luego volver a esta misma dejar la bicicleta."
   ]
  },
  {
   "cell_type": "code",
   "execution_count": 437,
   "metadata": {
    "collapsed": false
   },
   "outputs": [
    {
     "data": {
      "text/html": [
       "<div>\n",
       "<table border=\"1\" class=\"dataframe\">\n",
       "  <thead>\n",
       "    <tr style=\"text-align: right;\">\n",
       "      <th></th>\n",
       "      <th>horario_inicial_float</th>\n",
       "      <th>duracion_viaje</th>\n",
       "      <th>duration</th>\n",
       "    </tr>\n",
       "  </thead>\n",
       "  <tbody>\n",
       "    <tr>\n",
       "      <th>count</th>\n",
       "      <td>557.000000</td>\n",
       "      <td>557</td>\n",
       "      <td>557.000000</td>\n",
       "    </tr>\n",
       "    <tr>\n",
       "      <th>mean</th>\n",
       "      <td>13.199282</td>\n",
       "      <td>0 days 02:33:30.377019</td>\n",
       "      <td>9207.940754</td>\n",
       "    </tr>\n",
       "    <tr>\n",
       "      <th>std</th>\n",
       "      <td>3.028308</td>\n",
       "      <td>0 days 01:45:57.032306</td>\n",
       "      <td>6356.601234</td>\n",
       "    </tr>\n",
       "    <tr>\n",
       "      <th>min</th>\n",
       "      <td>5.000000</td>\n",
       "      <td>0 days 00:31:00</td>\n",
       "      <td>1811.000000</td>\n",
       "    </tr>\n",
       "    <tr>\n",
       "      <th>25%</th>\n",
       "      <td>11.000000</td>\n",
       "      <td>0 days 01:13:00</td>\n",
       "      <td>4364.000000</td>\n",
       "    </tr>\n",
       "    <tr>\n",
       "      <th>50%</th>\n",
       "      <td>13.000000</td>\n",
       "      <td>0 days 01:58:00</td>\n",
       "      <td>7122.000000</td>\n",
       "    </tr>\n",
       "    <tr>\n",
       "      <th>75%</th>\n",
       "      <td>15.000000</td>\n",
       "      <td>0 days 03:51:00</td>\n",
       "      <td>13818.000000</td>\n",
       "    </tr>\n",
       "    <tr>\n",
       "      <th>max</th>\n",
       "      <td>21.000000</td>\n",
       "      <td>0 days 07:56:00</td>\n",
       "      <td>28549.000000</td>\n",
       "    </tr>\n",
       "  </tbody>\n",
       "</table>\n",
       "</div>"
      ],
      "text/plain": [
       "       horario_inicial_float          duracion_viaje      duration\n",
       "count             557.000000                     557    557.000000\n",
       "mean               13.199282  0 days 02:33:30.377019   9207.940754\n",
       "std                 3.028308  0 days 01:45:57.032306   6356.601234\n",
       "min                 5.000000         0 days 00:31:00   1811.000000\n",
       "25%                11.000000         0 days 01:13:00   4364.000000\n",
       "50%                13.000000         0 days 01:58:00   7122.000000\n",
       "75%                15.000000         0 days 03:51:00  13818.000000\n",
       "max                21.000000         0 days 07:56:00  28549.000000"
      ]
     },
     "execution_count": 437,
     "metadata": {},
     "output_type": "execute_result"
    }
   ],
   "source": [
    "harry_harry = finde_viajes_largos[(finde_viajes_largos['start_station_name'] == 'Harry Bridges Plaza (Ferry Building)') & (finde_viajes_largos['end_station_name'] == 'Harry Bridges Plaza (Ferry Building)')]\n",
    "harry_harry.describe()"
   ]
  },
  {
   "cell_type": "markdown",
   "metadata": {},
   "source": [
    "Como se puede apreciar, estos viajes se caracterizan por su duración promedio de 2 horas y media y que en promedio salen a las 13hs. Esto da la pauta de qué elige la mayoría de gente a la hora de pasear por un largo rato aprovechando el clima de recién entrada la tarde."
   ]
  },
  {
   "cell_type": "code",
   "execution_count": 438,
   "metadata": {
    "collapsed": false
   },
   "outputs": [],
   "source": [
    "semana_viajes_cortos = semana_con_duracion[(semana_con_duracion['duracion_viaje'] > \"00:08:00\") & (semana_con_duracion['duracion_viaje'] < \"00:20:00\")]"
   ]
  },
  {
   "cell_type": "code",
   "execution_count": 439,
   "metadata": {
    "collapsed": false
   },
   "outputs": [
    {
     "data": {
      "text/plain": [
       "[3247, 'Steuart at Market', 'San Francisco Caltrain (Townsend at 4th)']"
      ]
     },
     "execution_count": 439,
     "metadata": {},
     "output_type": "execute_result"
    }
   ],
   "source": [
    "contador_de_viajes_cortos_semana,viaje_corto_mas_popular_semana = contador_viajes(semana_viajes_cortos)\n",
    "viaje_corto_mas_popular_semana"
   ]
  },
  {
   "cell_type": "code",
   "execution_count": 440,
   "metadata": {
    "collapsed": false
   },
   "outputs": [
    {
     "data": {
      "text/html": [
       "<div>\n",
       "<table border=\"1\" class=\"dataframe\">\n",
       "  <thead>\n",
       "    <tr style=\"text-align: right;\">\n",
       "      <th></th>\n",
       "      <th>horario_inicial_float</th>\n",
       "      <th>duracion_viaje</th>\n",
       "      <th>duration</th>\n",
       "    </tr>\n",
       "  </thead>\n",
       "  <tbody>\n",
       "    <tr>\n",
       "      <th>count</th>\n",
       "      <td>3247.000000</td>\n",
       "      <td>3247</td>\n",
       "      <td>3247.000000</td>\n",
       "    </tr>\n",
       "    <tr>\n",
       "      <th>mean</th>\n",
       "      <td>14.825685</td>\n",
       "      <td>0 days 00:11:38.158299</td>\n",
       "      <td>697.412073</td>\n",
       "    </tr>\n",
       "    <tr>\n",
       "      <th>std</th>\n",
       "      <td>3.959800</td>\n",
       "      <td>0 days 00:01:58.426460</td>\n",
       "      <td>116.468743</td>\n",
       "    </tr>\n",
       "    <tr>\n",
       "      <th>min</th>\n",
       "      <td>0.000000</td>\n",
       "      <td>0 days 00:09:00</td>\n",
       "      <td>486.000000</td>\n",
       "    </tr>\n",
       "    <tr>\n",
       "      <th>25%</th>\n",
       "      <td>14.000000</td>\n",
       "      <td>0 days 00:10:00</td>\n",
       "      <td>615.000000</td>\n",
       "    </tr>\n",
       "    <tr>\n",
       "      <th>50%</th>\n",
       "      <td>16.000000</td>\n",
       "      <td>0 days 00:11:00</td>\n",
       "      <td>673.000000</td>\n",
       "    </tr>\n",
       "    <tr>\n",
       "      <th>75%</th>\n",
       "      <td>17.000000</td>\n",
       "      <td>0 days 00:13:00</td>\n",
       "      <td>757.000000</td>\n",
       "    </tr>\n",
       "    <tr>\n",
       "      <th>max</th>\n",
       "      <td>23.000000</td>\n",
       "      <td>0 days 00:19:00</td>\n",
       "      <td>1182.000000</td>\n",
       "    </tr>\n",
       "  </tbody>\n",
       "</table>\n",
       "</div>"
      ],
      "text/plain": [
       "       horario_inicial_float          duracion_viaje     duration\n",
       "count            3247.000000                    3247  3247.000000\n",
       "mean               14.825685  0 days 00:11:38.158299   697.412073\n",
       "std                 3.959800  0 days 00:01:58.426460   116.468743\n",
       "min                 0.000000         0 days 00:09:00   486.000000\n",
       "25%                14.000000         0 days 00:10:00   615.000000\n",
       "50%                16.000000         0 days 00:11:00   673.000000\n",
       "75%                17.000000         0 days 00:13:00   757.000000\n",
       "max                23.000000         0 days 00:19:00  1182.000000"
      ]
     },
     "execution_count": 440,
     "metadata": {},
     "output_type": "execute_result"
    }
   ],
   "source": [
    "steuart_caltrain = semana_viajes_cortos[(semana_viajes_cortos['start_station_name'] == 'Steuart at Market') & (semana_viajes_cortos['end_station_name'] == 'San Francisco Caltrain (Townsend at 4th)')]\n",
    "steuart_caltrain.describe()"
   ]
  },
  {
   "cell_type": "markdown",
   "metadata": {},
   "source": [
    "Con esto se ve que el viaje entre 8 y 20 minutos más popular los días de semana es el trayecto Steuart at Market - San Francisco Caltrain (Townsend at 4th). El objetivo de este análisis fue encontrar el trayecto con una duración normal que más se haga considerando el tráfico que presenta un día semanal. Una posible conclusión debido a la hora promedio de comienzo de los viajes (15hs) es que la gente al terminar de trabajar se dirige desde Steuart at Market (un lugar con mucho movimiento por lo que deducimos que mucha gente trabaja por esa zona) en bicicleta hasta el Caltrain, y toma este transporte para volver a sus casas."
   ]
  },
  {
   "cell_type": "markdown",
   "metadata": {
    "collapsed": false
   },
   "source": [
    "# 2) Análisis de la influencia de ciertas fechas en los viajes"
   ]
  },
  {
   "cell_type": "markdown",
   "metadata": {
    "collapsed": true
   },
   "source": [
    "A continuación se estudiará el comportamiento del servicio en fechas particulares. Para eso se hará un plot con los viajes a medida que transcurre el año. Se tomó el 2014 debido a que el 2015 sólo tiene datos hasta agosto."
   ]
  },
  {
   "cell_type": "code",
   "execution_count": 441,
   "metadata": {
    "collapsed": false
   },
   "outputs": [],
   "source": [
    "# funciones para operar con un formato fecha (anio-mes-dia hora:minutos:segundos)\n",
    "def obtener_dia(fecha):\n",
    "    return fecha.day\n",
    "def obtener_mes(fecha):\n",
    "    return fecha.month\n",
    "def fecha_sin_hora(fecha):\n",
    "    return (str(fecha.year) + \"-\" + str(fecha.month) + \"-\" + str(fecha.day))"
   ]
  },
  {
   "cell_type": "code",
   "execution_count": 442,
   "metadata": {
    "collapsed": false
   },
   "outputs": [
    {
     "data": {
      "text/html": [
       "<div>\n",
       "<table border=\"1\" class=\"dataframe\">\n",
       "  <thead>\n",
       "    <tr style=\"text-align: right;\">\n",
       "      <th></th>\n",
       "      <th>start_date</th>\n",
       "      <th>start_day_of_week</th>\n",
       "      <th>horario_inicial_float</th>\n",
       "      <th>start_station_name</th>\n",
       "      <th>end_station_name</th>\n",
       "      <th>duracion_viaje</th>\n",
       "      <th>duration</th>\n",
       "      <th>subscription_type</th>\n",
       "      <th>fecha_sin_horario</th>\n",
       "      <th>dia</th>\n",
       "      <th>mes</th>\n",
       "    </tr>\n",
       "  </thead>\n",
       "  <tbody>\n",
       "    <tr>\n",
       "      <th>100563</th>\n",
       "      <td>2014-01-01 00:14:00</td>\n",
       "      <td>Wednesday</td>\n",
       "      <td>0.0</td>\n",
       "      <td>San Francisco City Hall</td>\n",
       "      <td>Townsend at 7th</td>\n",
       "      <td>00:07:00</td>\n",
       "      <td>435</td>\n",
       "      <td>Subscriber</td>\n",
       "      <td>2014-01-01</td>\n",
       "      <td>1</td>\n",
       "      <td>1</td>\n",
       "    </tr>\n",
       "    <tr>\n",
       "      <th>100564</th>\n",
       "      <td>2014-01-01 00:14:00</td>\n",
       "      <td>Wednesday</td>\n",
       "      <td>0.0</td>\n",
       "      <td>San Francisco City Hall</td>\n",
       "      <td>Townsend at 7th</td>\n",
       "      <td>00:07:00</td>\n",
       "      <td>432</td>\n",
       "      <td>Subscriber</td>\n",
       "      <td>2014-01-01</td>\n",
       "      <td>1</td>\n",
       "      <td>1</td>\n",
       "    </tr>\n",
       "    <tr>\n",
       "      <th>100565</th>\n",
       "      <td>2014-01-01 00:17:00</td>\n",
       "      <td>Wednesday</td>\n",
       "      <td>0.0</td>\n",
       "      <td>Embarcadero at Sansome</td>\n",
       "      <td>Beale at Market</td>\n",
       "      <td>00:25:00</td>\n",
       "      <td>1523</td>\n",
       "      <td>Subscriber</td>\n",
       "      <td>2014-01-01</td>\n",
       "      <td>1</td>\n",
       "      <td>1</td>\n",
       "    </tr>\n",
       "    <tr>\n",
       "      <th>100566</th>\n",
       "      <td>2014-01-01 00:23:00</td>\n",
       "      <td>Wednesday</td>\n",
       "      <td>0.0</td>\n",
       "      <td>Steuart at Market</td>\n",
       "      <td>Powell Street BART</td>\n",
       "      <td>00:27:00</td>\n",
       "      <td>1620</td>\n",
       "      <td>Customer</td>\n",
       "      <td>2014-01-01</td>\n",
       "      <td>1</td>\n",
       "      <td>1</td>\n",
       "    </tr>\n",
       "    <tr>\n",
       "      <th>100567</th>\n",
       "      <td>2014-01-01 00:23:00</td>\n",
       "      <td>Wednesday</td>\n",
       "      <td>0.0</td>\n",
       "      <td>Steuart at Market</td>\n",
       "      <td>Powell Street BART</td>\n",
       "      <td>00:27:00</td>\n",
       "      <td>1617</td>\n",
       "      <td>Customer</td>\n",
       "      <td>2014-01-01</td>\n",
       "      <td>1</td>\n",
       "      <td>1</td>\n",
       "    </tr>\n",
       "  </tbody>\n",
       "</table>\n",
       "</div>"
      ],
      "text/plain": [
       "                start_date start_day_of_week  horario_inicial_float  \\\n",
       "100563 2014-01-01 00:14:00         Wednesday                    0.0   \n",
       "100564 2014-01-01 00:14:00         Wednesday                    0.0   \n",
       "100565 2014-01-01 00:17:00         Wednesday                    0.0   \n",
       "100566 2014-01-01 00:23:00         Wednesday                    0.0   \n",
       "100567 2014-01-01 00:23:00         Wednesday                    0.0   \n",
       "\n",
       "             start_station_name    end_station_name  duracion_viaje  duration  \\\n",
       "100563  San Francisco City Hall     Townsend at 7th        00:07:00       435   \n",
       "100564  San Francisco City Hall     Townsend at 7th        00:07:00       432   \n",
       "100565   Embarcadero at Sansome     Beale at Market        00:25:00      1523   \n",
       "100566        Steuart at Market  Powell Street BART        00:27:00      1620   \n",
       "100567        Steuart at Market  Powell Street BART        00:27:00      1617   \n",
       "\n",
       "       subscription_type fecha_sin_horario  dia  mes  \n",
       "100563        Subscriber        2014-01-01    1    1  \n",
       "100564        Subscriber        2014-01-01    1    1  \n",
       "100565        Subscriber        2014-01-01    1    1  \n",
       "100566          Customer        2014-01-01    1    1  \n",
       "100567          Customer        2014-01-01    1    1  "
      ]
     },
     "execution_count": 442,
     "metadata": {},
     "output_type": "execute_result"
    }
   ],
   "source": [
    "anio_2014 = trips[['start_date','start_day_of_week','horario_inicial_float', 'start_station_name', 'end_station_name','duracion_viaje', 'duration','subscription_type']].round()\n",
    "anio_2014['horario_inicial_float'] = anio_2014['horario_inicial_float'].map(lambda x: x if x != 24 else 0)\n",
    "anio_2014 = anio_2014[(anio_2014['start_date'].dt.year) == 2014]\n",
    "anio_2014['fecha_sin_horario'] = anio_2014['start_date'].map(fecha_sin_hora)\n",
    "anio_2014['fecha_sin_horario'] = pd.to_datetime(anio_2014['fecha_sin_horario'])\n",
    "anio_2014['dia'] = anio_2014['start_date'].map(obtener_dia)\n",
    "anio_2014['mes'] = anio_2014['start_date'].map(obtener_mes)\n",
    "anio_2014 = anio_2014.sort_values(by='start_date')\n",
    "anio_2014.head()"
   ]
  },
  {
   "cell_type": "code",
   "execution_count": 443,
   "metadata": {
    "collapsed": false
   },
   "outputs": [
    {
     "data": {
      "text/html": [
       "<div>\n",
       "<table border=\"1\" class=\"dataframe\">\n",
       "  <thead>\n",
       "    <tr style=\"text-align: right;\">\n",
       "      <th></th>\n",
       "      <th>viaje</th>\n",
       "    </tr>\n",
       "    <tr>\n",
       "      <th>fecha_sin_horario</th>\n",
       "      <th></th>\n",
       "    </tr>\n",
       "  </thead>\n",
       "  <tbody>\n",
       "    <tr>\n",
       "      <th>2014-01-01</th>\n",
       "      <td>350</td>\n",
       "    </tr>\n",
       "    <tr>\n",
       "      <th>2014-01-02</th>\n",
       "      <td>760</td>\n",
       "    </tr>\n",
       "    <tr>\n",
       "      <th>2014-01-03</th>\n",
       "      <td>774</td>\n",
       "    </tr>\n",
       "    <tr>\n",
       "      <th>2014-01-04</th>\n",
       "      <td>354</td>\n",
       "    </tr>\n",
       "    <tr>\n",
       "      <th>2014-01-05</th>\n",
       "      <td>293</td>\n",
       "    </tr>\n",
       "  </tbody>\n",
       "</table>\n",
       "</div>"
      ],
      "text/plain": [
       "                   viaje\n",
       "fecha_sin_horario       \n",
       "2014-01-01           350\n",
       "2014-01-02           760\n",
       "2014-01-03           774\n",
       "2014-01-04           354\n",
       "2014-01-05           293"
      ]
     },
     "execution_count": 443,
     "metadata": {},
     "output_type": "execute_result"
    }
   ],
   "source": [
    "anio_2014['viaje'] = anio_2014['start_day_of_week'].map(lambda x: 1) # seteo todas las rows con 1 para despues agrupar\n",
    "viajes_segun_dia = anio_2014[['fecha_sin_horario', 'viaje']]\n",
    "anio_2014 = anio_2014.drop('viaje', 1) # vuelvo a dejar el dt como antes\n",
    "viajes_segun_dia_contador = viajes_segun_dia.groupby('fecha_sin_horario').aggregate(sum)\n",
    "viajes_segun_dia_contador.head()"
   ]
  },
  {
   "cell_type": "code",
   "execution_count": 444,
   "metadata": {
    "collapsed": false
   },
   "outputs": [
    {
     "data": {
      "image/png": "[encoded data removed]",
      "text/plain": [
       "<matplotlib.figure.Figure at 0x7f25870436d0>"
      ]
     },
     "metadata": {},
     "output_type": "display_data"
    }
   ],
   "source": [
    "viajes_segun_dia_contador.plot.line(figsize=(15,10), color='darkorange');\n",
    "plt.xlabel('Anio')\n",
    "plt.ylabel('Viajes')\n",
    "plt.title('Viajes por cada dia del anio')\n",
    "plt.grid(True)\n",
    "plt.legend('');\n",
    "plt.show()"
   ]
  },
  {
   "cell_type": "markdown",
   "metadata": {
    "collapsed": true
   },
   "source": [
    "En primer lugar se pueden observar picos en fechas como Halloween (fines octubre) y Homecoming (principios octubre). Luego se puede notar como decae el uso del servicio en feriados como por ejemplo en día de acción de gracias (fines noviembre), navidad, semana santa (fines marzo) y demás. También otra observación es la diferencia de viajes que se hacen en inviero en comparación al resto del año. "
   ]
  },
  {
   "cell_type": "code",
   "execution_count": 445,
   "metadata": {
    "collapsed": false
   },
   "outputs": [
    {
     "data": {
      "text/html": [
       "<div>\n",
       "<table border=\"1\" class=\"dataframe\">\n",
       "  <thead>\n",
       "    <tr style=\"text-align: right;\">\n",
       "      <th></th>\n",
       "      <th>viaje</th>\n",
       "    </tr>\n",
       "    <tr>\n",
       "      <th>fecha_sin_horario</th>\n",
       "      <th></th>\n",
       "    </tr>\n",
       "  </thead>\n",
       "  <tbody>\n",
       "    <tr>\n",
       "      <th>2014-08-26</th>\n",
       "      <td>1504</td>\n",
       "    </tr>\n",
       "    <tr>\n",
       "      <th>2014-08-27</th>\n",
       "      <td>1471</td>\n",
       "    </tr>\n",
       "    <tr>\n",
       "      <th>2014-09-15</th>\n",
       "      <td>1505</td>\n",
       "    </tr>\n",
       "    <tr>\n",
       "      <th>2014-09-16</th>\n",
       "      <td>1427</td>\n",
       "    </tr>\n",
       "    <tr>\n",
       "      <th>2014-09-17</th>\n",
       "      <td>1426</td>\n",
       "    </tr>\n",
       "    <tr>\n",
       "      <th>2014-10-02</th>\n",
       "      <td>1447</td>\n",
       "    </tr>\n",
       "    <tr>\n",
       "      <th>2014-10-14</th>\n",
       "      <td>1494</td>\n",
       "    </tr>\n",
       "    <tr>\n",
       "      <th>2014-10-16</th>\n",
       "      <td>1460</td>\n",
       "    </tr>\n",
       "    <tr>\n",
       "      <th>2014-10-21</th>\n",
       "      <td>1407</td>\n",
       "    </tr>\n",
       "    <tr>\n",
       "      <th>2014-10-24</th>\n",
       "      <td>1417</td>\n",
       "    </tr>\n",
       "    <tr>\n",
       "      <th>2014-10-28</th>\n",
       "      <td>1416</td>\n",
       "    </tr>\n",
       "    <tr>\n",
       "      <th>2014-10-29</th>\n",
       "      <td>1490</td>\n",
       "    </tr>\n",
       "    <tr>\n",
       "      <th>2014-11-06</th>\n",
       "      <td>1407</td>\n",
       "    </tr>\n",
       "  </tbody>\n",
       "</table>\n",
       "</div>"
      ],
      "text/plain": [
       "                   viaje\n",
       "fecha_sin_horario       \n",
       "2014-08-26          1504\n",
       "2014-08-27          1471\n",
       "2014-09-15          1505\n",
       "2014-09-16          1427\n",
       "2014-09-17          1426\n",
       "2014-10-02          1447\n",
       "2014-10-14          1494\n",
       "2014-10-16          1460\n",
       "2014-10-21          1407\n",
       "2014-10-24          1417\n",
       "2014-10-28          1416\n",
       "2014-10-29          1490\n",
       "2014-11-06          1407"
      ]
     },
     "execution_count": 445,
     "metadata": {},
     "output_type": "execute_result"
    }
   ],
   "source": [
    "viajes_segun_dia_contador[viajes_segun_dia_contador['viaje'] > 1400]"
   ]
  },
  {
   "cell_type": "code",
   "execution_count": 446,
   "metadata": {
    "collapsed": false
   },
   "outputs": [
    {
     "data": {
      "text/html": [
       "<div>\n",
       "<table border=\"1\" class=\"dataframe\">\n",
       "  <thead>\n",
       "    <tr style=\"text-align: right;\">\n",
       "      <th></th>\n",
       "      <th>viaje</th>\n",
       "    </tr>\n",
       "    <tr>\n",
       "      <th>fecha_sin_horario</th>\n",
       "      <th></th>\n",
       "    </tr>\n",
       "  </thead>\n",
       "  <tbody>\n",
       "    <tr>\n",
       "      <th>2014-02-02</th>\n",
       "      <td>127</td>\n",
       "    </tr>\n",
       "    <tr>\n",
       "      <th>2014-02-08</th>\n",
       "      <td>90</td>\n",
       "    </tr>\n",
       "    <tr>\n",
       "      <th>2014-02-09</th>\n",
       "      <td>81</td>\n",
       "    </tr>\n",
       "    <tr>\n",
       "      <th>2014-03-29</th>\n",
       "      <td>114</td>\n",
       "    </tr>\n",
       "    <tr>\n",
       "      <th>2014-11-27</th>\n",
       "      <td>130</td>\n",
       "    </tr>\n",
       "    <tr>\n",
       "      <th>2014-11-30</th>\n",
       "      <td>120</td>\n",
       "    </tr>\n",
       "    <tr>\n",
       "      <th>2014-12-11</th>\n",
       "      <td>104</td>\n",
       "    </tr>\n",
       "    <tr>\n",
       "      <th>2014-12-25</th>\n",
       "      <td>150</td>\n",
       "    </tr>\n",
       "  </tbody>\n",
       "</table>\n",
       "</div>"
      ],
      "text/plain": [
       "                   viaje\n",
       "fecha_sin_horario       \n",
       "2014-02-02           127\n",
       "2014-02-08            90\n",
       "2014-02-09            81\n",
       "2014-03-29           114\n",
       "2014-11-27           130\n",
       "2014-11-30           120\n",
       "2014-12-11           104\n",
       "2014-12-25           150"
      ]
     },
     "execution_count": 446,
     "metadata": {},
     "output_type": "execute_result"
    }
   ],
   "source": [
    "viajes_segun_dia_contador[viajes_segun_dia_contador['viaje'] < 200]"
   ]
  },
  {
   "cell_type": "markdown",
   "metadata": {
    "collapsed": true
   },
   "source": [
    "## ¿Los días con picos de viajes atraen a clientes no suscriptos al servicio?\n",
    "Se analizará cuánta gente no suscripta usa el servicio en días festivos como Halloween."
   ]
  },
  {
   "cell_type": "code",
   "execution_count": 447,
   "metadata": {
    "collapsed": false
   },
   "outputs": [],
   "source": [
    "halloween = anio_2014[anio_2014['fecha_sin_horario'] == \"2014-10-29\"].subscription_type.value_counts()"
   ]
  },
  {
   "cell_type": "code",
   "execution_count": 448,
   "metadata": {
    "collapsed": false
   },
   "outputs": [
    {
     "data": {
      "image/png": "[encoded data removed]",
      "text/plain": [
       "<matplotlib.figure.Figure at 0x7f25826acc50>"
      ]
     },
     "metadata": {},
     "output_type": "display_data"
    }
   ],
   "source": [
    "sizes = [haloween.Subscriber, haloween.Customer]\n",
    "nombres = ['Suscriptor', 'Cliente']\n",
    "\n",
    "plt.figure(figsize=(6, 6))\n",
    "plt.title('Uso del servicio en Halloween')\n",
    "plt.pie(sizes, labels=nombres, autopct='%1.1f%%', startangle=20, colors=['pink', 'lightblue'], explode=(0.1, 0))\n",
    "plt.show()"
   ]
  },
  {
   "cell_type": "markdown",
   "metadata": {
    "collapsed": true
   },
   "source": [
    "En una primera instancia el valor es bajo a pesar de ser Halloween. Ahora se va a buscar como es normalmente la relación Suscriptor-Cliente en porcentajes y también la diferencia en cantidad de viajes para comparar. Tomamos el promedio de un mes el cual se mantenga estable, sin picos, como por ejemplo junio."
   ]
  },
  {
   "cell_type": "code",
   "execution_count": 449,
   "metadata": {
    "collapsed": false
   },
   "outputs": [],
   "source": [
    "junio = anio_2014[anio_2014['mes'] == 6]\n",
    "suscripciones_junio = junio.subscription_type.value_counts()\n",
    "dia_promedio_junio = suscripciones_junio / 30"
   ]
  },
  {
   "cell_type": "code",
   "execution_count": 450,
   "metadata": {
    "collapsed": false
   },
   "outputs": [
    {
     "data": {
      "image/png": "[encoded data removed]",
      "text/plain": [
       "<matplotlib.figure.Figure at 0x7f25810eb990>"
      ]
     },
     "metadata": {},
     "output_type": "display_data"
    }
   ],
   "source": [
    "sizes = [dia_promedio_junio.Subscriber, dia_promedio_junio.Customer]\n",
    "nombres = ['Suscriptor', 'Cliente']\n",
    "\n",
    "plt.figure(figsize=(6, 6))\n",
    "plt.title('Uso del servicio en junio del 2014')\n",
    "plt.pie(sizes, labels=nombres, autopct='%1.1f%%', startangle=20, colors=['pink', 'lightblue'], explode=(0.1, 0))\n",
    "plt.show()"
   ]
  },
  {
   "cell_type": "code",
   "execution_count": 451,
   "metadata": {
    "collapsed": false
   },
   "outputs": [
    {
     "data": {
      "text/plain": [
       "Subscriber    1347\n",
       "Customer       143\n",
       "Name: subscription_type, dtype: int64"
      ]
     },
     "execution_count": 451,
     "metadata": {},
     "output_type": "execute_result"
    }
   ],
   "source": [
    "halloween"
   ]
  },
  {
   "cell_type": "code",
   "execution_count": 452,
   "metadata": {
    "collapsed": false
   },
   "outputs": [
    {
     "data": {
      "text/plain": [
       "Subscriber    835.233333\n",
       "Customer      156.600000\n",
       "Name: subscription_type, dtype: float64"
      ]
     },
     "execution_count": 452,
     "metadata": {},
     "output_type": "execute_result"
    }
   ],
   "source": [
    "dia_promedio_junio"
   ]
  },
  {
   "cell_type": "markdown",
   "metadata": {
    "collapsed": true
   },
   "source": [
    "Se ve que en promedio los días comunes tienen un mayor porcentaje de clientes. Y tampoco influye que en Halloween sean más viajes ya que el aumento sólo se nota en suscriptores y no en clientes. Al contrario de lo que uno esperaría, en Halloween la gente no suscripta al servicio no lo toma en cuenta como una opción."
   ]
  },
  {
   "cell_type": "code",
   "execution_count": null,
   "metadata": {
    "collapsed": true
   },
   "outputs": [],
   "source": []
  },
  {
   "cell_type": "code",
   "execution_count": null,
   "metadata": {
    "collapsed": true
   },
   "outputs": [],
   "source": []
  },
  {
   "cell_type": "code",
   "execution_count": null,
   "metadata": {
    "collapsed": true
   },
   "outputs": [],
   "source": []
  },
  {
   "cell_type": "code",
   "execution_count": null,
   "metadata": {
    "collapsed": true
   },
   "outputs": [],
   "source": []
  },
  {
   "cell_type": "code",
   "execution_count": null,
   "metadata": {
    "collapsed": true
   },
   "outputs": [],
   "source": []
  },
  {
   "cell_type": "code",
   "execution_count": null,
   "metadata": {
    "collapsed": true
   },
   "outputs": [],
   "source": []
  },
  {
   "cell_type": "code",
   "execution_count": 453,
   "metadata": {
    "collapsed": true
   },
   "outputs": [],
   "source": [
    "# estadisticas años:\n",
    "# año con mas viajes (crece ascendentemente el servicio?)"
   ]
  },
  {
   "cell_type": "code",
   "execution_count": 454,
   "metadata": {
    "collapsed": true
   },
   "outputs": [],
   "source": [
    "# cuántas bicicletas hay disponibles para alquilar (está en el finger 1)"
   ]
  },
  {
   "cell_type": "code",
   "execution_count": null,
   "metadata": {
    "collapsed": true
   },
   "outputs": [],
   "source": []
  }
 ],
 "metadata": {
  "kernelspec": {
   "display_name": "Python 2",
   "language": "python",
   "name": "python2"
  },
  "language_info": {
   "codemirror_mode": {
    "name": "ipython",
    "version": 2
   },
   "file_extension": ".py",
   "mimetype": "text/x-python",
   "name": "python",
   "nbconvert_exporter": "python",
   "pygments_lexer": "ipython2",
   "version": "2.7.13"
  }
 },
 "nbformat": 4,
 "nbformat_minor": 2
}
