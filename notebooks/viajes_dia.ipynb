{
 "cells": [
  {
   "cell_type": "code",
   "execution_count": 1,
   "metadata": {
    "collapsed": true
   },
   "outputs": [],
   "source": [
    "import numpy as np \n",
    "import pandas as pd\n",
    "import datetime # para convertir a dia de la semana\n",
    "import calendar # idem\n",
    "\n",
    "# plots\n",
    "import matplotlib.pyplot as plt\n",
    "import seaborn as sns\n",
    "%matplotlib inline\n",
    "# https://github.com/idontdomath/datos-exploratory-data-analysis/blob/master/class01/03-intro-pandas-flight-delays.ipynb"
   ]
  },
  {
   "cell_type": "code",
   "execution_count": 2,
   "metadata": {
    "collapsed": false
   },
   "outputs": [],
   "source": [
    "# estatus = pd.read_csv('status.csv', sep='\\t', iterator=True, chunksize=1000)\n",
    "#cada vez que se corre son los proximos 500\n",
    "# estatus.get_chunk(500)"
   ]
  },
  {
   "cell_type": "code",
   "execution_count": 3,
   "metadata": {
    "collapsed": false
   },
   "outputs": [],
   "source": [
    "trips = pd.read_csv('trip.csv', low_memory=False)\n",
    "#Se convierte los dates a datetime64[ns].\n",
    "trips['start_date'] = pd.to_datetime(trips['start_date'])\n",
    "trips['end_date'] = pd.to_datetime(trips['end_date'])"
   ]
  },
  {
   "cell_type": "code",
   "execution_count": 4,
   "metadata": {
    "collapsed": false
   },
   "outputs": [],
   "source": [
    "#Se agrega una nueva columna date que coincide con weather.\n",
    "trips['date'] = trips['start_date'].apply(lambda x: x.date())\n",
    "#Se convierte date a datetime64[ns].\n",
    "trips['date'] = pd.to_datetime(trips['date'])"
   ]
  },
  {
   "cell_type": "code",
   "execution_count": 5,
   "metadata": {
    "collapsed": false
   },
   "outputs": [
    {
     "data": {
      "text/plain": [
       "id                             int64\n",
       "duration                       int64\n",
       "start_date            datetime64[ns]\n",
       "start_station_name            object\n",
       "start_station_id               int64\n",
       "end_date              datetime64[ns]\n",
       "end_station_name              object\n",
       "end_station_id                 int64\n",
       "bike_id                        int64\n",
       "subscription_type             object\n",
       "zip_code                      object\n",
       "date                  datetime64[ns]\n",
       "dtype: object"
      ]
     },
     "execution_count": 5,
     "metadata": {},
     "output_type": "execute_result"
    }
   ],
   "source": [
    "# chequeo tipos\n",
    "trips.dtypes"
   ]
  },
  {
   "cell_type": "code",
   "execution_count": 6,
   "metadata": {
    "collapsed": false
   },
   "outputs": [
    {
     "data": {
      "text/plain": [
       "datetime.datetime(2017, 4, 13, 1, 54, 57, 813987)"
      ]
     },
     "execution_count": 6,
     "metadata": {},
     "output_type": "execute_result"
    }
   ],
   "source": [
    "# ejemplo del uso de datetime con día actual\n",
    "dia_actual = datetime.datetime.today()\n",
    "dia_actual"
   ]
  },
  {
   "cell_type": "code",
   "execution_count": 7,
   "metadata": {
    "collapsed": false
   },
   "outputs": [
    {
     "data": {
      "text/plain": [
       "3"
      ]
     },
     "execution_count": 7,
     "metadata": {},
     "output_type": "execute_result"
    }
   ],
   "source": [
    "# lo paso a dia de la semana\n",
    "dia_actual.weekday()"
   ]
  },
  {
   "cell_type": "code",
   "execution_count": 8,
   "metadata": {
    "collapsed": false
   },
   "outputs": [
    {
     "data": {
      "text/plain": [
       "'Thursday'"
      ]
     },
     "execution_count": 8,
     "metadata": {},
     "output_type": "execute_result"
    }
   ],
   "source": [
    "# mejor en palabras que en números\n",
    "calendar.day_name[dia_actual.weekday()]"
   ]
  },
  {
   "cell_type": "code",
   "execution_count": 9,
   "metadata": {
    "collapsed": true
   },
   "outputs": [],
   "source": [
    "# función para convertir fecha a día de la semana.\n",
    "def fecha_a_dia(fecha):\n",
    "    return calendar.day_name[fecha.weekday()]"
   ]
  },
  {
   "cell_type": "code",
   "execution_count": 10,
   "metadata": {
    "collapsed": false
   },
   "outputs": [],
   "source": [
    "#Se crean columnas con los dias de la semana.\n",
    "trips['start_day_of_week'] = trips['start_date'].map(fecha_a_dia)\n",
    "trips['end_day_of_week'] = trips['end_date'].map(fecha_a_dia)"
   ]
  },
  {
   "cell_type": "code",
   "execution_count": 11,
   "metadata": {
    "collapsed": false
   },
   "outputs": [],
   "source": [
    "trips['horario_inicial'] = trips['start_date'].dt.time\n",
    "trips['horario_inicial_float'] = trips['start_date'].dt.hour + trips['start_date'].dt.minute / 100\n",
    "#por el momento dejo ambos por si se necesitan"
   ]
  },
  {
   "cell_type": "code",
   "execution_count": 12,
   "metadata": {
    "collapsed": false
   },
   "outputs": [],
   "source": [
    "trips['horario_final'] = trips['end_date'].dt.time\n",
    "trips['horario_final_float'] = trips['end_date'].dt.hour + trips['end_date'].dt.minute / 100\n",
    "#idem"
   ]
  },
  {
   "cell_type": "code",
   "execution_count": 13,
   "metadata": {
    "collapsed": false
   },
   "outputs": [],
   "source": [
    "trips['duracion_viaje'] = trips['end_date'] - trips['start_date']\n",
    "# trips['duracion_viaje'] = pd.to_datetime(trips['duracion_viaje'])\n",
    "# no es necesario pero lo dejo por las dudas, puede servir"
   ]
  },
  {
   "cell_type": "code",
   "execution_count": 62,
   "metadata": {
    "collapsed": false
   },
   "outputs": [
    {
     "data": {
      "text/html": [
       "<div>\n",
       "<table border=\"1\" class=\"dataframe\">\n",
       "  <thead>\n",
       "    <tr style=\"text-align: right;\">\n",
       "      <th></th>\n",
       "      <th>id</th>\n",
       "      <th>duration</th>\n",
       "      <th>start_date</th>\n",
       "      <th>start_station_name</th>\n",
       "      <th>start_station_id</th>\n",
       "      <th>end_date</th>\n",
       "      <th>end_station_name</th>\n",
       "      <th>end_station_id</th>\n",
       "      <th>bike_id</th>\n",
       "      <th>subscription_type</th>\n",
       "      <th>zip_code</th>\n",
       "      <th>date</th>\n",
       "      <th>start_day_of_week</th>\n",
       "      <th>end_day_of_week</th>\n",
       "      <th>horario_inicial</th>\n",
       "      <th>horario_inicial_float</th>\n",
       "      <th>horario_final</th>\n",
       "      <th>horario_final_float</th>\n",
       "      <th>duracion_viaje</th>\n",
       "    </tr>\n",
       "  </thead>\n",
       "  <tbody>\n",
       "    <tr>\n",
       "      <th>4</th>\n",
       "      <td>4299</td>\n",
       "      <td>83</td>\n",
       "      <td>2013-08-29 12:02:00</td>\n",
       "      <td>South Van Ness at Market</td>\n",
       "      <td>66</td>\n",
       "      <td>2013-08-29 12:04:00</td>\n",
       "      <td>Market at 10th</td>\n",
       "      <td>67</td>\n",
       "      <td>319</td>\n",
       "      <td>Subscriber</td>\n",
       "      <td>94103</td>\n",
       "      <td>2013-08-29</td>\n",
       "      <td>Thursday</td>\n",
       "      <td>Thursday</td>\n",
       "      <td>12:02:00</td>\n",
       "      <td>12.02</td>\n",
       "      <td>12:04:00</td>\n",
       "      <td>12.04</td>\n",
       "      <td>00:02:00</td>\n",
       "    </tr>\n",
       "    <tr>\n",
       "      <th>6</th>\n",
       "      <td>4500</td>\n",
       "      <td>109</td>\n",
       "      <td>2013-08-29 13:25:00</td>\n",
       "      <td>Santa Clara at Almaden</td>\n",
       "      <td>4</td>\n",
       "      <td>2013-08-29 13:27:00</td>\n",
       "      <td>Adobe on Almaden</td>\n",
       "      <td>5</td>\n",
       "      <td>679</td>\n",
       "      <td>Subscriber</td>\n",
       "      <td>95112</td>\n",
       "      <td>2013-08-29</td>\n",
       "      <td>Thursday</td>\n",
       "      <td>Thursday</td>\n",
       "      <td>13:25:00</td>\n",
       "      <td>13.25</td>\n",
       "      <td>13:27:00</td>\n",
       "      <td>13.27</td>\n",
       "      <td>00:02:00</td>\n",
       "    </tr>\n",
       "    <tr>\n",
       "      <th>9</th>\n",
       "      <td>4258</td>\n",
       "      <td>114</td>\n",
       "      <td>2013-08-29 11:33:00</td>\n",
       "      <td>San Jose City Hall</td>\n",
       "      <td>10</td>\n",
       "      <td>2013-08-29 11:35:00</td>\n",
       "      <td>MLK Library</td>\n",
       "      <td>11</td>\n",
       "      <td>107</td>\n",
       "      <td>Subscriber</td>\n",
       "      <td>95060</td>\n",
       "      <td>2013-08-29</td>\n",
       "      <td>Thursday</td>\n",
       "      <td>Thursday</td>\n",
       "      <td>11:33:00</td>\n",
       "      <td>11.33</td>\n",
       "      <td>11:35:00</td>\n",
       "      <td>11.35</td>\n",
       "      <td>00:02:00</td>\n",
       "    </tr>\n",
       "    <tr>\n",
       "      <th>10</th>\n",
       "      <td>4549</td>\n",
       "      <td>125</td>\n",
       "      <td>2013-08-29 13:52:00</td>\n",
       "      <td>Spear at Folsom</td>\n",
       "      <td>49</td>\n",
       "      <td>2013-08-29 13:55:00</td>\n",
       "      <td>Embarcadero at Bryant</td>\n",
       "      <td>54</td>\n",
       "      <td>368</td>\n",
       "      <td>Subscriber</td>\n",
       "      <td>94109</td>\n",
       "      <td>2013-08-29</td>\n",
       "      <td>Thursday</td>\n",
       "      <td>Thursday</td>\n",
       "      <td>13:52:00</td>\n",
       "      <td>13.52</td>\n",
       "      <td>13:55:00</td>\n",
       "      <td>13.55</td>\n",
       "      <td>00:03:00</td>\n",
       "    </tr>\n",
       "    <tr>\n",
       "      <th>11</th>\n",
       "      <td>4498</td>\n",
       "      <td>126</td>\n",
       "      <td>2013-08-29 13:23:00</td>\n",
       "      <td>San Pedro Square</td>\n",
       "      <td>6</td>\n",
       "      <td>2013-08-29 13:25:00</td>\n",
       "      <td>Santa Clara at Almaden</td>\n",
       "      <td>4</td>\n",
       "      <td>26</td>\n",
       "      <td>Subscriber</td>\n",
       "      <td>95112</td>\n",
       "      <td>2013-08-29</td>\n",
       "      <td>Thursday</td>\n",
       "      <td>Thursday</td>\n",
       "      <td>13:23:00</td>\n",
       "      <td>13.23</td>\n",
       "      <td>13:25:00</td>\n",
       "      <td>13.25</td>\n",
       "      <td>00:02:00</td>\n",
       "    </tr>\n",
       "  </tbody>\n",
       "</table>\n",
       "</div>"
      ],
      "text/plain": [
       "      id  duration          start_date        start_station_name  \\\n",
       "4   4299        83 2013-08-29 12:02:00  South Van Ness at Market   \n",
       "6   4500       109 2013-08-29 13:25:00    Santa Clara at Almaden   \n",
       "9   4258       114 2013-08-29 11:33:00        San Jose City Hall   \n",
       "10  4549       125 2013-08-29 13:52:00           Spear at Folsom   \n",
       "11  4498       126 2013-08-29 13:23:00          San Pedro Square   \n",
       "\n",
       "    start_station_id            end_date        end_station_name  \\\n",
       "4                 66 2013-08-29 12:04:00          Market at 10th   \n",
       "6                  4 2013-08-29 13:27:00        Adobe on Almaden   \n",
       "9                 10 2013-08-29 11:35:00             MLK Library   \n",
       "10                49 2013-08-29 13:55:00   Embarcadero at Bryant   \n",
       "11                 6 2013-08-29 13:25:00  Santa Clara at Almaden   \n",
       "\n",
       "    end_station_id  bike_id subscription_type zip_code       date  \\\n",
       "4               67      319        Subscriber    94103 2013-08-29   \n",
       "6                5      679        Subscriber    95112 2013-08-29   \n",
       "9               11      107        Subscriber    95060 2013-08-29   \n",
       "10              54      368        Subscriber    94109 2013-08-29   \n",
       "11               4       26        Subscriber    95112 2013-08-29   \n",
       "\n",
       "   start_day_of_week end_day_of_week horario_inicial  horario_inicial_float  \\\n",
       "4           Thursday        Thursday        12:02:00                  12.02   \n",
       "6           Thursday        Thursday        13:25:00                  13.25   \n",
       "9           Thursday        Thursday        11:33:00                  11.33   \n",
       "10          Thursday        Thursday        13:52:00                  13.52   \n",
       "11          Thursday        Thursday        13:23:00                  13.23   \n",
       "\n",
       "   horario_final  horario_final_float  duracion_viaje  \n",
       "4       12:04:00                12.04        00:02:00  \n",
       "6       13:27:00                13.27        00:02:00  \n",
       "9       11:35:00                11.35        00:02:00  \n",
       "10      13:55:00                13.55        00:03:00  \n",
       "11      13:25:00                13.25        00:02:00  "
      ]
     },
     "execution_count": 62,
     "metadata": {},
     "output_type": "execute_result"
    }
   ],
   "source": [
    "# vista final de cómo quedó el dataframe\n",
    "trips.head()"
   ]
  },
  {
   "cell_type": "markdown",
   "metadata": {},
   "source": [
    "## ¿Viajes de menos de 3 minutos con misma estación de inicio y fin?\n",
    "Una primera impresión es que hay viajes \"ruidosos\": duran menos de 3 minutos y las estaciones de inicio y fin\n",
    "son las mismas. Esto nos dice que el usuario no tomó el viaje por algún motivo. Se van a filtrar esos viajes."
   ]
  },
  {
   "cell_type": "code",
   "execution_count": 15,
   "metadata": {
    "collapsed": false
   },
   "outputs": [],
   "source": [
    "viajes_ruidosos = trips[(trips['duracion_viaje'] <= '00:03:00') & (trips['start_station_id'] == trips['end_station_id'])]\n",
    "trips = trips[-((trips['duracion_viaje'] <= '00:03:00') & (trips['start_station_id'] == trips['end_station_id']))]\n",
    "# hay que hacer trips - viajes_ruidosos para que quede lindo pero requiere un comando (isin o algo asi). \n",
    "# no me salio bien asi que a lo ultimo lo modifico"
   ]
  },
  {
   "cell_type": "code",
   "execution_count": 16,
   "metadata": {
    "collapsed": false
   },
   "outputs": [
    {
     "data": {
      "text/plain": [
       "2601"
      ]
     },
     "execution_count": 16,
     "metadata": {},
     "output_type": "execute_result"
    }
   ],
   "source": [
    "viajes_ruidosos.id.count()"
   ]
  },
  {
   "cell_type": "code",
   "execution_count": 17,
   "metadata": {
    "collapsed": false
   },
   "outputs": [
    {
     "data": {
      "text/plain": [
       "598"
      ]
     },
     "execution_count": 17,
     "metadata": {},
     "output_type": "execute_result"
    }
   ],
   "source": [
    "viajes_ruidosos.bike_id.value_counts().count()\n",
    "# cantidad distintas de bicicletas dentro de esos 2601 viajes. Crei que iba a aportar información \n",
    "# para lo de las biciletas descompuestas pero no creo que ayude. Hay que analizar si es que varios de esos viajes\n",
    "# con el mismo id de bicicleta se tomaron bastante pegados entonces si claramente las devolvieron porq estaban rotas"
   ]
  },
  {
   "cell_type": "markdown",
   "metadata": {},
   "source": [
    "Se filtraron unos 2600 viajes. // acá iría la conclusión acerca de posibles bicicletas descompuestas"
   ]
  },
  {
   "cell_type": "code",
   "execution_count": 18,
   "metadata": {
    "collapsed": false
   },
   "outputs": [],
   "source": [
    "# no es necesario pero lo dejo por las dudas, puede servir\n",
    "# trips[-((trips['duracion_viaje'] < '1970-01-01 00:10:00') & (trips['start_station_id'] == trips['end_station_id']))]"
   ]
  },
  {
   "cell_type": "code",
   "execution_count": 61,
   "metadata": {
    "collapsed": false
   },
   "outputs": [
    {
     "data": {
      "text/html": [
       "<div>\n",
       "<table border=\"1\" class=\"dataframe\">\n",
       "  <thead>\n",
       "    <tr style=\"text-align: right;\">\n",
       "      <th></th>\n",
       "      <th>id</th>\n",
       "      <th>duration</th>\n",
       "      <th>start_date</th>\n",
       "      <th>start_station_name</th>\n",
       "      <th>start_station_id</th>\n",
       "      <th>end_date</th>\n",
       "      <th>end_station_name</th>\n",
       "      <th>end_station_id</th>\n",
       "      <th>bike_id</th>\n",
       "      <th>subscription_type</th>\n",
       "      <th>zip_code</th>\n",
       "      <th>date</th>\n",
       "      <th>start_day_of_week</th>\n",
       "      <th>end_day_of_week</th>\n",
       "      <th>horario_inicial</th>\n",
       "      <th>horario_inicial_float</th>\n",
       "      <th>horario_final</th>\n",
       "      <th>horario_final_float</th>\n",
       "      <th>duracion_viaje</th>\n",
       "    </tr>\n",
       "  </thead>\n",
       "  <tbody>\n",
       "    <tr>\n",
       "      <th>4</th>\n",
       "      <td>4299</td>\n",
       "      <td>83</td>\n",
       "      <td>2013-08-29 12:02:00</td>\n",
       "      <td>South Van Ness at Market</td>\n",
       "      <td>66</td>\n",
       "      <td>2013-08-29 12:04:00</td>\n",
       "      <td>Market at 10th</td>\n",
       "      <td>67</td>\n",
       "      <td>319</td>\n",
       "      <td>Subscriber</td>\n",
       "      <td>94103</td>\n",
       "      <td>2013-08-29</td>\n",
       "      <td>Thursday</td>\n",
       "      <td>Thursday</td>\n",
       "      <td>12:02:00</td>\n",
       "      <td>12.02</td>\n",
       "      <td>12:04:00</td>\n",
       "      <td>12.04</td>\n",
       "      <td>00:02:00</td>\n",
       "    </tr>\n",
       "    <tr>\n",
       "      <th>6</th>\n",
       "      <td>4500</td>\n",
       "      <td>109</td>\n",
       "      <td>2013-08-29 13:25:00</td>\n",
       "      <td>Santa Clara at Almaden</td>\n",
       "      <td>4</td>\n",
       "      <td>2013-08-29 13:27:00</td>\n",
       "      <td>Adobe on Almaden</td>\n",
       "      <td>5</td>\n",
       "      <td>679</td>\n",
       "      <td>Subscriber</td>\n",
       "      <td>95112</td>\n",
       "      <td>2013-08-29</td>\n",
       "      <td>Thursday</td>\n",
       "      <td>Thursday</td>\n",
       "      <td>13:25:00</td>\n",
       "      <td>13.25</td>\n",
       "      <td>13:27:00</td>\n",
       "      <td>13.27</td>\n",
       "      <td>00:02:00</td>\n",
       "    </tr>\n",
       "    <tr>\n",
       "      <th>9</th>\n",
       "      <td>4258</td>\n",
       "      <td>114</td>\n",
       "      <td>2013-08-29 11:33:00</td>\n",
       "      <td>San Jose City Hall</td>\n",
       "      <td>10</td>\n",
       "      <td>2013-08-29 11:35:00</td>\n",
       "      <td>MLK Library</td>\n",
       "      <td>11</td>\n",
       "      <td>107</td>\n",
       "      <td>Subscriber</td>\n",
       "      <td>95060</td>\n",
       "      <td>2013-08-29</td>\n",
       "      <td>Thursday</td>\n",
       "      <td>Thursday</td>\n",
       "      <td>11:33:00</td>\n",
       "      <td>11.33</td>\n",
       "      <td>11:35:00</td>\n",
       "      <td>11.35</td>\n",
       "      <td>00:02:00</td>\n",
       "    </tr>\n",
       "    <tr>\n",
       "      <th>10</th>\n",
       "      <td>4549</td>\n",
       "      <td>125</td>\n",
       "      <td>2013-08-29 13:52:00</td>\n",
       "      <td>Spear at Folsom</td>\n",
       "      <td>49</td>\n",
       "      <td>2013-08-29 13:55:00</td>\n",
       "      <td>Embarcadero at Bryant</td>\n",
       "      <td>54</td>\n",
       "      <td>368</td>\n",
       "      <td>Subscriber</td>\n",
       "      <td>94109</td>\n",
       "      <td>2013-08-29</td>\n",
       "      <td>Thursday</td>\n",
       "      <td>Thursday</td>\n",
       "      <td>13:52:00</td>\n",
       "      <td>13.52</td>\n",
       "      <td>13:55:00</td>\n",
       "      <td>13.55</td>\n",
       "      <td>00:03:00</td>\n",
       "    </tr>\n",
       "    <tr>\n",
       "      <th>11</th>\n",
       "      <td>4498</td>\n",
       "      <td>126</td>\n",
       "      <td>2013-08-29 13:23:00</td>\n",
       "      <td>San Pedro Square</td>\n",
       "      <td>6</td>\n",
       "      <td>2013-08-29 13:25:00</td>\n",
       "      <td>Santa Clara at Almaden</td>\n",
       "      <td>4</td>\n",
       "      <td>26</td>\n",
       "      <td>Subscriber</td>\n",
       "      <td>95112</td>\n",
       "      <td>2013-08-29</td>\n",
       "      <td>Thursday</td>\n",
       "      <td>Thursday</td>\n",
       "      <td>13:23:00</td>\n",
       "      <td>13.23</td>\n",
       "      <td>13:25:00</td>\n",
       "      <td>13.25</td>\n",
       "      <td>00:02:00</td>\n",
       "    </tr>\n",
       "  </tbody>\n",
       "</table>\n",
       "</div>"
      ],
      "text/plain": [
       "      id  duration          start_date        start_station_name  \\\n",
       "4   4299        83 2013-08-29 12:02:00  South Van Ness at Market   \n",
       "6   4500       109 2013-08-29 13:25:00    Santa Clara at Almaden   \n",
       "9   4258       114 2013-08-29 11:33:00        San Jose City Hall   \n",
       "10  4549       125 2013-08-29 13:52:00           Spear at Folsom   \n",
       "11  4498       126 2013-08-29 13:23:00          San Pedro Square   \n",
       "\n",
       "    start_station_id            end_date        end_station_name  \\\n",
       "4                 66 2013-08-29 12:04:00          Market at 10th   \n",
       "6                  4 2013-08-29 13:27:00        Adobe on Almaden   \n",
       "9                 10 2013-08-29 11:35:00             MLK Library   \n",
       "10                49 2013-08-29 13:55:00   Embarcadero at Bryant   \n",
       "11                 6 2013-08-29 13:25:00  Santa Clara at Almaden   \n",
       "\n",
       "    end_station_id  bike_id subscription_type zip_code       date  \\\n",
       "4               67      319        Subscriber    94103 2013-08-29   \n",
       "6                5      679        Subscriber    95112 2013-08-29   \n",
       "9               11      107        Subscriber    95060 2013-08-29   \n",
       "10              54      368        Subscriber    94109 2013-08-29   \n",
       "11               4       26        Subscriber    95112 2013-08-29   \n",
       "\n",
       "   start_day_of_week end_day_of_week horario_inicial  horario_inicial_float  \\\n",
       "4           Thursday        Thursday        12:02:00                  12.02   \n",
       "6           Thursday        Thursday        13:25:00                  13.25   \n",
       "9           Thursday        Thursday        11:33:00                  11.33   \n",
       "10          Thursday        Thursday        13:52:00                  13.52   \n",
       "11          Thursday        Thursday        13:23:00                  13.23   \n",
       "\n",
       "   horario_final  horario_final_float  duracion_viaje  \n",
       "4       12:04:00                12.04        00:02:00  \n",
       "6       13:27:00                13.27        00:02:00  \n",
       "9       11:35:00                11.35        00:02:00  \n",
       "10      13:55:00                13.55        00:03:00  \n",
       "11      13:25:00                13.25        00:02:00  "
      ]
     },
     "execution_count": 61,
     "metadata": {},
     "output_type": "execute_result"
    }
   ],
   "source": [
    "# ahora los datos quedan más limpios\n",
    "trips.head()"
   ]
  },
  {
   "cell_type": "markdown",
   "metadata": {},
   "source": [
    "# 1) Análisis de viajes según día y horario\n",
    "### En estos primeros plots se analizará la relación general entre los viajes y el día/horario de la semana."
   ]
  },
  {
   "cell_type": "markdown",
   "metadata": {},
   "source": [
    "### ¿El servicio se usa más en la semana o los fines de semana?"
   ]
  },
  {
   "cell_type": "code",
   "execution_count": 20,
   "metadata": {
    "collapsed": false,
    "scrolled": false
   },
   "outputs": [
    {
     "data": {
      "image/png": "[encoded data removed]",
      "text/plain": [
       "<matplotlib.figure.Figure at 0x7efff6f68d90>"
      ]
     },
     "metadata": {},
     "output_type": "display_data"
    }
   ],
   "source": [
    "trips['start_day_of_week'].value_counts().plot(kind='bar', rot=0, figsize=(10,8));\n",
    "plt.title('Uso del servicio por dia');"
   ]
  },
  {
   "cell_type": "code",
   "execution_count": 21,
   "metadata": {
    "collapsed": false
   },
   "outputs": [],
   "source": [
    "dias = trips[['start_day_of_week']]\n",
    "dias_semana = dias[-(dias['start_day_of_week'] == \"Saturday\")]\n",
    "dias_semana = dias[-(dias['start_day_of_week'] == \"Sunday\")]\n",
    "dias_finde = dias[(dias['start_day_of_week'] == \"Saturday\") | (dias['start_day_of_week'] == \"Sunday\")]"
   ]
  },
  {
   "cell_type": "code",
   "execution_count": 22,
   "metadata": {
    "collapsed": false
   },
   "outputs": [
    {
     "data": {
      "image/png": "[encoded data removed]",
      "text/plain": [
       "<matplotlib.figure.Figure at 0x7f00069cb890>"
      ]
     },
     "metadata": {},
     "output_type": "display_data"
    }
   ],
   "source": [
    "sizes = [dias_semana.start_day_of_week.count(), dias_finde.start_day_of_week.count()]\n",
    "nombres = ['Semana', 'Fin de semana']\n",
    "\n",
    "plt.figure(figsize=(6, 6))\n",
    "plt.title('Porcentajes del uso del servicio')\n",
    "plt.pie(sizes, labels=nombres, autopct='%1.1f%%', startangle=20, colors=['red', 'yellow'], explode=(0.1, 0))\n",
    "plt.show()"
   ]
  },
  {
   "cell_type": "markdown",
   "metadata": {
    "collapsed": true
   },
   "source": [
    "Se ve que hay una diferencia drástica en el uso del servicio entre la semana y el fin de semana."
   ]
  },
  {
   "cell_type": "markdown",
   "metadata": {
    "collapsed": true
   },
   "source": [
    "### Promedio del uso del servicio por horario:"
   ]
  },
  {
   "cell_type": "code",
   "execution_count": 80,
   "metadata": {
    "collapsed": false
   },
   "outputs": [
    {
     "data": {
      "text/html": [
       "<div>\n",
       "<table border=\"1\" class=\"dataframe\">\n",
       "  <thead>\n",
       "    <tr style=\"text-align: right;\">\n",
       "      <th></th>\n",
       "      <th>start_day_of_week</th>\n",
       "      <th>horario_inicial_float</th>\n",
       "      <th>start_station_name</th>\n",
       "      <th>end_station_name</th>\n",
       "    </tr>\n",
       "  </thead>\n",
       "  <tbody>\n",
       "    <tr>\n",
       "      <th>4</th>\n",
       "      <td>Thursday</td>\n",
       "      <td>12.0</td>\n",
       "      <td>South Van Ness at Market</td>\n",
       "      <td>Market at 10th</td>\n",
       "    </tr>\n",
       "    <tr>\n",
       "      <th>6</th>\n",
       "      <td>Thursday</td>\n",
       "      <td>13.0</td>\n",
       "      <td>Santa Clara at Almaden</td>\n",
       "      <td>Adobe on Almaden</td>\n",
       "    </tr>\n",
       "    <tr>\n",
       "      <th>9</th>\n",
       "      <td>Thursday</td>\n",
       "      <td>11.0</td>\n",
       "      <td>San Jose City Hall</td>\n",
       "      <td>MLK Library</td>\n",
       "    </tr>\n",
       "    <tr>\n",
       "      <th>10</th>\n",
       "      <td>Thursday</td>\n",
       "      <td>14.0</td>\n",
       "      <td>Spear at Folsom</td>\n",
       "      <td>Embarcadero at Bryant</td>\n",
       "    </tr>\n",
       "    <tr>\n",
       "      <th>11</th>\n",
       "      <td>Thursday</td>\n",
       "      <td>13.0</td>\n",
       "      <td>San Pedro Square</td>\n",
       "      <td>Santa Clara at Almaden</td>\n",
       "    </tr>\n",
       "  </tbody>\n",
       "</table>\n",
       "</div>"
      ],
      "text/plain": [
       "   start_day_of_week  horario_inicial_float        start_station_name  \\\n",
       "4           Thursday                   12.0  South Van Ness at Market   \n",
       "6           Thursday                   13.0    Santa Clara at Almaden   \n",
       "9           Thursday                   11.0        San Jose City Hall   \n",
       "10          Thursday                   14.0           Spear at Folsom   \n",
       "11          Thursday                   13.0          San Pedro Square   \n",
       "\n",
       "          end_station_name  \n",
       "4           Market at 10th  \n",
       "6         Adobe on Almaden  \n",
       "9              MLK Library  \n",
       "10   Embarcadero at Bryant  \n",
       "11  Santa Clara at Almaden  "
      ]
     },
     "execution_count": 80,
     "metadata": {},
     "output_type": "execute_result"
    }
   ],
   "source": [
    "semana_entera = trips[['start_day_of_week','horario_inicial_float', 'start_station_name', 'end_station_name']].round()\n",
    "semana_entera['horario_inicial_float'] = semana_entera['horario_inicial_float'].map(lambda x: x if x != 24 else 0)\n",
    "# 24hs = 0hs\n",
    "semana_entera.head()"
   ]
  },
  {
   "cell_type": "code",
   "execution_count": 81,
   "metadata": {
    "collapsed": false
   },
   "outputs": [],
   "source": [
    "semana = semana_entera[-(semana_entera['start_day_of_week'] == \"Saturday\")]\n",
    "semana = semana_entera[-(semana_entera['start_day_of_week'] == \"Sunday\")]"
   ]
  },
  {
   "cell_type": "code",
   "execution_count": 82,
   "metadata": {
    "collapsed": false
   },
   "outputs": [
    {
     "name": "stderr",
     "output_type": "stream",
     "text": [
      "/home/rodrigo/anaconda2/lib/python2.7/site-packages/ipykernel/__main__.py:1: SettingWithCopyWarning: \n",
      "A value is trying to be set on a copy of a slice from a DataFrame.\n",
      "Try using .loc[row_indexer,col_indexer] = value instead\n",
      "\n",
      "See the caveats in the documentation: http://pandas.pydata.org/pandas-docs/stable/indexing.html#indexing-view-versus-copy\n",
      "  if __name__ == '__main__':\n"
     ]
    }
   ],
   "source": [
    "semana['apariciones'] = semana['start_day_of_week'].map(lambda x: 1) # seteo todas las rows con 1 para despues agrupar\n",
    "horarios_semana = semana[['horario_inicial_float', 'apariciones']]\n",
    "semana = semana.drop('apariciones', 1) # vuelvo a dejar el dt como antes\n",
    "horarios_semana_contador = horarios_semana.groupby('horario_inicial_float').aggregate(sum)"
   ]
  },
  {
   "cell_type": "code",
   "execution_count": 83,
   "metadata": {
    "collapsed": false
   },
   "outputs": [
    {
     "data": {
      "image/png": "[encoded data removed]",
      "text/plain": [
       "<matplotlib.figure.Figure at 0x7f00081b5d10>"
      ]
     },
     "metadata": {},
     "output_type": "display_data"
    }
   ],
   "source": [
    "horarios_semana_contador.plot.bar(rot=0, figsize=(10,10), color='green');\n",
    "plt.ylabel('Cantidad de viajes')\n",
    "plt.xlabel('Horario de inicio del viaje')\n",
    "plt.title('Promedio de uso del servicio por horario durante la semana')\n",
    "plt.legend('')\n",
    "plt.show()"
   ]
  },
  {
   "cell_type": "markdown",
   "metadata": {
    "collapsed": true
   },
   "source": [
    "Se aprecia que durante la semana los horarios pico son de 8 a 9 y de 18 a 19, particularmente cuando la gente va y cuando regresa al trabajo, escuela, etc."
   ]
  },
  {
   "cell_type": "code",
   "execution_count": 84,
   "metadata": {
    "collapsed": false
   },
   "outputs": [],
   "source": [
    "finde = semana_entera[(semana_entera['start_day_of_week'] == \"Saturday\") | (semana_entera['start_day_of_week'] == \"Sunday\")]"
   ]
  },
  {
   "cell_type": "code",
   "execution_count": 85,
   "metadata": {
    "collapsed": false
   },
   "outputs": [
    {
     "name": "stderr",
     "output_type": "stream",
     "text": [
      "/home/rodrigo/anaconda2/lib/python2.7/site-packages/ipykernel/__main__.py:1: SettingWithCopyWarning: \n",
      "A value is trying to be set on a copy of a slice from a DataFrame.\n",
      "Try using .loc[row_indexer,col_indexer] = value instead\n",
      "\n",
      "See the caveats in the documentation: http://pandas.pydata.org/pandas-docs/stable/indexing.html#indexing-view-versus-copy\n",
      "  if __name__ == '__main__':\n"
     ]
    }
   ],
   "source": [
    "finde['apariciones'] = finde['start_day_of_week'].map(lambda x: 1) # seteo todas las rows con 1 para despues agrupar\n",
    "horarios_finde = finde[['horario_inicial_float', 'apariciones']]\n",
    "finde = finde.drop('apariciones', 1) # vuelvo a dejar el dt como antes\n",
    "horarios_finde_contador = horarios_finde.groupby('horario_inicial_float').aggregate(sum)"
   ]
  },
  {
   "cell_type": "code",
   "execution_count": 86,
   "metadata": {
    "collapsed": false
   },
   "outputs": [
    {
     "data": {
      "image/png": "[encoded data removed]",
      "text/plain": [
       "<matplotlib.figure.Figure at 0x7f0008241e50>"
      ]
     },
     "metadata": {},
     "output_type": "display_data"
    }
   ],
   "source": [
    "horarios_finde_contador.plot.bar(rot=0, figsize=(10,10), color='green');\n",
    "plt.ylabel('Cantidad de viajes')\n",
    "plt.xlabel('Horario de inicio del viaje')\n",
    "plt.title('Promedio de uso del servicio por horario durante el fin de semana')\n",
    "plt.legend('')\n",
    "plt.show()"
   ]
  },
  {
   "cell_type": "markdown",
   "metadata": {
    "collapsed": true
   },
   "source": [
    "Los horarios pico los fines de semana son de 11 a 16. También lo que se observa es la disminución del uso del servicio al llegar la noche a pesar de que sea fin de semana. En el siguiente plot se va a analizar esa comparación."
   ]
  },
  {
   "cell_type": "code",
   "execution_count": 88,
   "metadata": {
    "collapsed": false
   },
   "outputs": [],
   "source": [
    "viajes_en_hora_pico_finde = finde[((finde['horario_inicial_float'] >= 11) & (finde['horario_inicial_float'] <= 16))]\n",
    "viajes_finde_noche = finde[((finde['horario_inicial_float'] >= 20) & (finde['horario_inicial_float'] < 24))]"
   ]
  },
  {
   "cell_type": "code",
   "execution_count": 89,
   "metadata": {
    "collapsed": false
   },
   "outputs": [
    {
     "data": {
      "image/png": "[encoded data removed]",
      "text/plain": [
       "<matplotlib.figure.Figure at 0x7f00069d5490>"
      ]
     },
     "metadata": {},
     "output_type": "display_data"
    }
   ],
   "source": [
    "sizes = [viajes_en_hora_pico_finde.start_day_of_week.count(), viajes_finde_noche.start_day_of_week.count()]\n",
    "nombres = ['Hora pico', 'Durante la noche']\n",
    "\n",
    "plt.figure(figsize=(6, 6))\n",
    "plt.title('Uso del servicio los fines de semana')\n",
    "plt.pie(sizes, labels=nombres, autopct='%1.1f%%', startangle=20, colors=['orange', 'violet'], explode=(0.1, 0))\n",
    "plt.show()"
   ]
  },
  {
   "cell_type": "markdown",
   "metadata": {
    "collapsed": true
   },
   "source": [
    "## A) Análisis de los horarios importantes\n",
    "### Se analizarán los destinos y trayectos más populares en los horarios críticos de la semana y fin de semana."
   ]
  },
  {
   "cell_type": "code",
   "execution_count": 32,
   "metadata": {
    "collapsed": false
   },
   "outputs": [],
   "source": [
    "viajes_en_hora_pico_semana = semana[((semana['horario_inicial_float'] >= 8) & (semana['horario_inicial_float'] <= 9)) \n",
    "                                   | ((semana['horario_inicial_float'] >= 18) & (semana['horario_inicial_float'] <= 19))]"
   ]
  },
  {
   "cell_type": "code",
   "execution_count": 33,
   "metadata": {
    "collapsed": false
   },
   "outputs": [],
   "source": [
    "destinos_mas_populares_hora_pico_semana = viajes_en_hora_pico_semana['end_station_name'].value_counts().sort_values(ascending=False)\n",
    "destinos_mas_populares_hora_pico_semana = destinos_mas_populares_hora_pico_semana.head(10)"
   ]
  },
  {
   "cell_type": "code",
   "execution_count": 34,
   "metadata": {
    "collapsed": false
   },
   "outputs": [
    {
     "data": {
      "image/png": "[encoded data removed]",
      "text/plain": [
       "<matplotlib.figure.Figure at 0x7f00090cd890>"
      ]
     },
     "metadata": {},
     "output_type": "display_data"
    }
   ],
   "source": [
    "destinos_mas_populares_hora_pico_semana.plot(kind='bar', rot=45, figsize=(20,10));\n",
    "plt.title('Destinos mas populares en hora pico semanal');"
   ]
  },
  {
   "cell_type": "markdown",
   "metadata": {},
   "source": [
    "Estos son los 10 destinos más populares durante las horas pico en la semana. En primer lugar se destaca el Caltrain, donde una gran cantidad de gente se dirige luego de trabajar para regresar a sus casas. Las demás estaciones presentan áreas de mucho movimiento de gente: empresas, comercios, etc, y también se encuentra el puerto, por lo que lo más probable es que la gente se dirija allí para concurrir a trabajar."
   ]
  },
  {
   "cell_type": "code",
   "execution_count": 35,
   "metadata": {
    "collapsed": false
   },
   "outputs": [],
   "source": [
    "# función que dado un dataframe con un campo 'start_station_name' y otro 'end_station_name',\n",
    "# devuelve un diccionario con los start_station como clave y como valor un diccionario con clave el end_station\n",
    "# y valor la cantidad de viajes de ese trayecto. También devuelve una lista con el trayecto con mayor cantidad\n",
    "# de viajes junto con el start y end station del mismo. Orden = O(n) siendo n la cantidad de rows del dataframe.\n",
    "def contador_viajes(dataframe):\n",
    "    cont_viajes = {}\n",
    "    viaje_mas_popular = []\n",
    "    viaje_mas_popular.append(0)\n",
    "    viaje_mas_popular.append(\"\")\n",
    "    viaje_mas_popular.append(\"\")\n",
    "    for index,row in dataframe.iterrows():\n",
    "        \n",
    "        if row['start_station_name'] not in cont_viajes:\n",
    "            cont_viajes[row['start_station_name']] = {}\n",
    "           \n",
    "        if row['end_station_name'] not in cont_viajes[row['start_station_name']]:\n",
    "            cont_viajes[row['start_station_name']][row['end_station_name']] = 1\n",
    "        else:\n",
    "            cont_viajes[row['start_station_name']][row['end_station_name']] += 1\n",
    "        \n",
    "        if cont_viajes[row['start_station_name']][row['end_station_name']] > viaje_mas_popular[0]:\n",
    "            viaje_mas_popular[0] = cont_viajes[row['start_station_name']][row['end_station_name']]\n",
    "            viaje_mas_popular[1] = row['start_station_name']\n",
    "            viaje_mas_popular[2] = row['end_station_name']\n",
    "    \n",
    "    return cont_viajes,viaje_mas_popular"
   ]
  },
  {
   "cell_type": "code",
   "execution_count": 36,
   "metadata": {
    "collapsed": false
   },
   "outputs": [
    {
     "data": {
      "text/plain": [
       "[3014, 'San Francisco Caltrain 2 (330 Townsend)', 'Townsend at 7th']"
      ]
     },
     "execution_count": 36,
     "metadata": {},
     "output_type": "execute_result"
    }
   ],
   "source": [
    "contador_de_viajes_hora_pico_semana,viaje_mas_popular_hora_pico_semana = contador_viajes(viajes_en_hora_pico_semana)\n",
    "viaje_mas_popular_hora_pico_semana"
   ]
  },
  {
   "cell_type": "markdown",
   "metadata": {},
   "source": [
    "Con esto se ve que el viaje más realizado en hora pico durante la semana es el trayecto San Francisco Caltrain 2 (330 Townsend) - Townsend at 7th."
   ]
  },
  {
   "cell_type": "code",
   "execution_count": 37,
   "metadata": {
    "collapsed": false
   },
   "outputs": [],
   "source": [
    "destinos_mas_populares_hora_pico_finde = viajes_en_hora_pico_finde['end_station_name'].value_counts().sort_values(ascending=False)\n",
    "destinos_mas_populares_hora_pico_finde = destinos_mas_populares_hora_pico_finde.head(10)"
   ]
  },
  {
   "cell_type": "code",
   "execution_count": 38,
   "metadata": {
    "collapsed": false,
    "scrolled": false
   },
   "outputs": [
    {
     "data": {
      "image/png": "[encoded data removed]",
      "text/plain": [
       "<matplotlib.figure.Figure at 0x7f00083e91d0>"
      ]
     },
     "metadata": {},
     "output_type": "display_data"
    }
   ],
   "source": [
    "destinos_mas_populares_hora_pico_finde.plot(kind='bar', rot=45, figsize=(20,10));\n",
    "plt.title('Destinos mas populares en hora pico fin de semana');"
   ]
  },
  {
   "cell_type": "markdown",
   "metadata": {
    "collapsed": true
   },
   "source": [
    "Aqui se encuentran los 10 destinos más populares para las horas pico del fin de semana. Se puede apreciar que los mismos se caracterizan por ser lugares muy atractivos para pasear y hacer actividades de ocio."
   ]
  },
  {
   "cell_type": "code",
   "execution_count": 39,
   "metadata": {
    "collapsed": false
   },
   "outputs": [
    {
     "data": {
      "text/plain": [
       "[1068, 'Harry Bridges Plaza (Ferry Building)', 'Embarcadero at Sansome']"
      ]
     },
     "execution_count": 39,
     "metadata": {},
     "output_type": "execute_result"
    }
   ],
   "source": [
    "contador_de_viajes_hora_pico_finde,viaje_mas_popular_hora_pico_finde = contador_viajes(viajes_en_hora_pico_finde)\n",
    "viaje_mas_popular_hora_pico_finde"
   ]
  },
  {
   "cell_type": "markdown",
   "metadata": {
    "collapsed": true
   },
   "source": [
    "Con esto se ve que el viaje más realizado en hora pico durante el fin de semana es el trayecto Harry Bridges Plaza (Ferry Building) - Embarcadero at Sansome. Además estos dos son los destinos más concurridos las horas pico de los fines de semana. Un posible uso de esta información podría ser para fines comerciales, ya que esto da la pauta que por esta zona es donde más concentración de gente se encuentra. "
   ]
  },
  {
   "cell_type": "code",
   "execution_count": 90,
   "metadata": {
    "collapsed": false
   },
   "outputs": [],
   "source": [
    "viernes_y_sab = semana_entera[(semana_entera['start_day_of_week'] == \"Saturday\") | (semana_entera['start_day_of_week'] == \"Friday\")]\n",
    "viernes_y_sab_noche = viernes_y_sab[(viernes_y_sab['horario_inicial_float'] >= 20) & (viernes_y_sab['horario_inicial_float'] < 24)]"
   ]
  },
  {
   "cell_type": "code",
   "execution_count": 91,
   "metadata": {
    "collapsed": false
   },
   "outputs": [],
   "source": [
    "destinos_mas_populares_viernes_y_sab_noche = viernes_y_sab_noche['end_station_name'].value_counts().sort_values(ascending=False)\n",
    "destinos_mas_populares_viernes_y_sab_noche = destinos_mas_populares_viernes_y_sab_noche.head(10)"
   ]
  },
  {
   "cell_type": "code",
   "execution_count": 92,
   "metadata": {
    "collapsed": false
   },
   "outputs": [
    {
     "data": {
      "image/png": "[encoded data removed]",
      "text/plain": [
       "<matplotlib.figure.Figure at 0x7f0009104890>"
      ]
     },
     "metadata": {},
     "output_type": "display_data"
    }
   ],
   "source": [
    "destinos_mas_populares_viernes_y_sab_noche.plot(kind='bar', rot=45, figsize=(20,10));\n",
    "plt.title('Destinos mas populares viernes y sabado por la noche');"
   ]
  },
  {
   "cell_type": "markdown",
   "metadata": {
    "collapsed": true
   },
   "source": [
    "Estos son los destinos más frecuentados los viernes y sábados por la noche. Se analizó aparte del domingo ya que estos son los días que al día siguiente por lo general no se trabaja/concurre a estudiar, por lo que la gente se podría dormir más tarde y planear otro tipo de salida. Se destacan entre los lugares más frecuentados las estaciones Powell Street BART y Market at 4th, las cuales están rodeadas de shoppings, restaurantes y demás."
   ]
  },
  {
   "cell_type": "markdown",
   "metadata": {
    "collapsed": true
   },
   "source": [
    "## B) Análisis relacionado a las duraciones de los viajes\n",
    "### B.1) - ¿Viajes más largos en la semana o el fin de semana?"
   ]
  },
  {
   "cell_type": "code",
   "execution_count": 64,
   "metadata": {
    "collapsed": false
   },
   "outputs": [
    {
     "data": {
      "text/html": [
       "<div>\n",
       "<table border=\"1\" class=\"dataframe\">\n",
       "  <thead>\n",
       "    <tr style=\"text-align: right;\">\n",
       "      <th></th>\n",
       "      <th>start_day_of_week</th>\n",
       "      <th>horario_inicial_float</th>\n",
       "      <th>start_station_name</th>\n",
       "      <th>end_station_name</th>\n",
       "      <th>duracion_viaje</th>\n",
       "      <th>duration</th>\n",
       "    </tr>\n",
       "  </thead>\n",
       "  <tbody>\n",
       "    <tr>\n",
       "      <th>4</th>\n",
       "      <td>Thursday</td>\n",
       "      <td>12.0</td>\n",
       "      <td>South Van Ness at Market</td>\n",
       "      <td>Market at 10th</td>\n",
       "      <td>00:02:00</td>\n",
       "      <td>83</td>\n",
       "    </tr>\n",
       "    <tr>\n",
       "      <th>6</th>\n",
       "      <td>Thursday</td>\n",
       "      <td>13.0</td>\n",
       "      <td>Santa Clara at Almaden</td>\n",
       "      <td>Adobe on Almaden</td>\n",
       "      <td>00:02:00</td>\n",
       "      <td>109</td>\n",
       "    </tr>\n",
       "    <tr>\n",
       "      <th>9</th>\n",
       "      <td>Thursday</td>\n",
       "      <td>11.0</td>\n",
       "      <td>San Jose City Hall</td>\n",
       "      <td>MLK Library</td>\n",
       "      <td>00:02:00</td>\n",
       "      <td>114</td>\n",
       "    </tr>\n",
       "    <tr>\n",
       "      <th>10</th>\n",
       "      <td>Thursday</td>\n",
       "      <td>14.0</td>\n",
       "      <td>Spear at Folsom</td>\n",
       "      <td>Embarcadero at Bryant</td>\n",
       "      <td>00:03:00</td>\n",
       "      <td>125</td>\n",
       "    </tr>\n",
       "    <tr>\n",
       "      <th>11</th>\n",
       "      <td>Thursday</td>\n",
       "      <td>13.0</td>\n",
       "      <td>San Pedro Square</td>\n",
       "      <td>Santa Clara at Almaden</td>\n",
       "      <td>00:02:00</td>\n",
       "      <td>126</td>\n",
       "    </tr>\n",
       "  </tbody>\n",
       "</table>\n",
       "</div>"
      ],
      "text/plain": [
       "   start_day_of_week  horario_inicial_float        start_station_name  \\\n",
       "4           Thursday                   12.0  South Van Ness at Market   \n",
       "6           Thursday                   13.0    Santa Clara at Almaden   \n",
       "9           Thursday                   11.0        San Jose City Hall   \n",
       "10          Thursday                   14.0           Spear at Folsom   \n",
       "11          Thursday                   13.0          San Pedro Square   \n",
       "\n",
       "          end_station_name  duracion_viaje  duration  \n",
       "4           Market at 10th        00:02:00        83  \n",
       "6         Adobe on Almaden        00:02:00       109  \n",
       "9              MLK Library        00:02:00       114  \n",
       "10   Embarcadero at Bryant        00:03:00       125  \n",
       "11  Santa Clara at Almaden        00:02:00       126  "
      ]
     },
     "execution_count": 64,
     "metadata": {},
     "output_type": "execute_result"
    }
   ],
   "source": [
    "semana_entera_con_duracion = trips[['start_day_of_week','horario_inicial_float', 'start_station_name', 'end_station_name','duracion_viaje','duration']].round()\n",
    "semana_entera_con_duracion.head()"
   ]
  },
  {
   "cell_type": "markdown",
   "metadata": {},
   "source": [
    "## ¿Viajes de más de 8 horas de duración?\n",
    "Se pueden esperar viajes muy largos de a lo sumo 8 horas de alguien que decidió recorrer varios puntos de la ciudad y aparte en el medio ir parando, pero ya cuando se excede esto hasta casos que incluso superan un día de uso creemos que hubo datos mal cargados o algún otro problema como la incorrecta devolución de la bicicleta. Por eso se van a filtrar esos viajes."
   ]
  },
  {
   "cell_type": "code",
   "execution_count": 65,
   "metadata": {
    "collapsed": false
   },
   "outputs": [
    {
     "data": {
      "text/html": [
       "<div>\n",
       "<table border=\"1\" class=\"dataframe\">\n",
       "  <thead>\n",
       "    <tr style=\"text-align: right;\">\n",
       "      <th></th>\n",
       "      <th>start_day_of_week</th>\n",
       "      <th>horario_inicial_float</th>\n",
       "      <th>start_station_name</th>\n",
       "      <th>end_station_name</th>\n",
       "      <th>duracion_viaje</th>\n",
       "      <th>duration</th>\n",
       "    </tr>\n",
       "  </thead>\n",
       "  <tbody>\n",
       "    <tr>\n",
       "      <th>743</th>\n",
       "      <td>Thursday</td>\n",
       "      <td>15.0</td>\n",
       "      <td>Mountain View City Hall</td>\n",
       "      <td>Park at Olive</td>\n",
       "      <td>0 days 14:38:00</td>\n",
       "      <td>52698</td>\n",
       "    </tr>\n",
       "    <tr>\n",
       "      <th>744</th>\n",
       "      <td>Thursday</td>\n",
       "      <td>13.0</td>\n",
       "      <td>Market at 4th</td>\n",
       "      <td>Harry Bridges Plaza (Ferry Building)</td>\n",
       "      <td>0 days 23:36:00</td>\n",
       "      <td>84990</td>\n",
       "    </tr>\n",
       "    <tr>\n",
       "      <th>745</th>\n",
       "      <td>Thursday</td>\n",
       "      <td>13.0</td>\n",
       "      <td>Market at 4th</td>\n",
       "      <td>Harry Bridges Plaza (Ferry Building)</td>\n",
       "      <td>0 days 23:43:00</td>\n",
       "      <td>85385</td>\n",
       "    </tr>\n",
       "    <tr>\n",
       "      <th>746</th>\n",
       "      <td>Thursday</td>\n",
       "      <td>21.0</td>\n",
       "      <td>Embarcadero at Folsom</td>\n",
       "      <td>Davis at Jackson</td>\n",
       "      <td>0 days 23:56:00</td>\n",
       "      <td>86102</td>\n",
       "    </tr>\n",
       "    <tr>\n",
       "      <th>747</th>\n",
       "      <td>Thursday</td>\n",
       "      <td>13.0</td>\n",
       "      <td>Mountain View Caltrain Station</td>\n",
       "      <td>Mountain View City Hall</td>\n",
       "      <td>1 days 03:08:00</td>\n",
       "      <td>97713</td>\n",
       "    </tr>\n",
       "  </tbody>\n",
       "</table>\n",
       "</div>"
      ],
      "text/plain": [
       "    start_day_of_week  horario_inicial_float              start_station_name  \\\n",
       "743          Thursday                   15.0         Mountain View City Hall   \n",
       "744          Thursday                   13.0                   Market at 4th   \n",
       "745          Thursday                   13.0                   Market at 4th   \n",
       "746          Thursday                   21.0           Embarcadero at Folsom   \n",
       "747          Thursday                   13.0  Mountain View Caltrain Station   \n",
       "\n",
       "                         end_station_name  duracion_viaje  duration  \n",
       "743                         Park at Olive 0 days 14:38:00     52698  \n",
       "744  Harry Bridges Plaza (Ferry Building) 0 days 23:36:00     84990  \n",
       "745  Harry Bridges Plaza (Ferry Building) 0 days 23:43:00     85385  \n",
       "746                      Davis at Jackson 0 days 23:56:00     86102  \n",
       "747               Mountain View City Hall 1 days 03:08:00     97713  "
      ]
     },
     "execution_count": 65,
     "metadata": {},
     "output_type": "execute_result"
    }
   ],
   "source": [
    "viajes_larguisimos = semana_entera_con_duracion[semana_entera_con_duracion['duracion_viaje'] > \"08:00:00\"]\n",
    "semana_entera_con_duracion = semana_entera_con_duracion[-(semana_entera_con_duracion['duracion_viaje'] > \"08:00:00\")]\n",
    "# hay que hacer semana_entera_con_duracion - viajes_larguisimos para que quede lindo pero requiere un comando (isin o algo asi). \n",
    "# no me salio bien asi que a lo ultimo lo modifico\n",
    "viajes_larguisimos.head()"
   ]
  },
  {
   "cell_type": "code",
   "execution_count": 45,
   "metadata": {
    "collapsed": false
   },
   "outputs": [
    {
     "data": {
      "text/plain": [
       "1884"
      ]
     },
     "execution_count": 45,
     "metadata": {},
     "output_type": "execute_result"
    }
   ],
   "source": [
    "viajes_larguisimos.start_day_of_week.count()"
   ]
  },
  {
   "cell_type": "markdown",
   "metadata": {},
   "source": [
    "Se filtraron unos 1884 viajes."
   ]
  },
  {
   "cell_type": "code",
   "execution_count": 46,
   "metadata": {
    "collapsed": true
   },
   "outputs": [],
   "source": [
    "semana_con_duracion = semana_entera_con_duracion[-(semana_entera_con_duracion['start_day_of_week'] == \"Saturday\")]\n",
    "semana_con_duracion = semana_entera_con_duracion[-(semana_entera_con_duracion['start_day_of_week'] == \"Sunday\")]"
   ]
  },
  {
   "cell_type": "code",
   "execution_count": 47,
   "metadata": {
    "collapsed": true
   },
   "outputs": [],
   "source": [
    "finde_con_duracion = semana_entera_con_duracion[(semana_entera_con_duracion['start_day_of_week'] == \"Saturday\") | (semana_entera_con_duracion['start_day_of_week'] == \"Sunday\")]"
   ]
  },
  {
   "cell_type": "code",
   "execution_count": 48,
   "metadata": {
    "collapsed": false
   },
   "outputs": [
    {
     "data": {
      "text/plain": [
       "13.467938160917344"
      ]
     },
     "execution_count": 48,
     "metadata": {},
     "output_type": "execute_result"
    }
   ],
   "source": [
    "semana_con_duracion.duration.mean() / 60 # resultado en minutos"
   ]
  },
  {
   "cell_type": "code",
   "execution_count": 49,
   "metadata": {
    "collapsed": false
   },
   "outputs": [
    {
     "data": {
      "text/plain": [
       "30.593984232967284"
      ]
     },
     "execution_count": 49,
     "metadata": {},
     "output_type": "execute_result"
    }
   ],
   "source": [
    "finde_con_duracion.duration.mean() / 60 # resultado en minutos"
   ]
  },
  {
   "cell_type": "markdown",
   "metadata": {
    "collapsed": true
   },
   "source": [
    "Los viajes en promedio duran más los fines de semana. Esto tiene lógica ya que los fines de semana la gente puede usar más tiempo para pasear con la bicileta sin tener un destino en particular cuando durante la semana la gente busca ir al trabajo o lugar donde ejercer sus obligaciones.\n",
    "Igualmente hay que considerar que esta estadística podría estar dañada por muchos viajes \"largos\" en el fin de semana, por ejemplo de más de dos horas, que harían subir el promedio general, sin haber tantos viajes con un horario parecido al promedio calculado. A continuación se analizará eso:"
   ]
  },
  {
   "cell_type": "code",
   "execution_count": 50,
   "metadata": {
    "collapsed": false
   },
   "outputs": [
    {
     "data": {
      "text/plain": [
       "8250"
      ]
     },
     "execution_count": 50,
     "metadata": {},
     "output_type": "execute_result"
    }
   ],
   "source": [
    "semana_con_duracion[semana_con_duracion['duracion_viaje'] > \"02:00:00\"].start_day_of_week.count()"
   ]
  },
  {
   "cell_type": "code",
   "execution_count": 51,
   "metadata": {
    "collapsed": false
   },
   "outputs": [
    {
     "data": {
      "text/plain": [
       "4886"
      ]
     },
     "execution_count": 51,
     "metadata": {},
     "output_type": "execute_result"
    }
   ],
   "source": [
    "finde_con_duracion[finde_con_duracion['duracion_viaje'] > \"02:00:00\"].start_day_of_week.count()"
   ]
  },
  {
   "cell_type": "markdown",
   "metadata": {
    "collapsed": true
   },
   "source": [
    "Se observa que tanto en la semana como los fines de semana hay viajes de más de 2 horas, y que ya que la semana tiene más días que el fin de semana y la estadística muestra que son casi el doble de viajes, en promedio esos viajes largos se dan por igual todos los días, por lo que el probema de que haya viajes largos no afecta el resultado de la estadística anterior."
   ]
  },
  {
   "cell_type": "markdown",
   "metadata": {},
   "source": [
    "### B.2) - Trayectos interesantes\n",
    "### A continuación se analizarán los trayectos más frecuentes según un criterio de duración y demás fitros."
   ]
  },
  {
   "cell_type": "code",
   "execution_count": 52,
   "metadata": {
    "collapsed": false
   },
   "outputs": [],
   "source": [
    "finde_viajes_largos = finde_con_duracion[finde_con_duracion['duracion_viaje'] > \"00:30:00\"]"
   ]
  },
  {
   "cell_type": "code",
   "execution_count": 53,
   "metadata": {
    "collapsed": false
   },
   "outputs": [
    {
     "data": {
      "text/plain": [
       "[557,\n",
       " 'Harry Bridges Plaza (Ferry Building)',\n",
       " 'Harry Bridges Plaza (Ferry Building)']"
      ]
     },
     "execution_count": 53,
     "metadata": {},
     "output_type": "execute_result"
    }
   ],
   "source": [
    "contador_de_viajes_largos_finde,viaje_largo_mas_popular_finde = contador_viajes(finde_viajes_largos)\n",
    "viaje_largo_mas_popular_finde"
   ]
  },
  {
   "cell_type": "markdown",
   "metadata": {
    "collapsed": true
   },
   "source": [
    "Con esto se ve que los viajes mayores a 30 minutos los fines de semana son tanto de inicio como fin la estación Harry Bridges Plaza (Ferry Building). El objetivo de este análisis fue encontrar el trayecto más popular de los fines de semana que sea orientado a pasear (por eso el filtro de la duración). El resultado muestra que el viaje más realizado es empezar en dicha estación, recorrer por más de 30 minutos, y luego volver a esta misma dejar la bicicleta."
   ]
  },
  {
   "cell_type": "code",
   "execution_count": 54,
   "metadata": {
    "collapsed": false
   },
   "outputs": [
    {
     "data": {
      "text/html": [
       "<div>\n",
       "<table border=\"1\" class=\"dataframe\">\n",
       "  <thead>\n",
       "    <tr style=\"text-align: right;\">\n",
       "      <th></th>\n",
       "      <th>horario_inicial_float</th>\n",
       "      <th>duracion_viaje</th>\n",
       "      <th>duration</th>\n",
       "    </tr>\n",
       "  </thead>\n",
       "  <tbody>\n",
       "    <tr>\n",
       "      <th>count</th>\n",
       "      <td>557.000000</td>\n",
       "      <td>557</td>\n",
       "      <td>557.000000</td>\n",
       "    </tr>\n",
       "    <tr>\n",
       "      <th>mean</th>\n",
       "      <td>13.199282</td>\n",
       "      <td>0 days 02:33:30.377019</td>\n",
       "      <td>9207.940754</td>\n",
       "    </tr>\n",
       "    <tr>\n",
       "      <th>std</th>\n",
       "      <td>3.028308</td>\n",
       "      <td>0 days 01:45:57.032306</td>\n",
       "      <td>6356.601234</td>\n",
       "    </tr>\n",
       "    <tr>\n",
       "      <th>min</th>\n",
       "      <td>5.000000</td>\n",
       "      <td>0 days 00:31:00</td>\n",
       "      <td>1811.000000</td>\n",
       "    </tr>\n",
       "    <tr>\n",
       "      <th>25%</th>\n",
       "      <td>11.000000</td>\n",
       "      <td>0 days 01:13:00</td>\n",
       "      <td>4364.000000</td>\n",
       "    </tr>\n",
       "    <tr>\n",
       "      <th>50%</th>\n",
       "      <td>13.000000</td>\n",
       "      <td>0 days 01:58:00</td>\n",
       "      <td>7122.000000</td>\n",
       "    </tr>\n",
       "    <tr>\n",
       "      <th>75%</th>\n",
       "      <td>15.000000</td>\n",
       "      <td>0 days 03:51:00</td>\n",
       "      <td>13818.000000</td>\n",
       "    </tr>\n",
       "    <tr>\n",
       "      <th>max</th>\n",
       "      <td>21.000000</td>\n",
       "      <td>0 days 07:56:00</td>\n",
       "      <td>28549.000000</td>\n",
       "    </tr>\n",
       "  </tbody>\n",
       "</table>\n",
       "</div>"
      ],
      "text/plain": [
       "       horario_inicial_float          duracion_viaje      duration\n",
       "count             557.000000                     557    557.000000\n",
       "mean               13.199282  0 days 02:33:30.377019   9207.940754\n",
       "std                 3.028308  0 days 01:45:57.032306   6356.601234\n",
       "min                 5.000000         0 days 00:31:00   1811.000000\n",
       "25%                11.000000         0 days 01:13:00   4364.000000\n",
       "50%                13.000000         0 days 01:58:00   7122.000000\n",
       "75%                15.000000         0 days 03:51:00  13818.000000\n",
       "max                21.000000         0 days 07:56:00  28549.000000"
      ]
     },
     "execution_count": 54,
     "metadata": {},
     "output_type": "execute_result"
    }
   ],
   "source": [
    "harry_harry = finde_viajes_largos[(finde_viajes_largos['start_station_name'] == 'Harry Bridges Plaza (Ferry Building)') & (finde_viajes_largos['end_station_name'] == 'Harry Bridges Plaza (Ferry Building)')]\n",
    "harry_harry.describe()"
   ]
  },
  {
   "cell_type": "markdown",
   "metadata": {},
   "source": [
    "Como se puede apreciar, estos viajes se caracterizan por su duración promedio de 2 horas y media y que en promedio salen a las 13hs. Esto da la pauta de qué elige la mayoría de gente a la hora de pasear por un largo rato aprovechando el clima de recién entrada la tarde."
   ]
  },
  {
   "cell_type": "code",
   "execution_count": 55,
   "metadata": {
    "collapsed": false
   },
   "outputs": [],
   "source": [
    "semana_viajes_cortos = semana_con_duracion[(semana_con_duracion['duracion_viaje'] > \"00:08:00\") & (semana_con_duracion['duracion_viaje'] < \"00:20:00\")]"
   ]
  },
  {
   "cell_type": "code",
   "execution_count": 56,
   "metadata": {
    "collapsed": false
   },
   "outputs": [
    {
     "data": {
      "text/plain": [
       "[3247, 'Steuart at Market', 'San Francisco Caltrain (Townsend at 4th)']"
      ]
     },
     "execution_count": 56,
     "metadata": {},
     "output_type": "execute_result"
    }
   ],
   "source": [
    "contador_de_viajes_cortos_semana,viaje_corto_mas_popular_semana = contador_viajes(semana_viajes_cortos)\n",
    "viaje_corto_mas_popular_semana"
   ]
  },
  {
   "cell_type": "code",
   "execution_count": 57,
   "metadata": {
    "collapsed": false
   },
   "outputs": [
    {
     "data": {
      "text/html": [
       "<div>\n",
       "<table border=\"1\" class=\"dataframe\">\n",
       "  <thead>\n",
       "    <tr style=\"text-align: right;\">\n",
       "      <th></th>\n",
       "      <th>horario_inicial_float</th>\n",
       "      <th>duracion_viaje</th>\n",
       "      <th>duration</th>\n",
       "    </tr>\n",
       "  </thead>\n",
       "  <tbody>\n",
       "    <tr>\n",
       "      <th>count</th>\n",
       "      <td>3247.000000</td>\n",
       "      <td>3247</td>\n",
       "      <td>3247.000000</td>\n",
       "    </tr>\n",
       "    <tr>\n",
       "      <th>mean</th>\n",
       "      <td>14.825685</td>\n",
       "      <td>0 days 00:11:38.158299</td>\n",
       "      <td>697.412073</td>\n",
       "    </tr>\n",
       "    <tr>\n",
       "      <th>std</th>\n",
       "      <td>3.959800</td>\n",
       "      <td>0 days 00:01:58.426460</td>\n",
       "      <td>116.468743</td>\n",
       "    </tr>\n",
       "    <tr>\n",
       "      <th>min</th>\n",
       "      <td>0.000000</td>\n",
       "      <td>0 days 00:09:00</td>\n",
       "      <td>486.000000</td>\n",
       "    </tr>\n",
       "    <tr>\n",
       "      <th>25%</th>\n",
       "      <td>14.000000</td>\n",
       "      <td>0 days 00:10:00</td>\n",
       "      <td>615.000000</td>\n",
       "    </tr>\n",
       "    <tr>\n",
       "      <th>50%</th>\n",
       "      <td>16.000000</td>\n",
       "      <td>0 days 00:11:00</td>\n",
       "      <td>673.000000</td>\n",
       "    </tr>\n",
       "    <tr>\n",
       "      <th>75%</th>\n",
       "      <td>17.000000</td>\n",
       "      <td>0 days 00:13:00</td>\n",
       "      <td>757.000000</td>\n",
       "    </tr>\n",
       "    <tr>\n",
       "      <th>max</th>\n",
       "      <td>23.000000</td>\n",
       "      <td>0 days 00:19:00</td>\n",
       "      <td>1182.000000</td>\n",
       "    </tr>\n",
       "  </tbody>\n",
       "</table>\n",
       "</div>"
      ],
      "text/plain": [
       "       horario_inicial_float          duracion_viaje     duration\n",
       "count            3247.000000                    3247  3247.000000\n",
       "mean               14.825685  0 days 00:11:38.158299   697.412073\n",
       "std                 3.959800  0 days 00:01:58.426460   116.468743\n",
       "min                 0.000000         0 days 00:09:00   486.000000\n",
       "25%                14.000000         0 days 00:10:00   615.000000\n",
       "50%                16.000000         0 days 00:11:00   673.000000\n",
       "75%                17.000000         0 days 00:13:00   757.000000\n",
       "max                23.000000         0 days 00:19:00  1182.000000"
      ]
     },
     "execution_count": 57,
     "metadata": {},
     "output_type": "execute_result"
    }
   ],
   "source": [
    "steuart_caltrain = semana_viajes_cortos[(semana_viajes_cortos['start_station_name'] == 'Steuart at Market') & (semana_viajes_cortos['end_station_name'] == 'San Francisco Caltrain (Townsend at 4th)')]\n",
    "steuart_caltrain.describe()"
   ]
  },
  {
   "cell_type": "markdown",
   "metadata": {},
   "source": [
    "Con esto se ve que el viaje entre 8 y 20 minutos más popular los días de semana es el trayecto Steuart at Market - San Francisco Caltrain (Townsend at 4th). El objetivo de este análisis fue encontrar el trayecto con una duración normal que más se haga considerando el tráfico que presenta un día semanal. Una posible conclusión debido a la hora promedio de comienzo de los viajes (15hs) es que la gente al terminar de trabajar se dirige desde Steuart at Market (un lugar con mucho movimiento por lo que deducimos que mucha gente trabaja por esa zona) en bicicleta hasta el Caltrain, y toma este transporte para volver a sus casas."
   ]
  },
  {
   "cell_type": "code",
   "execution_count": null,
   "metadata": {
    "collapsed": false
   },
   "outputs": [],
   "source": []
  },
  {
   "cell_type": "code",
   "execution_count": null,
   "metadata": {
    "collapsed": true
   },
   "outputs": [],
   "source": []
  },
  {
   "cell_type": "code",
   "execution_count": null,
   "metadata": {
    "collapsed": true
   },
   "outputs": [],
   "source": []
  },
  {
   "cell_type": "code",
   "execution_count": null,
   "metadata": {
    "collapsed": true
   },
   "outputs": [],
   "source": []
  },
  {
   "cell_type": "code",
   "execution_count": null,
   "metadata": {
    "collapsed": true
   },
   "outputs": [],
   "source": []
  },
  {
   "cell_type": "code",
   "execution_count": null,
   "metadata": {
    "collapsed": true
   },
   "outputs": [],
   "source": []
  },
  {
   "cell_type": "code",
   "execution_count": 58,
   "metadata": {
    "collapsed": true
   },
   "outputs": [],
   "source": [
    "# estadisticas meses: \n",
    "# como afecta que sean vacaciones (cualquier tipo de vacaciones) (comparar con cantidad de viajes y con lo que ya hice de dias con mas viajes y horas pico)\n",
    "# como afecta que sea feriado en comparacion a un dia promedio\n",
    "\n",
    "# estadisticas años:\n",
    "# año con mas viajes (crece ascendentemente el servicio?)"
   ]
  },
  {
   "cell_type": "code",
   "execution_count": 59,
   "metadata": {
    "collapsed": true
   },
   "outputs": [],
   "source": [
    "# cuántas bicicletas hay disponibles para alquilar (está en el finger 1)"
   ]
  },
  {
   "cell_type": "code",
   "execution_count": null,
   "metadata": {
    "collapsed": true
   },
   "outputs": [],
   "source": []
  }
 ],
 "metadata": {
  "kernelspec": {
   "display_name": "Python 2",
   "language": "python",
   "name": "python2"
  },
  "language_info": {
   "codemirror_mode": {
    "name": "ipython",
    "version": 2
   },
   "file_extension": ".py",
   "mimetype": "text/x-python",
   "name": "python",
   "nbconvert_exporter": "python",
   "pygments_lexer": "ipython2",
   "version": "2.7.13"
  }
 },
 "nbformat": 4,
 "nbformat_minor": 2
}
